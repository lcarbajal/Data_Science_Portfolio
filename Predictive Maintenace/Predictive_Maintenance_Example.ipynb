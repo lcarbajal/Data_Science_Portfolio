{
 "cells": [
  {
   "cell_type": "markdown",
   "metadata": {},
   "source": [
    "# Work Sample: Predictive Maintenance\n",
    "\n",
    "### Author: Leopoldo Carbajal (leo.carbajalg@gmail.com)\n",
    "\n",
    "## EC2 instance description:\n",
    "\n",
    "Jupyter Notebook run on Anaconda environment with Python 3 on a c5.4xlarge EC2 instance."
   ]
  },
  {
   "cell_type": "code",
   "execution_count": 1,
   "metadata": {},
   "outputs": [
    {
     "name": "stdout",
     "output_type": "stream",
     "text": [
      "Platform description:\n",
      "uname_result(system='Linux', node='ip-172-31-14-145', release='4.14.171-105.231.amzn1.x86_64', version='#1 SMP Thu Feb 27 23:49:15 UTC 2020', machine='x86_64', processor='x86_64') \n",
      "\n",
      "Number of cores used in parallel computations:  16\n"
     ]
    }
   ],
   "source": [
    "import platform\n",
    "import multiprocessing\n",
    "\n",
    "print(\"Platform description:\")\n",
    "print(platform.uname(), \"\\n\")\n",
    "print(\"Number of cores used in parallel computations: \", multiprocessing.cpu_count())"
   ]
  },
  {
   "cell_type": "markdown",
   "metadata": {},
   "source": [
    "## Sumary:\n",
    "\n",
    "A machine learning (ML) model for predictive maintenance [**with an accuracy of up to 88% for predicting device failure**](#best_model) has been developed using historical telemetry data of a fleet of devices of **COMPANY XYZ**. **Sub-sampling methods together with feature selection and fine-tuning of model parameters give the best model with higher accuracy for predicting both device failure and non-failure**.\n",
    "\n",
    "First, a [detailed analysis](#data_analysis) of the raw data is presented. It is found that the data is imbalanced, meaning that there are fewer data about failing devices than non-failing devices.\n",
    "\n",
    "Then, a section where the data is [cleaned and transformed](#data_transformation) to be used in a machine learning algorithm, that is, the data is split in training and test subsets.\n",
    "\n",
    "A whole section is devoted to [implement and test different ML algorithms](#ML_algorithms), all based on a Random Forest Classifier (RFC). Different [metrics for measuring their performance](#metrics) are implemented and explained. It is found that [RFCs using under-sampling methods for data balancing](#balanced_RFC) show superior performance, increasing accuracy in predicting device failure. Two more strategies are used to further improve RFCs performance, namely:\n",
    "\n",
    "1. [Feature selection](#feature_selection)\n",
    "2. [Hyperparameter optimization](#random_search_CV)\n",
    "\n",
    "A [comparison between the above ML algorithms](#comparison) is presented, and the best performing model identified.\n",
    "\n",
    "Finally, all the above is put together to perform a [cross-validation analysis to find the best RFC](#best_model) with the higher accuracy in failure prediction for a given forecast period.\n",
    "\n",
    "## Implementation:\n",
    "\n",
    "A detailed explanation on the implementation of the predictive maintenance model is presented in the cells below. Python functions used along the entire notebook are implemented as they are being needed.\n",
    "\n",
    "First, in the cell below we load all the python libraries that will be used in the notebook."
   ]
  },
  {
   "cell_type": "code",
   "execution_count": 2,
   "metadata": {},
   "outputs": [
    {
     "name": "stdout",
     "output_type": "stream",
     "text": [
      "CONFIGURATION:\n",
      "Numpy version: 1.18.1\n",
      "Pandas version: 1.0.3\n",
      "Matplotlib version: 3.1.3\n",
      "Scikit-learn version: 0.22.1\n"
     ]
    }
   ],
   "source": [
    "# PYTHON LIBRARIES\n",
    "# Standard libraries\n",
    "import numpy as np\n",
    "import pandas as pd\n",
    "from pandas.api.types import CategoricalDtype\n",
    "import time as t\n",
    "from datetime import datetime\n",
    "from datetime import timezone\n",
    "from IPython.display import HTML, display, Image\n",
    "from tqdm.notebook import tqdm\n",
    "\n",
    "# Scikit-learn\n",
    "import sklearn as sk\n",
    "from sklearn import tree \n",
    "from sklearn.ensemble import RandomForestClassifier\n",
    "from imblearn.ensemble import BalancedRandomForestClassifier\n",
    "from sklearn.model_selection import train_test_split\n",
    "from sklearn.ensemble import RandomForestClassifier\n",
    "from sklearn.model_selection import RandomizedSearchCV\n",
    "from sklearn.feature_selection import chi2\n",
    "from sklearn.feature_selection import SelectKBest\n",
    "from sklearn.feature_selection import chi2\n",
    "from sklearn.feature_selection import VarianceThreshold\n",
    "from sklearn.metrics import precision_recall_curve, roc_curve, confusion_matrix, plot_confusion_matrix\n",
    "from sklearn.metrics import recall_score, roc_auc_score, balanced_accuracy_score\n",
    "\n",
    "# Matplotlib\n",
    "import matplotlib as mplt\n",
    "import matplotlib.pyplot as plt\n",
    "from matplotlib import cm\n",
    "%matplotlib inline\n",
    "\n",
    "print(\"CONFIGURATION:\")\n",
    "print(\"Numpy version:\", np.__version__)\n",
    "print(\"Pandas version:\", pd.__version__)\n",
    "print(\"Matplotlib version:\", mplt.__version__)\n",
    "print(\"Scikit-learn version:\", sk.__version__)\n",
    "\n",
    "pd.set_option('max_columns',500)\n",
    "pd.set_option('max_rows',500)"
   ]
  },
  {
   "cell_type": "markdown",
   "metadata": {},
   "source": [
    "---\n",
    "## Metadata\n",
    "\n",
    "A useful way of keeping important information about how the predictive model is implemented is through the use of a python dictionary that keeps important information. This, can later be used to summarize how we proceeded during model implementation and during debugging. We call this dictionary `metadata`. In the cell below is created and in the following cells information is added as needed."
   ]
  },
  {
   "cell_type": "code",
   "execution_count": 3,
   "metadata": {},
   "outputs": [],
   "source": [
    "metadata = dict()"
   ]
  },
  {
   "cell_type": "markdown",
   "metadata": {},
   "source": [
    "---\n",
    "## Data Loading\n",
    "\n",
    "We load the telemetry data from the original csv file to a [Pandas DataFrame](https://pandas.pydata.org/) named `raw_data` using the `read_csv` function. The appropriate enconding scheme is used to load the data."
   ]
  },
  {
   "cell_type": "code",
   "execution_count": 4,
   "metadata": {},
   "outputs": [
    {
     "data": {
      "text/html": [
       "<table border=\"1\" class=\"dataframe\">\n",
       "  <thead>\n",
       "    <tr style=\"text-align: right;\">\n",
       "      <th></th>\n",
       "      <th>date</th>\n",
       "      <th>device</th>\n",
       "      <th>failure</th>\n",
       "      <th>attribute1</th>\n",
       "      <th>attribute2</th>\n",
       "      <th>attribute3</th>\n",
       "      <th>attribute4</th>\n",
       "      <th>attribute5</th>\n",
       "      <th>attribute6</th>\n",
       "      <th>attribute7</th>\n",
       "      <th>attribute8</th>\n",
       "      <th>attribute9</th>\n",
       "    </tr>\n",
       "  </thead>\n",
       "  <tbody>\n",
       "    <tr>\n",
       "      <th>0</th>\n",
       "      <td>2015-01-01</td>\n",
       "      <td>S1F01085</td>\n",
       "      <td>0</td>\n",
       "      <td>215630672</td>\n",
       "      <td>56</td>\n",
       "      <td>0</td>\n",
       "      <td>52</td>\n",
       "      <td>6</td>\n",
       "      <td>407438</td>\n",
       "      <td>0</td>\n",
       "      <td>0</td>\n",
       "      <td>7</td>\n",
       "    </tr>\n",
       "    <tr>\n",
       "      <th>1</th>\n",
       "      <td>2015-01-01</td>\n",
       "      <td>S1F0166B</td>\n",
       "      <td>0</td>\n",
       "      <td>61370680</td>\n",
       "      <td>0</td>\n",
       "      <td>3</td>\n",
       "      <td>0</td>\n",
       "      <td>6</td>\n",
       "      <td>403174</td>\n",
       "      <td>0</td>\n",
       "      <td>0</td>\n",
       "      <td>0</td>\n",
       "    </tr>\n",
       "    <tr>\n",
       "      <th>2</th>\n",
       "      <td>2015-01-01</td>\n",
       "      <td>S1F01E6Y</td>\n",
       "      <td>0</td>\n",
       "      <td>173295968</td>\n",
       "      <td>0</td>\n",
       "      <td>0</td>\n",
       "      <td>0</td>\n",
       "      <td>12</td>\n",
       "      <td>237394</td>\n",
       "      <td>0</td>\n",
       "      <td>0</td>\n",
       "      <td>0</td>\n",
       "    </tr>\n",
       "    <tr>\n",
       "      <th>3</th>\n",
       "      <td>2015-01-01</td>\n",
       "      <td>S1F01JE0</td>\n",
       "      <td>0</td>\n",
       "      <td>79694024</td>\n",
       "      <td>0</td>\n",
       "      <td>0</td>\n",
       "      <td>0</td>\n",
       "      <td>6</td>\n",
       "      <td>410186</td>\n",
       "      <td>0</td>\n",
       "      <td>0</td>\n",
       "      <td>0</td>\n",
       "    </tr>\n",
       "    <tr>\n",
       "      <th>4</th>\n",
       "      <td>2015-01-01</td>\n",
       "      <td>S1F01R2B</td>\n",
       "      <td>0</td>\n",
       "      <td>135970480</td>\n",
       "      <td>0</td>\n",
       "      <td>0</td>\n",
       "      <td>0</td>\n",
       "      <td>15</td>\n",
       "      <td>313173</td>\n",
       "      <td>0</td>\n",
       "      <td>0</td>\n",
       "      <td>3</td>\n",
       "    </tr>\n",
       "  </tbody>\n",
       "</table>"
      ],
      "text/plain": [
       "<IPython.core.display.HTML object>"
      ]
     },
     "metadata": {},
     "output_type": "display_data"
    },
    {
     "name": "stdout",
     "output_type": "stream",
     "text": [
      "Number of records in dataset:  124494\n"
     ]
    }
   ],
   "source": [
    "metadata['file_name'] = \"data.csv\"\n",
    "\n",
    "raw_data = pd.read_csv(metadata['file_name'], encoding = \"ISO-8859-1\")\n",
    "\n",
    "metadata['number_of_records'] = raw_data.shape[0]\n",
    "\n",
    "display( HTML( raw_data.head(5).to_html() ) )\n",
    "\n",
    "print(\"Number of records in dataset: \", metadata['number_of_records'])"
   ]
  },
  {
   "cell_type": "markdown",
   "metadata": {},
   "source": [
    "<a id='data_analysis'></a>"
   ]
  },
  {
   "cell_type": "markdown",
   "metadata": {},
   "source": [
    "---\n",
    "## Data analysis\n",
    "\n",
    "Now, we perform an analysis of the raw telemetry data. From the cell above, we confirm that the dataset is made of 12 columns:\n",
    "\n",
    "1. date: the date the telemetry data is obtained.\n",
    "2. device: ID of each device\n",
    "3. failure: integer flag for indicating device failure (1) or non-failure (0)  \n",
    "4. attribute1 to attribute9: telemetry values\n",
    "\n",
    "In the cell below, a quick search for NULLS is performed:"
   ]
  },
  {
   "cell_type": "code",
   "execution_count": 5,
   "metadata": {},
   "outputs": [
    {
     "data": {
      "text/plain": [
       "date          0\n",
       "device        0\n",
       "failure       0\n",
       "attribute1    0\n",
       "attribute2    0\n",
       "attribute3    0\n",
       "attribute4    0\n",
       "attribute5    0\n",
       "attribute6    0\n",
       "attribute7    0\n",
       "attribute8    0\n",
       "attribute9    0\n",
       "dtype: int64"
      ]
     },
     "execution_count": 5,
     "metadata": {},
     "output_type": "execute_result"
    }
   ],
   "source": [
    "# We keep the number of attributed in the metadata\n",
    "metadata['num_attributes'] = 9\n",
    "\n",
    "# Brief analysis of NULLs\n",
    "raw_data.isnull().sum(axis=0)"
   ]
  },
  {
   "cell_type": "markdown",
   "metadata": {},
   "source": [
    "**No nulls are found in the original dataset**.\n",
    "\n",
    "Then, we identify which devices have failed and those working normally:"
   ]
  },
  {
   "cell_type": "code",
   "execution_count": 6,
   "metadata": {},
   "outputs": [
    {
     "name": "stdout",
     "output_type": "stream",
     "text": [
      "Number of devices:  1169\n",
      "Number of failing devices in dataset:  106 (9.07% of total devices)\n",
      "Number of working devices in dataset: 1063 (90.93% of total devices)\n"
     ]
    }
   ],
   "source": [
    "# we keep a list with the IDs of the failing devices for further analysis\n",
    "failing_devices = raw_data[raw_data['failure'] == 1]['device'].unique().tolist()\n",
    "working_devices = raw_data[~raw_data['device'].isin(failing_devices)]['device'].unique().tolist()\n",
    "\n",
    "# Number of different devices\n",
    "metadata['devices'] = raw_data['device'].unique()\n",
    "metadata['number_of_devices'] = len(metadata['devices'])\n",
    "\n",
    "print(\"Number of devices: \", metadata['number_of_devices'])\n",
    "print(\"Number of failing devices in dataset: %4d (%3.2f%% of total devices)\" % (len(failing_devices), 100.0*len(failing_devices)/metadata['number_of_devices']))\n",
    "print(\"Number of working devices in dataset: %4d (%3.2f%% of total devices)\" % (len(working_devices), 100.0*len(working_devices)/metadata['number_of_devices']))"
   ]
  },
  {
   "cell_type": "markdown",
   "metadata": {},
   "source": [
    "The above analysis tells us about an **imbalanced dataset**, also known as **class imbalance problem**, containing approximately 90% of non-failing devices, and only about 9% of failing devices. This needs to be taken into account when implementing the ML algorithms.\n",
    "\n",
    "For easier use of the data, we set the device ID as the indices of `raw_data`:"
   ]
  },
  {
   "cell_type": "code",
   "execution_count": 7,
   "metadata": {},
   "outputs": [
    {
     "data": {
      "text/html": [
       "<table border=\"1\" class=\"dataframe\">\n",
       "  <thead>\n",
       "    <tr style=\"text-align: right;\">\n",
       "      <th></th>\n",
       "      <th>date</th>\n",
       "      <th>failure</th>\n",
       "      <th>attribute1</th>\n",
       "      <th>attribute2</th>\n",
       "      <th>attribute3</th>\n",
       "      <th>attribute4</th>\n",
       "      <th>attribute5</th>\n",
       "      <th>attribute6</th>\n",
       "      <th>attribute7</th>\n",
       "      <th>attribute8</th>\n",
       "      <th>attribute9</th>\n",
       "    </tr>\n",
       "    <tr>\n",
       "      <th>device</th>\n",
       "      <th></th>\n",
       "      <th></th>\n",
       "      <th></th>\n",
       "      <th></th>\n",
       "      <th></th>\n",
       "      <th></th>\n",
       "      <th></th>\n",
       "      <th></th>\n",
       "      <th></th>\n",
       "      <th></th>\n",
       "      <th></th>\n",
       "    </tr>\n",
       "  </thead>\n",
       "  <tbody>\n",
       "    <tr>\n",
       "      <th>S1F01085</th>\n",
       "      <td>2015-01-01</td>\n",
       "      <td>0</td>\n",
       "      <td>215630672</td>\n",
       "      <td>56</td>\n",
       "      <td>0</td>\n",
       "      <td>52</td>\n",
       "      <td>6</td>\n",
       "      <td>407438</td>\n",
       "      <td>0</td>\n",
       "      <td>0</td>\n",
       "      <td>7</td>\n",
       "    </tr>\n",
       "    <tr>\n",
       "      <th>S1F0166B</th>\n",
       "      <td>2015-01-01</td>\n",
       "      <td>0</td>\n",
       "      <td>61370680</td>\n",
       "      <td>0</td>\n",
       "      <td>3</td>\n",
       "      <td>0</td>\n",
       "      <td>6</td>\n",
       "      <td>403174</td>\n",
       "      <td>0</td>\n",
       "      <td>0</td>\n",
       "      <td>0</td>\n",
       "    </tr>\n",
       "    <tr>\n",
       "      <th>S1F01E6Y</th>\n",
       "      <td>2015-01-01</td>\n",
       "      <td>0</td>\n",
       "      <td>173295968</td>\n",
       "      <td>0</td>\n",
       "      <td>0</td>\n",
       "      <td>0</td>\n",
       "      <td>12</td>\n",
       "      <td>237394</td>\n",
       "      <td>0</td>\n",
       "      <td>0</td>\n",
       "      <td>0</td>\n",
       "    </tr>\n",
       "    <tr>\n",
       "      <th>S1F01JE0</th>\n",
       "      <td>2015-01-01</td>\n",
       "      <td>0</td>\n",
       "      <td>79694024</td>\n",
       "      <td>0</td>\n",
       "      <td>0</td>\n",
       "      <td>0</td>\n",
       "      <td>6</td>\n",
       "      <td>410186</td>\n",
       "      <td>0</td>\n",
       "      <td>0</td>\n",
       "      <td>0</td>\n",
       "    </tr>\n",
       "    <tr>\n",
       "      <th>S1F01R2B</th>\n",
       "      <td>2015-01-01</td>\n",
       "      <td>0</td>\n",
       "      <td>135970480</td>\n",
       "      <td>0</td>\n",
       "      <td>0</td>\n",
       "      <td>0</td>\n",
       "      <td>15</td>\n",
       "      <td>313173</td>\n",
       "      <td>0</td>\n",
       "      <td>0</td>\n",
       "      <td>3</td>\n",
       "    </tr>\n",
       "  </tbody>\n",
       "</table>"
      ],
      "text/plain": [
       "<IPython.core.display.HTML object>"
      ]
     },
     "metadata": {},
     "output_type": "display_data"
    }
   ],
   "source": [
    "# We use the device ID as the new index of the dataframe for simplicity\n",
    "raw_data.set_index(keys='device', \n",
    "                   drop=True,\n",
    "                   inplace=True,\n",
    "                   verify_integrity=False\n",
    "                  )\n",
    "\n",
    "display( HTML( raw_data.head(5).to_html() ) )"
   ]
  },
  {
   "cell_type": "markdown",
   "metadata": {},
   "source": [
    "Next, we check for missing days of telemetry data. For this, we cast the date to numpy `datetime64` type:"
   ]
  },
  {
   "cell_type": "code",
   "execution_count": 8,
   "metadata": {},
   "outputs": [
    {
     "data": {
      "text/html": [
       "<table border=\"1\" class=\"dataframe\">\n",
       "  <thead>\n",
       "    <tr style=\"text-align: right;\">\n",
       "      <th></th>\n",
       "      <th>failure</th>\n",
       "      <th>attribute1</th>\n",
       "      <th>attribute2</th>\n",
       "      <th>attribute3</th>\n",
       "      <th>attribute4</th>\n",
       "      <th>attribute5</th>\n",
       "      <th>attribute6</th>\n",
       "      <th>attribute7</th>\n",
       "      <th>attribute8</th>\n",
       "      <th>attribute9</th>\n",
       "      <th>DATE</th>\n",
       "    </tr>\n",
       "    <tr>\n",
       "      <th>device</th>\n",
       "      <th></th>\n",
       "      <th></th>\n",
       "      <th></th>\n",
       "      <th></th>\n",
       "      <th></th>\n",
       "      <th></th>\n",
       "      <th></th>\n",
       "      <th></th>\n",
       "      <th></th>\n",
       "      <th></th>\n",
       "      <th></th>\n",
       "    </tr>\n",
       "  </thead>\n",
       "  <tbody>\n",
       "    <tr>\n",
       "      <th>S1F11G2C</th>\n",
       "      <td>0</td>\n",
       "      <td>14858840</td>\n",
       "      <td>0</td>\n",
       "      <td>0</td>\n",
       "      <td>0</td>\n",
       "      <td>16</td>\n",
       "      <td>344477</td>\n",
       "      <td>0</td>\n",
       "      <td>0</td>\n",
       "      <td>0</td>\n",
       "      <td>2015-05-06</td>\n",
       "    </tr>\n",
       "    <tr>\n",
       "      <th>S1F12ZRR</th>\n",
       "      <td>0</td>\n",
       "      <td>196146304</td>\n",
       "      <td>0</td>\n",
       "      <td>0</td>\n",
       "      <td>0</td>\n",
       "      <td>8</td>\n",
       "      <td>257626</td>\n",
       "      <td>0</td>\n",
       "      <td>0</td>\n",
       "      <td>0</td>\n",
       "      <td>2015-06-13</td>\n",
       "    </tr>\n",
       "    <tr>\n",
       "      <th>Z1F14BGY</th>\n",
       "      <td>0</td>\n",
       "      <td>227785872</td>\n",
       "      <td>0</td>\n",
       "      <td>0</td>\n",
       "      <td>0</td>\n",
       "      <td>8</td>\n",
       "      <td>204434</td>\n",
       "      <td>0</td>\n",
       "      <td>0</td>\n",
       "      <td>0</td>\n",
       "      <td>2015-05-07</td>\n",
       "    </tr>\n",
       "    <tr>\n",
       "      <th>S1F0S387</th>\n",
       "      <td>0</td>\n",
       "      <td>148241408</td>\n",
       "      <td>0</td>\n",
       "      <td>2</td>\n",
       "      <td>0</td>\n",
       "      <td>12</td>\n",
       "      <td>270771</td>\n",
       "      <td>0</td>\n",
       "      <td>0</td>\n",
       "      <td>34</td>\n",
       "      <td>2015-02-21</td>\n",
       "    </tr>\n",
       "    <tr>\n",
       "      <th>S1F136FG</th>\n",
       "      <td>0</td>\n",
       "      <td>26898280</td>\n",
       "      <td>0</td>\n",
       "      <td>0</td>\n",
       "      <td>0</td>\n",
       "      <td>12</td>\n",
       "      <td>240448</td>\n",
       "      <td>0</td>\n",
       "      <td>0</td>\n",
       "      <td>0</td>\n",
       "      <td>2015-01-31</td>\n",
       "    </tr>\n",
       "  </tbody>\n",
       "</table>"
      ],
      "text/plain": [
       "<IPython.core.display.HTML object>"
      ]
     },
     "metadata": {},
     "output_type": "display_data"
    }
   ],
   "source": [
    "raw_data['DATE'] = pd.to_datetime(arg=raw_data['date'],\n",
    "                                  yearfirst=True,\n",
    "                                  errors='coerce'\n",
    "                                 )\n",
    "raw_data.drop(labels='date',\n",
    "              axis=1,\n",
    "              inplace=True\n",
    "             )\n",
    "                                  \n",
    "display( HTML( raw_data.sample(5).to_html() ) )"
   ]
  },
  {
   "cell_type": "markdown",
   "metadata": {},
   "source": [
    "In the cell below we calculate the days of telemetry data of each device in the original dataset, and find out whether there are missing days of data or not. For this, we find the newest (`NEWEST_DATE`) and oldest (`OLDEST_DATE`) date in the dataset for each device. Using these dates, we calculate the days in that period of time (`DAYS_IN_PERIOD`) and compare it against the actual days of telemetry data for a given device (`DAYS_OF_DATA`). If for a given device `DAYS_OF_DATA` is less than `DAYS_IN_PERIOD`, then there are missing days of data for that device `MISSING_DAYS = True`, otherwise `MISSING_DAYS = False`.\n",
    "\n",
    "The information of this analysis is kept in a DataFrame named `data_analysis`, which is used throughout the notebook."
   ]
  },
  {
   "cell_type": "code",
   "execution_count": 9,
   "metadata": {
    "scrolled": true
   },
   "outputs": [
    {
     "data": {
      "application/vnd.jupyter.widget-view+json": {
       "model_id": "0958ca40af5a40c78ac7777c1783abb7",
       "version_major": 2,
       "version_minor": 0
      },
      "text/plain": [
       "HBox(children=(FloatProgress(value=0.0, max=1169.0), HTML(value='')))"
      ]
     },
     "metadata": {},
     "output_type": "display_data"
    },
    {
     "name": "stdout",
     "output_type": "stream",
     "text": [
      "\n",
      "Number of working devices with missing days of data:   158\n",
      "Number of working devices with missing days of data:    15\n"
     ]
    },
    {
     "data": {
      "text/html": [
       "<table border=\"1\" class=\"dataframe\">\n",
       "  <thead>\n",
       "    <tr style=\"text-align: right;\">\n",
       "      <th></th>\n",
       "      <th>FAILURE</th>\n",
       "      <th>NEWEST_DATE</th>\n",
       "      <th>OLDEST_DATE</th>\n",
       "      <th>DAYS_OF_DATA</th>\n",
       "      <th>DAYS_IN_PERIOD</th>\n",
       "      <th>MISSING_DAYS</th>\n",
       "    </tr>\n",
       "  </thead>\n",
       "  <tbody>\n",
       "    <tr>\n",
       "      <th>S1F01085</th>\n",
       "      <td>0</td>\n",
       "      <td>2015-01-06 00:00:00</td>\n",
       "      <td>2015-01-01 00:00:00</td>\n",
       "      <td>6</td>\n",
       "      <td>6</td>\n",
       "      <td>False</td>\n",
       "    </tr>\n",
       "    <tr>\n",
       "      <th>S1F0166B</th>\n",
       "      <td>0</td>\n",
       "      <td>2015-01-06 00:00:00</td>\n",
       "      <td>2015-01-01 00:00:00</td>\n",
       "      <td>6</td>\n",
       "      <td>6</td>\n",
       "      <td>False</td>\n",
       "    </tr>\n",
       "    <tr>\n",
       "      <th>S1F01E6Y</th>\n",
       "      <td>0</td>\n",
       "      <td>2015-02-17 00:00:00</td>\n",
       "      <td>2015-01-01 00:00:00</td>\n",
       "      <td>48</td>\n",
       "      <td>48</td>\n",
       "      <td>False</td>\n",
       "    </tr>\n",
       "    <tr>\n",
       "      <th>S1F01JE0</th>\n",
       "      <td>0</td>\n",
       "      <td>2015-01-06 00:00:00</td>\n",
       "      <td>2015-01-01 00:00:00</td>\n",
       "      <td>6</td>\n",
       "      <td>6</td>\n",
       "      <td>False</td>\n",
       "    </tr>\n",
       "    <tr>\n",
       "      <th>S1F01R2B</th>\n",
       "      <td>0</td>\n",
       "      <td>2015-08-24 00:00:00</td>\n",
       "      <td>2015-01-01 00:00:00</td>\n",
       "      <td>223</td>\n",
       "      <td>236</td>\n",
       "      <td>True</td>\n",
       "    </tr>\n",
       "  </tbody>\n",
       "</table>"
      ],
      "text/plain": [
       "<IPython.core.display.HTML object>"
      ]
     },
     "metadata": {},
     "output_type": "display_data"
    }
   ],
   "source": [
    "# We check whether there are missing days of data or not\n",
    "columns_data_analysis = ['FAILURE',\n",
    "                         'NEWEST_DATE',\n",
    "                         'OLDEST_DATE',\n",
    "                         'DAYS_OF_DATA',\n",
    "                         'DAYS_IN_PERIOD',\n",
    "                         'MISSING_DAYS'\n",
    "                        ]\n",
    "\n",
    "data_analysis = pd.DataFrame(data=None, columns=columns_data_analysis)\n",
    "\n",
    "devices = working_devices + failing_devices\n",
    "tqdm_devices = tqdm(devices)\n",
    "tqdm_devices.set_description(\"Devices analysed\")\n",
    "\n",
    "for dev in tqdm_devices:\n",
    "    df_ = raw_data.loc[dev]\n",
    "    if isinstance(df_,pd.DataFrame):\n",
    "        failure = df_['failure'].sum()\n",
    "        newest_date = df_['DATE'].max()\n",
    "        oldest_date = df_['DATE'].min()\n",
    "        days_of_data = df_.shape[0]\n",
    "        days_in_period = ( (newest_date.to_period('D') + 1) - oldest_date.to_period('D') ).delta.days\n",
    "        missing_days = True if (days_of_data != days_in_period) else False\n",
    "    else:\n",
    "        failure = bool(df_['failure'])\n",
    "        newest_date = np.nan\n",
    "        oldest_date = np.nan\n",
    "        days_of_data = 1\n",
    "        days_in_period = 1\n",
    "        missing_days = False\n",
    "    \n",
    "    data_analysis.loc[dev,:] = [failure, newest_date, oldest_date, days_of_data, days_in_period, missing_days]\n",
    "\n",
    "working_devices_missing_days = data_analysis[data_analysis['FAILURE'] == False]['MISSING_DAYS'].sum()\n",
    "failing_devices_missing_days = data_analysis[data_analysis['FAILURE'] == True]['MISSING_DAYS'].sum()\n",
    "\n",
    "print(\"Number of working devices with missing days of data: %5d\" % (working_devices_missing_days))\n",
    "print(\"Number of working devices with missing days of data: %5d\" % (failing_devices_missing_days))    \n",
    "\n",
    "display( HTML( data_analysis.head(5).to_html() ) )"
   ]
  },
  {
   "cell_type": "markdown",
   "metadata": {},
   "source": [
    "Devices with missing days of telemetry data are dropped and a new DataFrame named `df_raw_data` is created with telemetry data of devices with only consecutive days of data."
   ]
  },
  {
   "cell_type": "code",
   "execution_count": 10,
   "metadata": {},
   "outputs": [
    {
     "name": "stdout",
     "output_type": "stream",
     "text": [
      "Number of devices:  996\n",
      "Number of failing devices in dataset: 9.14%\n",
      "Number of working devices in dataset: 90.86%\n"
     ]
    },
    {
     "data": {
      "text/html": [
       "<table border=\"1\" class=\"dataframe\">\n",
       "  <thead>\n",
       "    <tr style=\"text-align: right;\">\n",
       "      <th></th>\n",
       "      <th>failure</th>\n",
       "      <th>attribute1</th>\n",
       "      <th>attribute2</th>\n",
       "      <th>attribute3</th>\n",
       "      <th>attribute4</th>\n",
       "      <th>attribute5</th>\n",
       "      <th>attribute6</th>\n",
       "      <th>attribute7</th>\n",
       "      <th>attribute8</th>\n",
       "      <th>attribute9</th>\n",
       "      <th>DATE</th>\n",
       "    </tr>\n",
       "    <tr>\n",
       "      <th>device</th>\n",
       "      <th></th>\n",
       "      <th></th>\n",
       "      <th></th>\n",
       "      <th></th>\n",
       "      <th></th>\n",
       "      <th></th>\n",
       "      <th></th>\n",
       "      <th></th>\n",
       "      <th></th>\n",
       "      <th></th>\n",
       "      <th></th>\n",
       "    </tr>\n",
       "  </thead>\n",
       "  <tbody>\n",
       "    <tr>\n",
       "      <th>S1F01085</th>\n",
       "      <td>0</td>\n",
       "      <td>215630672</td>\n",
       "      <td>56</td>\n",
       "      <td>0</td>\n",
       "      <td>52</td>\n",
       "      <td>6</td>\n",
       "      <td>407438</td>\n",
       "      <td>0</td>\n",
       "      <td>0</td>\n",
       "      <td>7</td>\n",
       "      <td>2015-01-01</td>\n",
       "    </tr>\n",
       "    <tr>\n",
       "      <th>S1F0166B</th>\n",
       "      <td>0</td>\n",
       "      <td>61370680</td>\n",
       "      <td>0</td>\n",
       "      <td>3</td>\n",
       "      <td>0</td>\n",
       "      <td>6</td>\n",
       "      <td>403174</td>\n",
       "      <td>0</td>\n",
       "      <td>0</td>\n",
       "      <td>0</td>\n",
       "      <td>2015-01-01</td>\n",
       "    </tr>\n",
       "    <tr>\n",
       "      <th>S1F01E6Y</th>\n",
       "      <td>0</td>\n",
       "      <td>173295968</td>\n",
       "      <td>0</td>\n",
       "      <td>0</td>\n",
       "      <td>0</td>\n",
       "      <td>12</td>\n",
       "      <td>237394</td>\n",
       "      <td>0</td>\n",
       "      <td>0</td>\n",
       "      <td>0</td>\n",
       "      <td>2015-01-01</td>\n",
       "    </tr>\n",
       "    <tr>\n",
       "      <th>S1F01JE0</th>\n",
       "      <td>0</td>\n",
       "      <td>79694024</td>\n",
       "      <td>0</td>\n",
       "      <td>0</td>\n",
       "      <td>0</td>\n",
       "      <td>6</td>\n",
       "      <td>410186</td>\n",
       "      <td>0</td>\n",
       "      <td>0</td>\n",
       "      <td>0</td>\n",
       "      <td>2015-01-01</td>\n",
       "    </tr>\n",
       "    <tr>\n",
       "      <th>S1F01TD5</th>\n",
       "      <td>0</td>\n",
       "      <td>68837488</td>\n",
       "      <td>0</td>\n",
       "      <td>0</td>\n",
       "      <td>41</td>\n",
       "      <td>6</td>\n",
       "      <td>413535</td>\n",
       "      <td>0</td>\n",
       "      <td>0</td>\n",
       "      <td>1</td>\n",
       "      <td>2015-01-01</td>\n",
       "    </tr>\n",
       "  </tbody>\n",
       "</table>"
      ],
      "text/plain": [
       "<IPython.core.display.HTML object>"
      ]
     },
     "metadata": {},
     "output_type": "display_data"
    }
   ],
   "source": [
    "# For cleaning the dataset, we drop records of devices missing \n",
    "# consecutive days of data\n",
    "\n",
    "devices_to_drop = data_analysis[data_analysis['MISSING_DAYS'] == True].index.to_list()\n",
    "\n",
    "data_analysis.drop(index=devices_to_drop,\n",
    "                   inplace=True\n",
    "                  )\n",
    "\n",
    "# We create a new DataFrame with devices with only consecutive\n",
    "# days of data\n",
    "df_raw_data = raw_data.copy(deep=True)\n",
    "\n",
    "df_raw_data.drop(index=devices_to_drop,\n",
    "                 inplace=True\n",
    "                )\n",
    "\n",
    "# Brief description of clean dataset\n",
    "number_devices = len(data_analysis.index)\n",
    "number_failing_devices = len(data_analysis[data_analysis['FAILURE'] == True].index)\n",
    "number_working_devices = len(data_analysis[data_analysis['FAILURE'] == False].index)\n",
    "\n",
    "print(\"Number of devices: \", number_devices)\n",
    "print(\"Number of failing devices in dataset: %3.2f%%\" % (100.0*number_failing_devices/number_devices))\n",
    "print(\"Number of working devices in dataset: %3.2f%%\" % (100.0*number_working_devices/number_devices))\n",
    "\n",
    "display( HTML( df_raw_data.head(5).to_html() ) )"
   ]
  },
  {
   "cell_type": "markdown",
   "metadata": {},
   "source": [
    "At this point we already have a clean dataset, and based on further analysis we can decide how to formulate a model for predictive maintenance. To date, two approaches are broadly used for generating predictive maintenance models:\n",
    "\n",
    "1. [Remaining useful life estimation (RUL)](https://link.springer.com/article/10.1007/s13198-013-0195-0), which tells us when a given device is likely to fail\n",
    "2. [Classification approach](https://en.wikipedia.org/wiki/Statistical_classification), which tells us whether in a fixed number of days (days of prediction) a given device is likely to fail or not.\n",
    "\n",
    "A model based on RUL would require enough telemetry data of devices failing after a given number of days, with no gaps in data between day 1 to the day failure occurs. \n",
    "\n",
    "**From the histogram below, we observe that we have a lot of gaps of between days of data, from day 1 to the day when failure occurs. Therefore, we opt to generate a predictive model using a classification approach**."
   ]
  },
  {
   "cell_type": "code",
   "execution_count": 11,
   "metadata": {},
   "outputs": [
    {
     "data": {
      "image/png": "[encoded data removed]",
      "text/plain": [
       "<Figure size 432x288 with 1 Axes>"
      ]
     },
     "metadata": {
      "needs_background": "light"
     },
     "output_type": "display_data"
    }
   ],
   "source": [
    "data_analysis[data_analysis['FAILURE'] == 1]['DAYS_OF_DATA'].hist(bins=100)\n",
    "plt.ylabel(\"Number of devices\")\n",
    "plt.xlabel(\"Days of telemetry before failure\")\n",
    "\n",
    "plt.show()"
   ]
  },
  {
   "cell_type": "markdown",
   "metadata": {},
   "source": [
    "<a id='data_transformation'></a>"
   ]
  },
  {
   "cell_type": "markdown",
   "metadata": {},
   "source": [
    "---\n",
    "## Data Transformation"
   ]
  },
  {
   "cell_type": "markdown",
   "metadata": {},
   "source": [
    "Now that we have decided to use a **classification approach** for our predictive maintenance ML model, we start by defining the number of days of historical telemetry data (`days_of_training_data`) that our model will use to train and the number of days of prediction (`days_of_prediction`), a total of `total_days_of_data = days_of_training_data + days_of_prediction` days of data per device. In the figure below we show an example of how days of telemetry data of a failing device are chosen for generating the dataset that will feed the ML model.\n",
    "\n",
    "![title](images/choosing_days_of_data.png)\n",
    "\n",
    "For non-failing devices we choose the total days of required data in a similar way, selecting the days data from the newest date of data backwards.\n",
    "\n",
    "For our first set of ML models we choose `days_of_training_data = 14` and `days_of_prediction = 5`. "
   ]
  },
  {
   "cell_type": "code",
   "execution_count": 12,
   "metadata": {},
   "outputs": [],
   "source": [
    "metadata['days_of_training_data'] = 14\n",
    "\n",
    "metadata['days_of_prediction'] = 5\n",
    "\n",
    "# Total days of data of each device for generating predictive model\n",
    "metadata['total_days_of_data'] = metadata['days_of_training_data'] + metadata['days_of_prediction']"
   ]
  },
  {
   "cell_type": "markdown",
   "metadata": {},
   "source": [
    "The python function below selects the days of data for training the ML models and generate a new DataFrame with the data, with rows representing the telemetry data of different devices."
   ]
  },
  {
   "cell_type": "code",
   "execution_count": 13,
   "metadata": {},
   "outputs": [],
   "source": [
    "def generate_model_dataset(df, df_analysis, metadata):\n",
    "    # We choose devices with days of data equal or larger than \n",
    "    devices_to_use = df_analysis[df_analysis['DAYS_OF_DATA'] >= metadata['total_days_of_data']].index\n",
    "    \n",
    "    # We rename columns for easier use\n",
    "    new_names = dict()\n",
    "    for ii in range(1,10):\n",
    "        new_names['attribute' + str(ii)] = \"A\" + str(ii)\n",
    "\n",
    "    new_names['failure'] = 'FAILURE'   \n",
    "    \n",
    "    # DataFrame with only selected devices\n",
    "    data = df.loc[devices_to_use]\n",
    "\n",
    "    data.rename(columns=new_names,\n",
    "                inplace=True\n",
    "               )\n",
    "\n",
    "    data.index.rename(name='DEVICE',\n",
    "                  inplace=True\n",
    "                 )\n",
    "    \n",
    "    # A brief description of the dataset to be used\n",
    "    df_ = data_analysis.loc[devices_to_use].copy(deep=True)\n",
    "\n",
    "    number_devices = len(df_.loc[devices_to_use].index)\n",
    "    number_failing_devices = len(df_[df_['FAILURE'] == True].index)\n",
    "    number_working_devices = len(df_[df_['FAILURE'] == False].index)\n",
    "\n",
    "    print(\"DATA PREPARATION: \")\n",
    "    print(\"Number of devices to be used: \", number_devices)\n",
    "    print(\"Number of failing devices in dataset: %3.2f%%\" % (100.0*number_failing_devices/number_devices))\n",
    "    print(\"Number of working devices in dataset: %3.2f%%\" % (100.0*number_working_devices/number_devices))\n",
    "    \n",
    "    # Columns' name of final DataFrame\n",
    "    columns = ['FAILURE']\n",
    "    for ii in range(1,metadata['num_attributes']+1):\n",
    "        for jj in range(1,metadata['days_of_training_data']+1):\n",
    "            columns.append(\"A\" + str(ii) + \"_D\" + str(jj))\n",
    "            \n",
    "    # DataFrame with data to be used to train predictive models\n",
    "    df_model = pd.DataFrame(data=None, columns=columns)\n",
    "    \n",
    "    tqdm_devices = tqdm(data.index.unique())\n",
    "    tqdm_devices.set_description(\"Devices processed\")\n",
    "\n",
    "    for dev in tqdm_devices:\n",
    "        df_ = data.loc[dev].set_index(keys='DATE', \n",
    "                                      drop=True,\n",
    "                                      inplace=False,\n",
    "                                      verify_integrity=False\n",
    "                                     ).sort_index(axis='index', \n",
    "                                                  ascending=False,\n",
    "                                                  inplace=False\n",
    "                                                 )\n",
    "        FAILURE = df_['FAILURE'].any()\n",
    "\n",
    "        df_ = df_.iloc[metadata['days_of_prediction']:metadata['total_days_of_data']].astype(dtype=int)\n",
    "\n",
    "        data_ = [FAILURE]\n",
    "        for ii in range(1, metadata['num_attributes']+1):\n",
    "            data_ = data_ + df_['A'+str(ii)].values.tolist()\n",
    "\n",
    "        df_model.loc[dev] = data_\n",
    "\n",
    "\n",
    "    df_model = df_model.astype(dtype=int)\n",
    "    \n",
    "    \n",
    "    return df_model"
   ]
  },
  {
   "cell_type": "markdown",
   "metadata": {},
   "source": [
    "We now generate the data for the ML models, the resulting DataFrame with the transformed data of each device is kept in a DataFrame named `df_model`. A sample of this DataFrame is shown below. \n",
    "\n",
    "The rows of `df_model` have the telemetry data of each device. The column `FAILURE` is the target binary variable. The other columns contain the attribute values of the devices for each day of data to be used. For example, column `A1_D5` refers to the value of `attribute1` on day 5 in the historical data to be used."
   ]
  },
  {
   "cell_type": "code",
   "execution_count": 14,
   "metadata": {},
   "outputs": [
    {
     "name": "stdout",
     "output_type": "stream",
     "text": [
      "DATA PREPARATION: \n",
      "Number of devices to be used:  609\n",
      "Number of failing devices in dataset: 13.79%\n",
      "Number of working devices in dataset: 86.21%\n"
     ]
    },
    {
     "data": {
      "application/vnd.jupyter.widget-view+json": {
       "model_id": "b9f27e572ac04308a8141de3f76d1259",
       "version_major": 2,
       "version_minor": 0
      },
      "text/plain": [
       "HBox(children=(FloatProgress(value=0.0, max=609.0), HTML(value='')))"
      ]
     },
     "metadata": {},
     "output_type": "display_data"
    },
    {
     "name": "stdout",
     "output_type": "stream",
     "text": [
      "\n"
     ]
    },
    {
     "data": {
      "text/html": [
       "<table border=\"1\" class=\"dataframe\">\n",
       "  <thead>\n",
       "    <tr style=\"text-align: right;\">\n",
       "      <th></th>\n",
       "      <th>FAILURE</th>\n",
       "      <th>A1_D1</th>\n",
       "      <th>A1_D2</th>\n",
       "      <th>A1_D3</th>\n",
       "      <th>A1_D4</th>\n",
       "      <th>A1_D5</th>\n",
       "      <th>A1_D6</th>\n",
       "      <th>A1_D7</th>\n",
       "      <th>A1_D8</th>\n",
       "      <th>A1_D9</th>\n",
       "      <th>A1_D10</th>\n",
       "      <th>A1_D11</th>\n",
       "      <th>A1_D12</th>\n",
       "      <th>A1_D13</th>\n",
       "      <th>A1_D14</th>\n",
       "      <th>A2_D1</th>\n",
       "      <th>A2_D2</th>\n",
       "      <th>A2_D3</th>\n",
       "      <th>A2_D4</th>\n",
       "      <th>A2_D5</th>\n",
       "      <th>A2_D6</th>\n",
       "      <th>A2_D7</th>\n",
       "      <th>A2_D8</th>\n",
       "      <th>A2_D9</th>\n",
       "      <th>A2_D10</th>\n",
       "      <th>A2_D11</th>\n",
       "      <th>A2_D12</th>\n",
       "      <th>A2_D13</th>\n",
       "      <th>A2_D14</th>\n",
       "      <th>A3_D1</th>\n",
       "      <th>A3_D2</th>\n",
       "      <th>A3_D3</th>\n",
       "      <th>A3_D4</th>\n",
       "      <th>A3_D5</th>\n",
       "      <th>A3_D6</th>\n",
       "      <th>A3_D7</th>\n",
       "      <th>A3_D8</th>\n",
       "      <th>A3_D9</th>\n",
       "      <th>A3_D10</th>\n",
       "      <th>A3_D11</th>\n",
       "      <th>A3_D12</th>\n",
       "      <th>A3_D13</th>\n",
       "      <th>A3_D14</th>\n",
       "      <th>A4_D1</th>\n",
       "      <th>A4_D2</th>\n",
       "      <th>A4_D3</th>\n",
       "      <th>A4_D4</th>\n",
       "      <th>A4_D5</th>\n",
       "      <th>A4_D6</th>\n",
       "      <th>A4_D7</th>\n",
       "      <th>A4_D8</th>\n",
       "      <th>A4_D9</th>\n",
       "      <th>A4_D10</th>\n",
       "      <th>A4_D11</th>\n",
       "      <th>A4_D12</th>\n",
       "      <th>A4_D13</th>\n",
       "      <th>A4_D14</th>\n",
       "      <th>A5_D1</th>\n",
       "      <th>A5_D2</th>\n",
       "      <th>A5_D3</th>\n",
       "      <th>A5_D4</th>\n",
       "      <th>A5_D5</th>\n",
       "      <th>A5_D6</th>\n",
       "      <th>A5_D7</th>\n",
       "      <th>A5_D8</th>\n",
       "      <th>A5_D9</th>\n",
       "      <th>A5_D10</th>\n",
       "      <th>A5_D11</th>\n",
       "      <th>A5_D12</th>\n",
       "      <th>A5_D13</th>\n",
       "      <th>A5_D14</th>\n",
       "      <th>A6_D1</th>\n",
       "      <th>A6_D2</th>\n",
       "      <th>A6_D3</th>\n",
       "      <th>A6_D4</th>\n",
       "      <th>A6_D5</th>\n",
       "      <th>A6_D6</th>\n",
       "      <th>A6_D7</th>\n",
       "      <th>A6_D8</th>\n",
       "      <th>A6_D9</th>\n",
       "      <th>A6_D10</th>\n",
       "      <th>A6_D11</th>\n",
       "      <th>A6_D12</th>\n",
       "      <th>A6_D13</th>\n",
       "      <th>A6_D14</th>\n",
       "      <th>A7_D1</th>\n",
       "      <th>A7_D2</th>\n",
       "      <th>A7_D3</th>\n",
       "      <th>A7_D4</th>\n",
       "      <th>A7_D5</th>\n",
       "      <th>A7_D6</th>\n",
       "      <th>A7_D7</th>\n",
       "      <th>A7_D8</th>\n",
       "      <th>A7_D9</th>\n",
       "      <th>A7_D10</th>\n",
       "      <th>A7_D11</th>\n",
       "      <th>A7_D12</th>\n",
       "      <th>A7_D13</th>\n",
       "      <th>A7_D14</th>\n",
       "      <th>A8_D1</th>\n",
       "      <th>A8_D2</th>\n",
       "      <th>A8_D3</th>\n",
       "      <th>A8_D4</th>\n",
       "      <th>A8_D5</th>\n",
       "      <th>A8_D6</th>\n",
       "      <th>A8_D7</th>\n",
       "      <th>A8_D8</th>\n",
       "      <th>A8_D9</th>\n",
       "      <th>A8_D10</th>\n",
       "      <th>A8_D11</th>\n",
       "      <th>A8_D12</th>\n",
       "      <th>A8_D13</th>\n",
       "      <th>A8_D14</th>\n",
       "      <th>A9_D1</th>\n",
       "      <th>A9_D2</th>\n",
       "      <th>A9_D3</th>\n",
       "      <th>A9_D4</th>\n",
       "      <th>A9_D5</th>\n",
       "      <th>A9_D6</th>\n",
       "      <th>A9_D7</th>\n",
       "      <th>A9_D8</th>\n",
       "      <th>A9_D9</th>\n",
       "      <th>A9_D10</th>\n",
       "      <th>A9_D11</th>\n",
       "      <th>A9_D12</th>\n",
       "      <th>A9_D13</th>\n",
       "      <th>A9_D14</th>\n",
       "    </tr>\n",
       "  </thead>\n",
       "  <tbody>\n",
       "    <tr>\n",
       "      <th>S1F0S387</th>\n",
       "      <td>0</td>\n",
       "      <td>160052360</td>\n",
       "      <td>60075552</td>\n",
       "      <td>130697208</td>\n",
       "      <td>68407312</td>\n",
       "      <td>49924448</td>\n",
       "      <td>31706520</td>\n",
       "      <td>14574048</td>\n",
       "      <td>238722448</td>\n",
       "      <td>221270440</td>\n",
       "      <td>80226536</td>\n",
       "      <td>210564208</td>\n",
       "      <td>190188512</td>\n",
       "      <td>94191720</td>\n",
       "      <td>58342168</td>\n",
       "      <td>0</td>\n",
       "      <td>0</td>\n",
       "      <td>0</td>\n",
       "      <td>0</td>\n",
       "      <td>0</td>\n",
       "      <td>0</td>\n",
       "      <td>0</td>\n",
       "      <td>0</td>\n",
       "      <td>0</td>\n",
       "      <td>0</td>\n",
       "      <td>0</td>\n",
       "      <td>0</td>\n",
       "      <td>0</td>\n",
       "      <td>0</td>\n",
       "      <td>2</td>\n",
       "      <td>2</td>\n",
       "      <td>2</td>\n",
       "      <td>2</td>\n",
       "      <td>2</td>\n",
       "      <td>2</td>\n",
       "      <td>2</td>\n",
       "      <td>2</td>\n",
       "      <td>2</td>\n",
       "      <td>2</td>\n",
       "      <td>2</td>\n",
       "      <td>2</td>\n",
       "      <td>2</td>\n",
       "      <td>2</td>\n",
       "      <td>0</td>\n",
       "      <td>0</td>\n",
       "      <td>0</td>\n",
       "      <td>0</td>\n",
       "      <td>0</td>\n",
       "      <td>0</td>\n",
       "      <td>0</td>\n",
       "      <td>0</td>\n",
       "      <td>0</td>\n",
       "      <td>0</td>\n",
       "      <td>0</td>\n",
       "      <td>0</td>\n",
       "      <td>0</td>\n",
       "      <td>0</td>\n",
       "      <td>13</td>\n",
       "      <td>13</td>\n",
       "      <td>13</td>\n",
       "      <td>13</td>\n",
       "      <td>13</td>\n",
       "      <td>13</td>\n",
       "      <td>13</td>\n",
       "      <td>13</td>\n",
       "      <td>13</td>\n",
       "      <td>13</td>\n",
       "      <td>13</td>\n",
       "      <td>13</td>\n",
       "      <td>13</td>\n",
       "      <td>13</td>\n",
       "      <td>302267</td>\n",
       "      <td>302267</td>\n",
       "      <td>302267</td>\n",
       "      <td>301318</td>\n",
       "      <td>300105</td>\n",
       "      <td>298942</td>\n",
       "      <td>297777</td>\n",
       "      <td>296513</td>\n",
       "      <td>295210</td>\n",
       "      <td>294025</td>\n",
       "      <td>294025</td>\n",
       "      <td>294024</td>\n",
       "      <td>293983</td>\n",
       "      <td>293983</td>\n",
       "      <td>8</td>\n",
       "      <td>8</td>\n",
       "      <td>8</td>\n",
       "      <td>8</td>\n",
       "      <td>8</td>\n",
       "      <td>8</td>\n",
       "      <td>8</td>\n",
       "      <td>8</td>\n",
       "      <td>8</td>\n",
       "      <td>8</td>\n",
       "      <td>8</td>\n",
       "      <td>0</td>\n",
       "      <td>0</td>\n",
       "      <td>0</td>\n",
       "      <td>8</td>\n",
       "      <td>8</td>\n",
       "      <td>8</td>\n",
       "      <td>8</td>\n",
       "      <td>8</td>\n",
       "      <td>8</td>\n",
       "      <td>8</td>\n",
       "      <td>8</td>\n",
       "      <td>8</td>\n",
       "      <td>8</td>\n",
       "      <td>8</td>\n",
       "      <td>0</td>\n",
       "      <td>0</td>\n",
       "      <td>0</td>\n",
       "      <td>34</td>\n",
       "      <td>34</td>\n",
       "      <td>34</td>\n",
       "      <td>34</td>\n",
       "      <td>34</td>\n",
       "      <td>34</td>\n",
       "      <td>34</td>\n",
       "      <td>34</td>\n",
       "      <td>34</td>\n",
       "      <td>34</td>\n",
       "      <td>34</td>\n",
       "      <td>34</td>\n",
       "      <td>34</td>\n",
       "      <td>34</td>\n",
       "    </tr>\n",
       "    <tr>\n",
       "      <th>Z1F0LT0S</th>\n",
       "      <td>0</td>\n",
       "      <td>236557240</td>\n",
       "      <td>136198352</td>\n",
       "      <td>170016776</td>\n",
       "      <td>233819784</td>\n",
       "      <td>23183256</td>\n",
       "      <td>163211248</td>\n",
       "      <td>183662312</td>\n",
       "      <td>58512048</td>\n",
       "      <td>99343208</td>\n",
       "      <td>233301880</td>\n",
       "      <td>75640920</td>\n",
       "      <td>76298312</td>\n",
       "      <td>172708560</td>\n",
       "      <td>12746816</td>\n",
       "      <td>0</td>\n",
       "      <td>0</td>\n",
       "      <td>0</td>\n",
       "      <td>0</td>\n",
       "      <td>0</td>\n",
       "      <td>0</td>\n",
       "      <td>0</td>\n",
       "      <td>0</td>\n",
       "      <td>0</td>\n",
       "      <td>0</td>\n",
       "      <td>0</td>\n",
       "      <td>0</td>\n",
       "      <td>0</td>\n",
       "      <td>0</td>\n",
       "      <td>0</td>\n",
       "      <td>0</td>\n",
       "      <td>0</td>\n",
       "      <td>0</td>\n",
       "      <td>0</td>\n",
       "      <td>0</td>\n",
       "      <td>0</td>\n",
       "      <td>0</td>\n",
       "      <td>0</td>\n",
       "      <td>0</td>\n",
       "      <td>0</td>\n",
       "      <td>0</td>\n",
       "      <td>0</td>\n",
       "      <td>0</td>\n",
       "      <td>0</td>\n",
       "      <td>0</td>\n",
       "      <td>0</td>\n",
       "      <td>0</td>\n",
       "      <td>0</td>\n",
       "      <td>0</td>\n",
       "      <td>0</td>\n",
       "      <td>0</td>\n",
       "      <td>0</td>\n",
       "      <td>0</td>\n",
       "      <td>0</td>\n",
       "      <td>0</td>\n",
       "      <td>0</td>\n",
       "      <td>0</td>\n",
       "      <td>7</td>\n",
       "      <td>7</td>\n",
       "      <td>7</td>\n",
       "      <td>7</td>\n",
       "      <td>7</td>\n",
       "      <td>7</td>\n",
       "      <td>7</td>\n",
       "      <td>7</td>\n",
       "      <td>7</td>\n",
       "      <td>7</td>\n",
       "      <td>7</td>\n",
       "      <td>7</td>\n",
       "      <td>7</td>\n",
       "      <td>7</td>\n",
       "      <td>340121</td>\n",
       "      <td>340121</td>\n",
       "      <td>340072</td>\n",
       "      <td>340072</td>\n",
       "      <td>340072</td>\n",
       "      <td>340072</td>\n",
       "      <td>340072</td>\n",
       "      <td>340072</td>\n",
       "      <td>340072</td>\n",
       "      <td>340065</td>\n",
       "      <td>340063</td>\n",
       "      <td>340062</td>\n",
       "      <td>340061</td>\n",
       "      <td>340055</td>\n",
       "      <td>0</td>\n",
       "      <td>0</td>\n",
       "      <td>0</td>\n",
       "      <td>0</td>\n",
       "      <td>0</td>\n",
       "      <td>0</td>\n",
       "      <td>0</td>\n",
       "      <td>0</td>\n",
       "      <td>0</td>\n",
       "      <td>0</td>\n",
       "      <td>0</td>\n",
       "      <td>0</td>\n",
       "      <td>0</td>\n",
       "      <td>0</td>\n",
       "      <td>0</td>\n",
       "      <td>0</td>\n",
       "      <td>0</td>\n",
       "      <td>0</td>\n",
       "      <td>0</td>\n",
       "      <td>0</td>\n",
       "      <td>0</td>\n",
       "      <td>0</td>\n",
       "      <td>0</td>\n",
       "      <td>0</td>\n",
       "      <td>0</td>\n",
       "      <td>0</td>\n",
       "      <td>0</td>\n",
       "      <td>0</td>\n",
       "      <td>0</td>\n",
       "      <td>0</td>\n",
       "      <td>0</td>\n",
       "      <td>0</td>\n",
       "      <td>0</td>\n",
       "      <td>0</td>\n",
       "      <td>0</td>\n",
       "      <td>0</td>\n",
       "      <td>0</td>\n",
       "      <td>0</td>\n",
       "      <td>0</td>\n",
       "      <td>0</td>\n",
       "      <td>0</td>\n",
       "      <td>0</td>\n",
       "    </tr>\n",
       "    <tr>\n",
       "      <th>S1F0S3DF</th>\n",
       "      <td>0</td>\n",
       "      <td>14156624</td>\n",
       "      <td>74655888</td>\n",
       "      <td>147007016</td>\n",
       "      <td>212540544</td>\n",
       "      <td>50311168</td>\n",
       "      <td>164628216</td>\n",
       "      <td>15307560</td>\n",
       "      <td>95332640</td>\n",
       "      <td>206475888</td>\n",
       "      <td>54371280</td>\n",
       "      <td>154076000</td>\n",
       "      <td>25690784</td>\n",
       "      <td>130156832</td>\n",
       "      <td>17199464</td>\n",
       "      <td>0</td>\n",
       "      <td>0</td>\n",
       "      <td>0</td>\n",
       "      <td>0</td>\n",
       "      <td>0</td>\n",
       "      <td>0</td>\n",
       "      <td>0</td>\n",
       "      <td>0</td>\n",
       "      <td>0</td>\n",
       "      <td>0</td>\n",
       "      <td>0</td>\n",
       "      <td>0</td>\n",
       "      <td>0</td>\n",
       "      <td>0</td>\n",
       "      <td>0</td>\n",
       "      <td>0</td>\n",
       "      <td>0</td>\n",
       "      <td>0</td>\n",
       "      <td>0</td>\n",
       "      <td>0</td>\n",
       "      <td>0</td>\n",
       "      <td>0</td>\n",
       "      <td>0</td>\n",
       "      <td>0</td>\n",
       "      <td>0</td>\n",
       "      <td>0</td>\n",
       "      <td>0</td>\n",
       "      <td>0</td>\n",
       "      <td>0</td>\n",
       "      <td>0</td>\n",
       "      <td>0</td>\n",
       "      <td>0</td>\n",
       "      <td>0</td>\n",
       "      <td>0</td>\n",
       "      <td>0</td>\n",
       "      <td>0</td>\n",
       "      <td>0</td>\n",
       "      <td>0</td>\n",
       "      <td>0</td>\n",
       "      <td>0</td>\n",
       "      <td>0</td>\n",
       "      <td>0</td>\n",
       "      <td>8</td>\n",
       "      <td>8</td>\n",
       "      <td>8</td>\n",
       "      <td>8</td>\n",
       "      <td>8</td>\n",
       "      <td>8</td>\n",
       "      <td>8</td>\n",
       "      <td>8</td>\n",
       "      <td>8</td>\n",
       "      <td>8</td>\n",
       "      <td>8</td>\n",
       "      <td>8</td>\n",
       "      <td>8</td>\n",
       "      <td>8</td>\n",
       "      <td>190882</td>\n",
       "      <td>190882</td>\n",
       "      <td>190882</td>\n",
       "      <td>190882</td>\n",
       "      <td>190882</td>\n",
       "      <td>190882</td>\n",
       "      <td>190882</td>\n",
       "      <td>190882</td>\n",
       "      <td>190882</td>\n",
       "      <td>190882</td>\n",
       "      <td>190882</td>\n",
       "      <td>190882</td>\n",
       "      <td>190882</td>\n",
       "      <td>190882</td>\n",
       "      <td>0</td>\n",
       "      <td>0</td>\n",
       "      <td>0</td>\n",
       "      <td>0</td>\n",
       "      <td>0</td>\n",
       "      <td>0</td>\n",
       "      <td>0</td>\n",
       "      <td>0</td>\n",
       "      <td>0</td>\n",
       "      <td>0</td>\n",
       "      <td>0</td>\n",
       "      <td>0</td>\n",
       "      <td>0</td>\n",
       "      <td>0</td>\n",
       "      <td>0</td>\n",
       "      <td>0</td>\n",
       "      <td>0</td>\n",
       "      <td>0</td>\n",
       "      <td>0</td>\n",
       "      <td>0</td>\n",
       "      <td>0</td>\n",
       "      <td>0</td>\n",
       "      <td>0</td>\n",
       "      <td>0</td>\n",
       "      <td>0</td>\n",
       "      <td>0</td>\n",
       "      <td>0</td>\n",
       "      <td>0</td>\n",
       "      <td>2</td>\n",
       "      <td>2</td>\n",
       "      <td>2</td>\n",
       "      <td>2</td>\n",
       "      <td>2</td>\n",
       "      <td>2</td>\n",
       "      <td>2</td>\n",
       "      <td>2</td>\n",
       "      <td>2</td>\n",
       "      <td>2</td>\n",
       "      <td>2</td>\n",
       "      <td>2</td>\n",
       "      <td>2</td>\n",
       "      <td>2</td>\n",
       "    </tr>\n",
       "    <tr>\n",
       "      <th>S1F10GSG</th>\n",
       "      <td>0</td>\n",
       "      <td>22953832</td>\n",
       "      <td>70619168</td>\n",
       "      <td>78725224</td>\n",
       "      <td>41521576</td>\n",
       "      <td>35945336</td>\n",
       "      <td>231009480</td>\n",
       "      <td>237286416</td>\n",
       "      <td>231116880</td>\n",
       "      <td>128129768</td>\n",
       "      <td>89012192</td>\n",
       "      <td>93566152</td>\n",
       "      <td>33976392</td>\n",
       "      <td>13743696</td>\n",
       "      <td>48131176</td>\n",
       "      <td>0</td>\n",
       "      <td>0</td>\n",
       "      <td>0</td>\n",
       "      <td>0</td>\n",
       "      <td>0</td>\n",
       "      <td>0</td>\n",
       "      <td>0</td>\n",
       "      <td>0</td>\n",
       "      <td>0</td>\n",
       "      <td>0</td>\n",
       "      <td>0</td>\n",
       "      <td>0</td>\n",
       "      <td>0</td>\n",
       "      <td>0</td>\n",
       "      <td>0</td>\n",
       "      <td>0</td>\n",
       "      <td>0</td>\n",
       "      <td>0</td>\n",
       "      <td>0</td>\n",
       "      <td>0</td>\n",
       "      <td>0</td>\n",
       "      <td>0</td>\n",
       "      <td>0</td>\n",
       "      <td>0</td>\n",
       "      <td>0</td>\n",
       "      <td>0</td>\n",
       "      <td>0</td>\n",
       "      <td>0</td>\n",
       "      <td>0</td>\n",
       "      <td>0</td>\n",
       "      <td>0</td>\n",
       "      <td>0</td>\n",
       "      <td>0</td>\n",
       "      <td>0</td>\n",
       "      <td>0</td>\n",
       "      <td>0</td>\n",
       "      <td>0</td>\n",
       "      <td>0</td>\n",
       "      <td>0</td>\n",
       "      <td>0</td>\n",
       "      <td>0</td>\n",
       "      <td>0</td>\n",
       "      <td>9</td>\n",
       "      <td>9</td>\n",
       "      <td>9</td>\n",
       "      <td>9</td>\n",
       "      <td>9</td>\n",
       "      <td>9</td>\n",
       "      <td>9</td>\n",
       "      <td>9</td>\n",
       "      <td>9</td>\n",
       "      <td>9</td>\n",
       "      <td>9</td>\n",
       "      <td>9</td>\n",
       "      <td>9</td>\n",
       "      <td>9</td>\n",
       "      <td>251646</td>\n",
       "      <td>251646</td>\n",
       "      <td>251596</td>\n",
       "      <td>251591</td>\n",
       "      <td>251591</td>\n",
       "      <td>251591</td>\n",
       "      <td>251591</td>\n",
       "      <td>251591</td>\n",
       "      <td>251591</td>\n",
       "      <td>251591</td>\n",
       "      <td>251585</td>\n",
       "      <td>251585</td>\n",
       "      <td>251584</td>\n",
       "      <td>251583</td>\n",
       "      <td>0</td>\n",
       "      <td>0</td>\n",
       "      <td>0</td>\n",
       "      <td>0</td>\n",
       "      <td>0</td>\n",
       "      <td>0</td>\n",
       "      <td>0</td>\n",
       "      <td>0</td>\n",
       "      <td>0</td>\n",
       "      <td>0</td>\n",
       "      <td>0</td>\n",
       "      <td>0</td>\n",
       "      <td>0</td>\n",
       "      <td>0</td>\n",
       "      <td>0</td>\n",
       "      <td>0</td>\n",
       "      <td>0</td>\n",
       "      <td>0</td>\n",
       "      <td>0</td>\n",
       "      <td>0</td>\n",
       "      <td>0</td>\n",
       "      <td>0</td>\n",
       "      <td>0</td>\n",
       "      <td>0</td>\n",
       "      <td>0</td>\n",
       "      <td>0</td>\n",
       "      <td>0</td>\n",
       "      <td>0</td>\n",
       "      <td>0</td>\n",
       "      <td>0</td>\n",
       "      <td>0</td>\n",
       "      <td>0</td>\n",
       "      <td>0</td>\n",
       "      <td>0</td>\n",
       "      <td>0</td>\n",
       "      <td>0</td>\n",
       "      <td>0</td>\n",
       "      <td>0</td>\n",
       "      <td>0</td>\n",
       "      <td>0</td>\n",
       "      <td>0</td>\n",
       "      <td>0</td>\n",
       "    </tr>\n",
       "    <tr>\n",
       "      <th>S1F114QM</th>\n",
       "      <td>0</td>\n",
       "      <td>83290936</td>\n",
       "      <td>222104048</td>\n",
       "      <td>158155152</td>\n",
       "      <td>103898696</td>\n",
       "      <td>198581832</td>\n",
       "      <td>64704400</td>\n",
       "      <td>45099416</td>\n",
       "      <td>28510472</td>\n",
       "      <td>86683656</td>\n",
       "      <td>239950344</td>\n",
       "      <td>196461560</td>\n",
       "      <td>39674824</td>\n",
       "      <td>193159464</td>\n",
       "      <td>77635840</td>\n",
       "      <td>0</td>\n",
       "      <td>0</td>\n",
       "      <td>0</td>\n",
       "      <td>0</td>\n",
       "      <td>0</td>\n",
       "      <td>0</td>\n",
       "      <td>0</td>\n",
       "      <td>0</td>\n",
       "      <td>0</td>\n",
       "      <td>0</td>\n",
       "      <td>0</td>\n",
       "      <td>0</td>\n",
       "      <td>0</td>\n",
       "      <td>0</td>\n",
       "      <td>0</td>\n",
       "      <td>0</td>\n",
       "      <td>0</td>\n",
       "      <td>0</td>\n",
       "      <td>0</td>\n",
       "      <td>0</td>\n",
       "      <td>0</td>\n",
       "      <td>0</td>\n",
       "      <td>0</td>\n",
       "      <td>0</td>\n",
       "      <td>0</td>\n",
       "      <td>0</td>\n",
       "      <td>0</td>\n",
       "      <td>0</td>\n",
       "      <td>0</td>\n",
       "      <td>0</td>\n",
       "      <td>0</td>\n",
       "      <td>0</td>\n",
       "      <td>0</td>\n",
       "      <td>0</td>\n",
       "      <td>0</td>\n",
       "      <td>0</td>\n",
       "      <td>0</td>\n",
       "      <td>0</td>\n",
       "      <td>0</td>\n",
       "      <td>0</td>\n",
       "      <td>0</td>\n",
       "      <td>0</td>\n",
       "      <td>9</td>\n",
       "      <td>9</td>\n",
       "      <td>9</td>\n",
       "      <td>9</td>\n",
       "      <td>9</td>\n",
       "      <td>9</td>\n",
       "      <td>9</td>\n",
       "      <td>9</td>\n",
       "      <td>9</td>\n",
       "      <td>9</td>\n",
       "      <td>9</td>\n",
       "      <td>9</td>\n",
       "      <td>9</td>\n",
       "      <td>9</td>\n",
       "      <td>427334</td>\n",
       "      <td>427334</td>\n",
       "      <td>427334</td>\n",
       "      <td>427301</td>\n",
       "      <td>427293</td>\n",
       "      <td>426671</td>\n",
       "      <td>425313</td>\n",
       "      <td>423927</td>\n",
       "      <td>423218</td>\n",
       "      <td>423215</td>\n",
       "      <td>423214</td>\n",
       "      <td>423214</td>\n",
       "      <td>423214</td>\n",
       "      <td>423214</td>\n",
       "      <td>0</td>\n",
       "      <td>0</td>\n",
       "      <td>0</td>\n",
       "      <td>0</td>\n",
       "      <td>0</td>\n",
       "      <td>0</td>\n",
       "      <td>0</td>\n",
       "      <td>0</td>\n",
       "      <td>0</td>\n",
       "      <td>0</td>\n",
       "      <td>0</td>\n",
       "      <td>0</td>\n",
       "      <td>0</td>\n",
       "      <td>0</td>\n",
       "      <td>0</td>\n",
       "      <td>0</td>\n",
       "      <td>0</td>\n",
       "      <td>0</td>\n",
       "      <td>0</td>\n",
       "      <td>0</td>\n",
       "      <td>0</td>\n",
       "      <td>0</td>\n",
       "      <td>0</td>\n",
       "      <td>0</td>\n",
       "      <td>0</td>\n",
       "      <td>0</td>\n",
       "      <td>0</td>\n",
       "      <td>0</td>\n",
       "      <td>0</td>\n",
       "      <td>0</td>\n",
       "      <td>0</td>\n",
       "      <td>0</td>\n",
       "      <td>0</td>\n",
       "      <td>0</td>\n",
       "      <td>0</td>\n",
       "      <td>0</td>\n",
       "      <td>0</td>\n",
       "      <td>0</td>\n",
       "      <td>0</td>\n",
       "      <td>0</td>\n",
       "      <td>0</td>\n",
       "      <td>0</td>\n",
       "    </tr>\n",
       "  </tbody>\n",
       "</table>"
      ],
      "text/plain": [
       "<IPython.core.display.HTML object>"
      ]
     },
     "metadata": {},
     "output_type": "display_data"
    }
   ],
   "source": [
    "df_model = generate_model_dataset(df=df_raw_data,\n",
    "                                  df_analysis=data_analysis,\n",
    "                                  metadata=metadata\n",
    "                                 )\n",
    "\n",
    "display( HTML( df_model.sample(5).to_html() ) )"
   ]
  },
  {
   "cell_type": "markdown",
   "metadata": {},
   "source": [
    "<a id='data_split'></a>"
   ]
  },
  {
   "cell_type": "markdown",
   "metadata": {},
   "source": [
    "## Data Split for Training and Testing\n",
    "\n",
    "Now, we define the training and testing subsets of data. As a convention throughout the notebook, we will split the data of `df_model` in 70% for training data, and 30% for testing data. The resulting DataFrames with train data will be `X_train` and `Y_train`, with the former containing the attribute values (features) and the latter containing the target variable (0 or 1 for non-failure and failure, respectively). Similarly, test data will be kept in `X_test` and `Y_test`."
   ]
  },
  {
   "cell_type": "code",
   "execution_count": 15,
   "metadata": {},
   "outputs": [],
   "source": [
    "metadata['test_size'] = 0.3"
   ]
  },
  {
   "cell_type": "markdown",
   "metadata": {},
   "source": [
    "The python function in the cell below splits the data in train and test subsets."
   ]
  },
  {
   "cell_type": "code",
   "execution_count": 16,
   "metadata": {},
   "outputs": [],
   "source": [
    "def split_data(metadata, df):\n",
    "    columns = df.columns\n",
    "\n",
    "    metadata['target'] = 'FAILURE'\n",
    "    metadata['features'] = columns[~columns.isin( [metadata['target']] )]\n",
    "\n",
    "    # We'll call X the DataFrame with the features data, and Y the corresponding DataFrame of targets\n",
    "\n",
    "    # Features\n",
    "    X_model = df[metadata['features']].copy(deep=True).astype(dtype=int)\n",
    "\n",
    "    # Target\n",
    "    Y_model = df[metadata['target']].copy(deep=True).astype(dtype=int)\n",
    "\n",
    "    X_train, X_test, Y_train, Y_test = train_test_split(X_model, Y_model,\n",
    "                                                        test_size=metadata['test_size'],\n",
    "                                                        random_state=0\n",
    "                                                       )\n",
    "\n",
    "    print(\"DATA SPLITTING: \")\n",
    "    print(\"Rows (devices) in dataset: \", len(X_model.index))\n",
    "    print(\"Rows (devices) in train subset: \", len(X_train.index))\n",
    "    print(\"Rows (devices) in test subset: \", len(X_test.index))\n",
    "    \n",
    "    return X_train, X_test, Y_train, Y_test"
   ]
  },
  {
   "cell_type": "code",
   "execution_count": 17,
   "metadata": {},
   "outputs": [
    {
     "name": "stdout",
     "output_type": "stream",
     "text": [
      "DATA SPLITTING: \n",
      "Rows (devices) in dataset:  609\n",
      "Rows (devices) in train subset:  426\n",
      "Rows (devices) in test subset:  183\n"
     ]
    }
   ],
   "source": [
    "X_train, X_test, Y_train, Y_test = split_data(metadata, df_model)"
   ]
  },
  {
   "cell_type": "markdown",
   "metadata": {},
   "source": [
    "<a id='ML_algorithms'></a>"
   ]
  },
  {
   "cell_type": "markdown",
   "metadata": {},
   "source": [
    "---\n",
    "## Machine Learning Algorithms: Random Forest Classifiers\n",
    "\n",
    "In this section, we implement **ML modes based on Random Forest Classifiers (RFCs)** for predicting device failure. We use [scikit-learn](https://scikit-learn.org/stable/) together with the [imbalanced-learn](https://imbalanced-learn.readthedocs.io/en/stable/) python library to generate different types of RFCs. Scikit-learn provides an easy way to implement a RFC with its class `RandomForestClassifier`, while imbalanced-learn extends its capabilities by providing [under-sampling algorithms](https://imbalanced-learn.readthedocs.io/en/stable/under_sampling.html?highlight=feature%20selection) that mitigate the effect of class imbalance in our dataset. \n",
    "\n",
    "These under-sampling algorithms are integrated in the pipelines for training Scikit-learn's `RandomForestClassifier` and are exposed with the class `BalancedRandomForestClassifier` that has all the original functionalities and parameters than `RandomForestClassifier`.\n",
    "\n",
    "We implement both models `RandomForestClassifier` and `BalancedRandomForestClassifier`, and after finding the model with better accuracy (to be defined below) we include further optimizations through two methods:\n",
    "\n",
    "1. Feature selection: only data with some kind of correlation is used to train the RFC.\n",
    "2. Hyperparameter optimization: RFC's parameters are choosen through a cross-validation analysis.\n",
    "\n",
    "After testing both models, with and without further optimizations, **we choose the RFC with better accuracy to predict device failure as the predictive maintenance algorithm for COMPANY XYZ**.\n",
    "\n",
    "Before going through the implementation of the above models, we will define how accuracy will be measured."
   ]
  },
  {
   "cell_type": "markdown",
   "metadata": {},
   "source": [
    "<a id='metrics'></a>"
   ]
  },
  {
   "cell_type": "markdown",
   "metadata": {},
   "source": [
    "---\n",
    "## Performance Metrics: Definition of Accuracy\n",
    "\n",
    "The cell below contains the python function `assess_quality`, which computes the following performance scores and diagnostics of our RFCs:\n",
    "\n",
    "* [Standard accuracy](https://scikit-learn.org/stable/modules/generated/sklearn.metrics.accuracy_score.html#sklearn.metrics.accuracy_score) (`STANDARD_ACCURACY`): measures the fraction of correct predictions.\n",
    "* [ROC curve](https://scikit-learn.org/stable/modules/model_evaluation.html#roc-metrics): the false positive rate (`FPR`) and true positive rate (`TPR`) are used to plot this curve.\n",
    "* [Area under ROC curve](https://scikit-learn.org/stable/modules/generated/sklearn.metrics.roc_auc_score.html#sklearn.metrics.roc_auc_score) (`ROC_AUC`): summarizes ROC curve.\n",
    "* [Precision-Recall curve](https://scikit-learn.org/stable/modules/generated/sklearn.metrics.precision_recall_curve.html): precision (`PRECISION`) and recall (`RECALL`) are used to plot this curve.\n",
    "* [Average precision](https://scikit-learn.org/stable/modules/generated/sklearn.metrics.average_precision_score.html#sklearn.metrics.average_precision_score) (`AP`): summarizes Precision-Recall curve.\n",
    "* [Recall](https://scikit-learn.org/stable/modules/generated/sklearn.metrics.recall_score.html#sklearn.metrics.recall_score) (`RECALL_SCORE`): measures the accuracy for predicting true positives $T_p$ (device failure), and is defined as $T_p/(T_p + F_n)$, with $F_n$ the number of false negatives (non-failure).\n",
    "* Recall for true class (`RECALL_1`): same as `RECALL_SCORE`.\n",
    "* Recall for false class (`RECALL_0`): measures the accuracy for predicting true negatives $T_n$ (non-failure), and is defined as $T_n/(T_n + F_p)$, with $F_p$ the number of false positives (device failure).\n",
    "* [Balanced accuracy](https://scikit-learn.org/stable/modules/generated/sklearn.metrics.balanced_accuracy_score.html#sklearn.metrics.balanced_accuracy_score) (`BALANCED_ACCURACY`): defined as the mean of recall for each class measures accuracy for predicting positives (device failure) and negatives (non-failing) events.\n",
    "* [Confusion matrix](https://scikit-learn.org/stable/modules/generated/sklearn.metrics.confusion_matrix.html) (`CONFUSION_MATRIX`): measures accuracy of predictions.\n",
    "* [F1 score A.K.A. F-measure](https://scikit-learn.org/stable/modules/generated/sklearn.metrics.f1_score.html#sklearn.metrics.f1_score): summarizes recall and precision of predictions.\n",
    "\n",
    "As it will be shown below, **only recall, balanced accuracy and the confusion matrix will be the real indicators of the performance RFC with our imbalanced dataset**."
   ]
  },
  {
   "cell_type": "code",
   "execution_count": 18,
   "metadata": {},
   "outputs": [],
   "source": [
    "def assess_quality(model, X, Y, show_curves=False, verbose=True):\n",
    "    \"\"\"Function that assess model quality through F1 score and shows ROC and Precision-Recall plots\"\"\"\n",
    "    \n",
    "    mod = model\n",
    "    \n",
    "    # Compute predicted probabilities\n",
    "    Y_prob = np.array([val[1] for val in mod['RF'].predict_proba(X)])\n",
    "    \n",
    "    # Compute predictions\n",
    "    Y_pred = mod['RF'].predict(X)\n",
    "    \n",
    "    # Computation of false positive rates (fpr) and true positive rates (tpr)\n",
    "    mod['FPR'], mod['TPR'], _ = roc_curve(y_true=Y,\n",
    "                                          y_score=Y_prob,\n",
    "                                          pos_label=1\n",
    "                                         )\n",
    "    \n",
    "    # Computation of precision and recall\n",
    "    mod['PRECISION'], mod['RECALL'], _ = precision_recall_curve(y_true=Y, \n",
    "                                                                probas_pred=Y_prob,\n",
    "                                                                pos_label=1\n",
    "                                                               )\n",
    "\n",
    "    # Computation of F1 score\n",
    "    mod['F1'] = sk.metrics.f1_score(y_true=Y, \n",
    "                                    y_pred=Y_pred, \n",
    "                                    pos_label=1\n",
    "                                   )\n",
    "    \n",
    "    # Computation of average precision score\n",
    "    mod['AP'] = sk.metrics.average_precision_score(y_true=Y,\n",
    "                                                   y_score=Y_prob, \n",
    "                                                   pos_label=1\n",
    "                                                  )\n",
    "        \n",
    "    # Computation of area under ROC curve\n",
    "    mod['ROC_AUC'] = roc_auc_score(Y, Y_prob)\n",
    "    \n",
    "    # Computation of precision\n",
    "    mod['STANDARD_ACCURACY'] = mod['RF'].score(X, Y)\n",
    "    \n",
    "    # Computation of recall score\n",
    "    mod['RECALL_SCORE'] = recall_score(Y, Y_pred)\n",
    "    \n",
    "    # Computation of confusion matrix\n",
    "    mod['CONFUSION_MATRIX'] = confusion_matrix(Y,Y_pred)\n",
    "    \n",
    "    # Computation of recall for each class\n",
    "    mod['RECALL_0'] = mod['CONFUSION_MATRIX'][0,0]/np.sum(mod['CONFUSION_MATRIX'][0,:])\n",
    "    mod['RECALL_1'] = mod['CONFUSION_MATRIX'][1,1]/np.sum(mod['CONFUSION_MATRIX'][1,:])\n",
    "    \n",
    "    # Computation of balanced accuracy\n",
    "    mod['BALANCED_ACCURACY'] = balanced_accuracy_score(Y, Y_pred)\n",
    "    \n",
    "    if (show_curves):\n",
    "        # Figure with ROC and precision-recall curves\n",
    "        fig = plt.figure(figsize=(10,5))\n",
    "\n",
    "        fig_roc = fig.add_subplot(1,2,1)\n",
    "        plt.xlabel('False positive rate')\n",
    "        plt.ylabel('True positive rate')\n",
    "        plt.title('ROC curve')\n",
    "\n",
    "        fig_roc.plot(mod['FPR'],mod['TPR'])\n",
    "\n",
    "        fig_pr = fig.add_subplot(1,2,2)\n",
    "        plt.xlabel('Recall')\n",
    "        plt.ylabel('Precision')\n",
    "        plt.title('Precision-Recall curve')\n",
    "\n",
    "        fig_pr.plot(mod['RECALL'], mod['PRECISION'])\n",
    "        \n",
    "        # Plot Confusion Matrix\n",
    "        plt_cm = plot_confusion_matrix(mod['RF'], \n",
    "                                       X_test, \n",
    "                                       Y_test, \n",
    "                                       normalize=None, \n",
    "                                       cmap=plt.cm.Blues,\n",
    "                                       values_format=\"d\"\n",
    "                                      )\n",
    "        plt_cm.ax_.set_title('Confusion Matrix')\n",
    "        \n",
    "        plt.show()\n",
    "\n",
    "    if (verbose):\n",
    "        print(\"Precision: %2.2f\" % mod['STANDARD_ACCURACY'])\n",
    "        print(\"Recall: %2.2f\" % mod['RECALL_SCORE'])\n",
    "        print(\"Recall class 0: %2.2f\" % mod['RECALL_0'])\n",
    "        print(\"Recall class 1: %2.2f\" % mod['RECALL_1'])\n",
    "        print(\"Balanced accuracy: %2.2f\" % mod['BALANCED_ACCURACY'])\n",
    "        print(\"Area under the curve ROC: %2.2f\" % mod['ROC_AUC'])        \n",
    "        print(\"F1 score: %2.2f\" % mod['F1'])\n",
    "        print(\"Average precision score: %2.2f\" % mod['AP'])\n",
    "    \n",
    "    return mod\n",
    "    \n",
    "    \n",
    "def compare_model_curves(model_1, model_2):\n",
    "    \"\"\"\n",
    "    Function that plots and compares ROC and Precision-Recall curves of two models\n",
    "    \"\"\"\n",
    "    plt.figure(figsize=(12,5))\n",
    "\n",
    "    plt.subplot(1,2,1)\n",
    "    plt.plot(model_1['FPR'], model_1['TPR'], label=model_1['LABEL'])\n",
    "    plt.plot(model_2['FPR'], model_2['TPR'], label=model_2['LABEL'])\n",
    "    plt.title('ROC curve')\n",
    "    plt.legend()\n",
    "\n",
    "    plt.subplot(1,2,2)\n",
    "    plt.plot(model_1['RECALL'], model_1['PRECISION'], label=model_1['LABEL'])\n",
    "    plt.plot(model_2['RECALL'], model_2['PRECISION'], label=model_2['LABEL'])\n",
    "    plt.title('Precision-Recall curve')\n",
    "    plt.legend()\n",
    "\n",
    "    plt.show()"
   ]
  },
  {
   "cell_type": "markdown",
   "metadata": {},
   "source": [
    "---\n",
    "## Random Forest Classifier: Base Model\n",
    "\n",
    "Our first RFC to be implemented is the Scikit-Learn's default setting of a RFC. We use all the default parameters, except for the parameters `random_state=0` and `n_jobs=-1`. We will refer to this RFC as the base model.\n",
    "\n",
    "In the cell below, we instantiate `RandomForestClassifier` and fit it with the [train data prepared before](#data_split). Then, we compute all the [performance metrics](#metrics) with the corresponding test data. The figures produced are the ROC and Precision-Recall curves, and the confusion matrix. \n",
    "\n",
    "**As it can be seen from the confusion matrix and recall, this RFC performs poorly, missing lots of positives (device failure)**. We observe that this base RFC is good at predicting non-failure scenarios with an accuracy (recall for class 0) of 0.97, but performs badly in predicting device failure with an accuracy (recall for class 1) of 0.25.\n",
    "\n",
    "The RFC and its metrics are kept in a dictionary named `models`, which will be used latter for comparing all the models."
   ]
  },
  {
   "cell_type": "code",
   "execution_count": 19,
   "metadata": {},
   "outputs": [],
   "source": [
    "# We create the dictionary to keep RFCs and their performance metrics\n",
    "models = dict()"
   ]
  },
  {
   "cell_type": "code",
   "execution_count": 20,
   "metadata": {},
   "outputs": [
    {
     "data": {
      "image/png": "[encoded data removed]",
      "text/plain": [
       "<Figure size 720x360 with 2 Axes>"
      ]
     },
     "metadata": {
      "needs_background": "light"
     },
     "output_type": "display_data"
    },
    {
     "data": {
      "image/png": "[encoded data removed]",
      "text/plain": [
       "<Figure size 432x288 with 2 Axes>"
      ]
     },
     "metadata": {
      "needs_background": "light"
     },
     "output_type": "display_data"
    },
    {
     "name": "stdout",
     "output_type": "stream",
     "text": [
      "Precision: 0.88\n",
      "Recall: 0.25\n",
      "Recall class 0: 0.97\n",
      "Recall class 1: 0.25\n",
      "Balanced accuracy: 0.61\n",
      "Area under the curve ROC: 0.87\n",
      "F1 score: 0.35\n",
      "Average precision score: 0.53\n"
     ]
    }
   ],
   "source": [
    "models['BASE'] = dict()\n",
    "models['BASE']['LABEL'] = 'Base';\n",
    "\n",
    "models['BASE']['RF'] = RandomForestClassifier(random_state=0,\n",
    "                                              n_jobs=-1\n",
    "                                             )\n",
    "\n",
    "models['BASE']['RF'].fit(X_train, Y_train)\n",
    "\n",
    "# Assess_quality\n",
    "models['BASE'] = assess_quality(model=models['BASE'],\n",
    "                                X=X_test,\n",
    "                                Y=Y_test,\n",
    "                                show_curves=True\n",
    "                               )"
   ]
  },
  {
   "cell_type": "markdown",
   "metadata": {},
   "source": [
    "<a id='balanced_RFC'></a>"
   ]
  },
  {
   "cell_type": "markdown",
   "metadata": {},
   "source": [
    "---\n",
    "## Balanced Random Forest Classifier: Base Model\n",
    "\n",
    "Now, we implemented `BalancedRandomForestClassifier` from the imbalanced-learning library. We keep all the default parameters, except for the parameters `random_state=0` and `n_jobs=-1`. We will refer to this model as the base model of a balanced RFC (BRFC).\n",
    "\n",
    "In the cell below, we instatiate `BalancedRandomForestClassifier` and fit the model with the same data used in the base RFC.\n",
    "\n",
    "From looking at the confusion matrix and recall, **we immediately observe a huge improvement with respect to the base model**, that is, accuracy for predicting device failure (recall for class 1) goes from 0.25 in the base model of RFC to 0.79 in this based model of BRFC. On the other hand, accuracy for predicting non-failure (recall for class 0) drops from 0.97 in the base RFC to 0.75 in the base BRFC. \n",
    "\n",
    "This model seems to have a better trade-off between predicting device failure and non-failure. Below now we will look for methods for further improve the accuracy of the BRFC."
   ]
  },
  {
   "cell_type": "code",
   "execution_count": 21,
   "metadata": {},
   "outputs": [
    {
     "data": {
      "image/png": "[encoded data removed]",
      "text/plain": [
       "<Figure size 720x360 with 2 Axes>"
      ]
     },
     "metadata": {
      "needs_background": "light"
     },
     "output_type": "display_data"
    },
    {
     "data": {
      "image/png": "[encoded data removed]",
      "text/plain": [
       "<Figure size 432x288 with 2 Axes>"
      ]
     },
     "metadata": {
      "needs_background": "light"
     },
     "output_type": "display_data"
    },
    {
     "name": "stdout",
     "output_type": "stream",
     "text": [
      "Precision: 0.75\n",
      "Recall: 0.79\n",
      "Recall class 0: 0.75\n",
      "Recall class 1: 0.79\n",
      "Balanced accuracy: 0.77\n",
      "Area under the curve ROC: 0.83\n",
      "F1 score: 0.46\n",
      "Average precision score: 0.51\n"
     ]
    }
   ],
   "source": [
    "models['B_BASE'] = dict()\n",
    "models['B_BASE']['LABEL'] = 'Balanced base';\n",
    "\n",
    "models['B_BASE']['RF'] = BalancedRandomForestClassifier(random_state=0,\n",
    "                                 n_jobs=-1\n",
    "                                )\n",
    "\n",
    "models['B_BASE']['RF'].fit(X_train, Y_train)\n",
    "\n",
    "# Assess_quality\n",
    "models['B_BASE'] = assess_quality(model=models['B_BASE'],\n",
    "                                  X=X_test,\n",
    "                                  Y=Y_test,\n",
    "                                  show_curves=True\n",
    "                                 )"
   ]
  },
  {
   "cell_type": "markdown",
   "metadata": {},
   "source": [
    "<span style=\"color:red\">**IMPORTANT NOTE:**</span> From comparing ROC and Precision-Recall curves for the base RFC and the base BRFC we observe that these metrics are misleading, and do not reflect the accuracy for predicting device failure. Therefore, from this point on only recall for class 0 and 1 together with balanced accuracy will be used to measure model performance.\n",
    "\n",
    "The cell below plots the ROC and the Precision-Recall curves for the base RFC and the base BRFC. As mentioned before, these metrics are misleading, not reflecting the real accuracy for predicting the minority class (device failure) in our dataset."
   ]
  },
  {
   "cell_type": "code",
   "execution_count": 22,
   "metadata": {},
   "outputs": [
    {
     "data": {
      "image/png": "[encoded data removed]",
      "text/plain": [
       "<Figure size 864x360 with 2 Axes>"
      ]
     },
     "metadata": {
      "needs_background": "light"
     },
     "output_type": "display_data"
    }
   ],
   "source": [
    "# Comparison of current model's ROC and Precision-curves with base model's\n",
    "compare_model_curves(models['BASE'], models['B_BASE'])"
   ]
  },
  {
   "cell_type": "markdown",
   "metadata": {},
   "source": [
    "<a id='feature_selection'></a>"
   ]
  },
  {
   "cell_type": "markdown",
   "metadata": {},
   "source": [
    "---\n",
    "## Feature Selection\n",
    "\n",
    "We now perform [feature selection](https://scikit-learn.org/stable/modules/feature_selection.html) of the training data to try to improve the accuracy of our base BRFC.\n",
    "\n",
    "Feature selection will effectively reduce the number of features (attribute values) in the train and test data by selecting a subset of features that show the higher correlation score with the target variable (failure). \n",
    "\n",
    "We can check the number of features in our train and test data as shown below:"
   ]
  },
  {
   "cell_type": "code",
   "execution_count": 23,
   "metadata": {},
   "outputs": [
    {
     "data": {
      "text/plain": [
       "(426, 126)"
      ]
     },
     "execution_count": 23,
     "metadata": {},
     "output_type": "execute_result"
    }
   ],
   "source": [
    "X_train.shape"
   ]
  },
  {
   "cell_type": "markdown",
   "metadata": {},
   "source": [
    "where 126 is the number of columns in `X_train`, that is, the number of features.\n",
    "\n",
    "In the cell below we implemented two functions for selecting a subset of features using standard correlation (`feature_selection_correlation`), and using a $\\chi^2$-test (`select_K_Best_Features`) between features and the target variable. In the former case, we compute the correlation between features and target variable using the built-in Pandas function `corr()`, while in the latter case we use the Scikit-Learn class [SelectKBest](https://scikit-learn.org/stable/modules/generated/sklearn.feature_selection.SelectKBest.html#sklearn.feature_selection.SelectKBest) with $\\chi^2$-test as the scoring function.\n",
    "\n",
    "When selecting features using correlation, we only take into account those features with positive correlation with the target variable. On the other hand, when using a $\\chi^2$-test we use $1/4$, $1/2$, and $3/4$ the original number of features in `X_train` and `X_test`, then choose the model with feature selection showing higher accuracy."
   ]
  },
  {
   "cell_type": "code",
   "execution_count": 24,
   "metadata": {},
   "outputs": [],
   "source": [
    "def select_K_Best_Features(X_train, X_test, Y_train, num_features):\n",
    "    \"\"\"Selection of k best features using chi2 test. Training and test DataFrames returned\"\"\"\n",
    "    KBest_selector = SelectKBest(chi2, k=num_features)\n",
    "    KBest_selector.fit(X_train, Y_train)\n",
    "\n",
    "    X_train_kbest = KBest_selector.transform(X_train)\n",
    "    X_test_kbest = KBest_selector.transform(X_test)\n",
    "    \n",
    "    indices = KBest_selector.get_support()\n",
    "    kbest_features = X_train.columns[indices]\n",
    "    \n",
    "    return X_train_kbest, X_test_kbest, kbest_features\n",
    "\n",
    "def feature_selection_correlation(X_TRAIN, Y_TRAIN, X_TEST):\n",
    "    \"\"\"\n",
    "    Function that computes the correlation between features and target variable and returns \n",
    "    positive correlated features only.\n",
    "    \"\"\"\n",
    "    df_ = pd.concat([X_TRAIN, Y_TRAIN], axis='columns')\n",
    "    \n",
    "    corr = df_.corr().copy(deep=True)\n",
    "    \n",
    "    corr_target = corr[metadata['target']].sort_values(ascending=False,\n",
    "                                                       inplace=False\n",
    "                                                      )\n",
    "    \n",
    "    corr_target = corr_target.drop(index=metadata['target'])\n",
    "    \n",
    "    selected_features = corr_target[corr_target > 0.0].index.values.tolist()\n",
    "    \n",
    "    X_train_corr = X_TRAIN[selected_features]\n",
    "    X_test_corr = X_TEST[selected_features]\n",
    "    \n",
    "    return X_train_corr, X_test_corr\n",
    "\n",
    "def model_with_feature_selection(metadata, X_train, Y_train, X_test, Y_test, verbose=True):\n",
    "    \"\"\"Function that trains and evaluate balanced random forests classifiers using feature selection\"\"\"\n",
    "    \n",
    "    # Feature selection using SelectKBest with chi2 test for features\n",
    "    fraction_of_features = [0.25, 0.5, 0.75]\n",
    "    kbest_mods = []\n",
    "    best_kbest = dict()\n",
    "    for ii,frac in enumerate(fraction_of_features, start=0):\n",
    "        num_features = int( frac*len(metadata['features']) )\n",
    "        \n",
    "        # Selection of k-best features\n",
    "        X_train_kbest, X_test_kbest, kbest_features = select_K_Best_Features(X_train=X_train,\n",
    "                                                                             X_test=X_test,\n",
    "                                                                             Y_train=Y_train,\n",
    "                                                                             num_features=num_features\n",
    "                                                                            )\n",
    "        \n",
    "        # Instantiate and fit balanced random forest classifier\n",
    "        kbest_mods.append( dict() )\n",
    "        kbest_mods[ii]['NUM_FEATURES'] = num_features\n",
    "        kbest_mods[ii]['RF'] = BalancedRandomForestClassifier(random_state=0,\n",
    "                                                              n_jobs=-1\n",
    "                                                             )\n",
    "        \n",
    "        kbest_mods[ii]['RF'].fit(X_train_kbest, Y_train)\n",
    "    \n",
    "        kbest_mods[ii] = assess_quality(model=kbest_mods[ii],\n",
    "                                        X=X_test_kbest,\n",
    "                                        Y=Y_test,\n",
    "                                        show_curves=False,\n",
    "                                        verbose=False\n",
    "                                       )\n",
    "\n",
    "        kbest_mods[ii]['X_TRAIN'] = X_train_kbest\n",
    "        kbest_mods[ii]['X_TEST'] = X_test_kbest\n",
    "\n",
    "        # Select best model using balanced accuracy\n",
    "        if (len(best_kbest) == 0):\n",
    "            best_kbest = kbest_mods[ii]\n",
    "        else:\n",
    "            if (best_kbest['BALANCED_ACCURACY'] < kbest_mods[ii]['BALANCED_ACCURACY']):\n",
    "                best_kbest = kbest_mods[ii]\n",
    "                \n",
    "                \n",
    "    # Feature selection using correlation\n",
    "    X_train_corr, X_test_corr = feature_selection_correlation(X_TRAIN=X_train,\n",
    "                                                              Y_TRAIN=Y_train,\n",
    "                                                              X_TEST=X_test\n",
    "                                                             )\n",
    "    \n",
    "    # Instantiate and fit balanced random forest classifier\n",
    "    mod_corr = dict()\n",
    "    mod_corr['NUM_FEATURES'] = X_train_corr.shape[1]\n",
    "    \n",
    "    mod_corr['RF'] = BalancedRandomForestClassifier(random_state=0,\n",
    "                                                    n_jobs=-1\n",
    "                                                   )\n",
    "\n",
    "    mod_corr['RF'].fit(X_train_corr, Y_train)\n",
    "\n",
    "    # Assess_quality\n",
    "    mod_corr = assess_quality(model=mod_corr,\n",
    "                              X=X_test_corr,\n",
    "                              Y=Y_test,\n",
    "                              show_curves=False,\n",
    "                              verbose=False\n",
    "                             )\n",
    "    \n",
    "    mod_corr['X_TRAIN'] = X_train_corr\n",
    "    mod_corr['X_TEST'] = X_test_corr\n",
    "    \n",
    "    model = dict()\n",
    "    print(\"MODEL WITH FEATURE SELECTION:\")\n",
    "    # Choose between kbest and correlation feature selection\n",
    "    if (best_kbest['BALANCED_ACCURACY'] > mod_corr['BALANCED_ACCURACY']):\n",
    "        model = best_kbest\n",
    "        print(\"Best model with feature selection using CHI2 TEST\")\n",
    "    else:\n",
    "        model = mod_corr\n",
    "        print(\"Best model with feature selection using CORRELATION\")\n",
    "        \n",
    "    model['LABEL'] = 'Feature selection'    \n",
    "    \n",
    "    print(\"Number of selected features: %4d (out of %4d)\" % (model['NUM_FEATURES'], X_train.shape[1]) )\n",
    "\n",
    "    # Brief resume of recalls\n",
    "    if verbose:\n",
    "        print(\"Balanced accuracy %1.2f\" % model['BALANCED_ACCURACY'])\n",
    "        print(\"Recall class 0: %1.2f\" % model['RECALL_0'])\n",
    "        print(\"Recall class 1: %1.2f\" % model['RECALL_1'])\n",
    "    \n",
    "    return model"
   ]
  },
  {
   "cell_type": "markdown",
   "metadata": {},
   "source": [
    "Next, both methods for feature selection are applied to the train and test data using the function `model_with_feature_selection`. This function returns the BRFC with feature selection that shows the best balanced accuracy. It also returns the train (`models['FEATURE_SELECTION']['X_TRAIN']`) and test (`models['FEATURE_SELECTION']['X_TEST']`) data used in the model."
   ]
  },
  {
   "cell_type": "code",
   "execution_count": 25,
   "metadata": {},
   "outputs": [
    {
     "name": "stdout",
     "output_type": "stream",
     "text": [
      "MODEL WITH FEATURE SELECTION:\n",
      "Best model with feature selection using CHI2 TEST\n",
      "Number of selected features:   94 (out of  126)\n",
      "Balanced accuracy 0.83\n",
      "Recall class 0: 0.83\n",
      "Recall class 1: 0.83\n"
     ]
    }
   ],
   "source": [
    "models['FEATURE_SELECTION'] = dict()\n",
    "\n",
    "models['FEATURE_SELECTION'] = model_with_feature_selection(metadata=metadata, \n",
    "                                                           X_train=X_train, \n",
    "                                                           Y_train=Y_train, \n",
    "                                                           X_test=X_test, \n",
    "                                                           Y_test=Y_test\n",
    "                                                          )"
   ]
  },
  {
   "cell_type": "markdown",
   "metadata": {},
   "source": [
    "As seen from the execution of cell above, for this particular case where we use 14 days of historical data for predicting failure in a 5-day period time, **the number of features in `X_train` and `X_test` go from 126 to 94 using $\\chi^2$-test, improving accuracy from 0.75 and 0.79 for class 0 and 1, respectively, to 0.83 in both cases.**\n",
    "\n",
    "**Feature selection have improved our BRFC.** Now, we try to further improve this model using fine-tuning of the hyperparameters used to implement the BRFC."
   ]
  },
  {
   "cell_type": "markdown",
   "metadata": {},
   "source": [
    "<a id='random_search_CV'></a>"
   ]
  },
  {
   "cell_type": "markdown",
   "metadata": {},
   "source": [
    "---\n",
    "## Hyperparameter Optimization\n",
    "\n",
    "Further improvements to our BRFC might be achieved by using the best hyperparameters used in the implementation of the BRFC that use feature selection (see previous section).\n",
    "\n",
    "We try different sets of parameters for implementing the BRFC with fearure selection, and through a cross-validation analysis choose the one with better [balanced accuracy](#metrics) (`BALANCED_ACCURACY`).\n",
    "\n",
    "We implement the cross-validation analysis using the Scikit-Learn class [`RandomizedSearchCV`](https://scikit-learn.org/stable/modules/generated/sklearn.model_selection.RandomizedSearchCV.html), which randomly chooses sub-sets of parameters for implementing the BRFC from the parameter space defined by the user.\n",
    "\n",
    "In the cell below we set the parameter space to be used in the cross-validation analysis. All the posible values of parameters to be used in the BRFC implementation are kept in the dictionary `metadata['RSCV_params']`. \n",
    "\n",
    "We are mainly focused in trying different number of estimators (decision trees in random forest), going from 10 to 500. We explore the way nodes are split in estimators by varying the `min_samples_split` parameter. Also, we are interested in the way leaf nodes are defined `min_samples_leaf`. \n",
    "\n",
    "For our cross-validation test, we use 100 iterations in `RandomizedSearchCV`, meaning that we will test 100 set of parameters for implementing the BRFC, then we will choose between those 100 implementations the one with higher balanced accuracy."
   ]
  },
  {
   "cell_type": "code",
   "execution_count": 26,
   "metadata": {},
   "outputs": [],
   "source": [
    "metadata['RSCV_params'] = dict()\n",
    "metadata['RSCV_params']['RSCV_iterations'] = 100\n",
    "metadata['RSCV_params']['n_estimators'] = [None] + [x for x in range(10,500,50)]\n",
    "metadata['RSCV_params']['max_features'] = ['auto', 'sqrt', None]\n",
    "metadata['RSCV_params']['min_samples_split'] = [2, 10, 20]\n",
    "metadata['RSCV_params']['min_samples_leaf'] = [1, 5, 10]\n",
    "metadata['RSCV_params']['class_weight'] = [None, 'balanced','balanced_subsample']"
   ]
  },
  {
   "cell_type": "code",
   "execution_count": 27,
   "metadata": {},
   "outputs": [],
   "source": [
    "def get_best_random_search_CV_model(metadata, X_train, Y_train, X_test, Y_test):\n",
    "    \"\"\"\n",
    "    Function to optimize a balanced random forest through random search of optimal hyperparameters\n",
    "    \"\"\"\n",
    "    \n",
    "    print(\"HYPERPARAMETER OPTIMIZATION: \")\n",
    "    \n",
    "    # Create the random grid\n",
    "    parameters_grid = {'n_estimators':metadata['RSCV_params']['n_estimators'],\n",
    "                       'max_features':metadata['RSCV_params']['max_features'],\n",
    "                       'min_samples_split':metadata['RSCV_params']['min_samples_split'],\n",
    "                       'min_samples_leaf':metadata['RSCV_params']['min_samples_leaf'],\n",
    "                       'class_weight':metadata['RSCV_params']['class_weight']\n",
    "                      }\n",
    "\n",
    "    # Random forest whose parameters will be optimized\n",
    "    brf = BalancedRandomForestClassifier(random_state=0)\n",
    "\n",
    "    brf_random = RandomizedSearchCV(estimator=brf,\n",
    "                                    param_distributions=parameters_grid,\n",
    "                                    n_iter = metadata['RSCV_params']['RSCV_iterations'], \n",
    "                                    scoring='balanced_accuracy',\n",
    "                                    cv = None, \n",
    "                                    verbose=3, \n",
    "                                    random_state=0, \n",
    "                                    n_jobs=-1,\n",
    "                                    return_train_score=True\n",
    "                                   )\n",
    "\n",
    "    # Fit model\n",
    "    brf_random.fit(X_train, Y_train);\n",
    "\n",
    "    best_brf_random = dict()\n",
    "    \n",
    "    best_brf_random['RF'] = brf_random.best_estimator_\n",
    "\n",
    "    # Assess_quality\n",
    "    best_brf_random = assess_quality(model=best_brf_random,\n",
    "                                     X=X_test,\n",
    "                                     Y=Y_test,\n",
    "                                     show_curves=False,\n",
    "                                     verbose=False\n",
    "                                    )\n",
    "\n",
    "    \n",
    "    return best_brf_random"
   ]
  },
  {
   "cell_type": "code",
   "execution_count": 28,
   "metadata": {
    "scrolled": true
   },
   "outputs": [
    {
     "name": "stdout",
     "output_type": "stream",
     "text": [
      "Optimizing balanced random forest classifier with feature selection\n",
      "HYPERPARAMETER OPTIMIZATION: \n",
      "Fitting 5 folds for each of 100 candidates, totalling 500 fits\n"
     ]
    },
    {
     "name": "stderr",
     "output_type": "stream",
     "text": [
      "[Parallel(n_jobs=-1)]: Using backend LokyBackend with 16 concurrent workers.\n",
      "[Parallel(n_jobs=-1)]: Done  96 tasks      | elapsed:    4.8s\n",
      "[Parallel(n_jobs=-1)]: Done 256 tasks      | elapsed:   12.4s\n",
      "[Parallel(n_jobs=-1)]: Done 500 out of 500 | elapsed:   24.6s finished\n"
     ]
    },
    {
     "name": "stdout",
     "output_type": "stream",
     "text": [
      "Balanced accuracy 0.83\n",
      "Recall class 0: 0.83\n",
      "Recall class 1: 0.83\n"
     ]
    }
   ],
   "source": [
    "if (models['B_BASE']['BALANCED_ACCURACY'] > models['FEATURE_SELECTION']['BALANCED_ACCURACY']):\n",
    "    print(\"Optimizing base balanced random forest classifier\")\n",
    "    \n",
    "    models['RSCV'] = get_best_random_search_CV_model(metadata=metadata,\n",
    "                                                     X_train=X_train, \n",
    "                                                     Y_train=Y_train, \n",
    "                                                     X_test=X_test, \n",
    "                                                     Y_test=Y_test\n",
    "                                                    )\n",
    "else:\n",
    "    print(\"Optimizing balanced random forest classifier with feature selection\")\n",
    "    \n",
    "    models['RSCV'] = get_best_random_search_CV_model(metadata=metadata,\n",
    "                                                     X_train=models['FEATURE_SELECTION']['X_TRAIN'], \n",
    "                                                     Y_train=Y_train, \n",
    "                                                     X_test=models['FEATURE_SELECTION']['X_TEST'], \n",
    "                                                     Y_test=Y_test\n",
    "                                                    )\n",
    "    \n",
    "# Brief resume of recalls\n",
    "print(\"Balanced accuracy %1.2f\" % models['RSCV']['BALANCED_ACCURACY'])\n",
    "print(\"Recall class 0: %1.2f\" % models['RSCV']['RECALL_0'])\n",
    "print(\"Recall class 1: %1.2f\" % models['RSCV']['RECALL_1'])\n",
    "    \n",
    "models['RSCV']['LABEL'] = 'Randomized search CV'"
   ]
  },
  {
   "cell_type": "markdown",
   "metadata": {},
   "source": [
    "**In this case, our cross-validation analysis shows that no improvement in the accuracy of the BRFC with feature selection is achieved**. However, for other [scenarios with different prediction periods](#best_model) this shows a modest improvement."
   ]
  },
  {
   "cell_type": "markdown",
   "metadata": {},
   "source": [
    "<a id='comparison'></a>"
   ]
  },
  {
   "cell_type": "markdown",
   "metadata": {},
   "source": [
    "---\n",
    "## Model Comparison: Choosing the Best Performing Model\n",
    "\n",
    "We finally compare all the models implemented above by using the [balanced accuracy score](#metrics).\n",
    "\n",
    "The function `compare_BA_scores` in the following cell compares and plots the balanced accuracy for all the models. Choosing among these models the one with the best balanced accuracy."
   ]
  },
  {
   "cell_type": "code",
   "execution_count": 29,
   "metadata": {},
   "outputs": [],
   "source": [
    "def compare_BA_scores(metadata, models_dict, show_plot=True):\n",
    "    list_models = list(models_dict.keys())\n",
    "    y_pos = np.arange(len(list_models))\n",
    "    score = [models_dict[model]['BALANCED_ACCURACY'] for model in list_models]\n",
    "    \n",
    "    S = pd.Series(data=score, index=list_models)\n",
    "\n",
    "    higher_score = 100.0*S.max()\n",
    "    model = S.idxmax()\n",
    "    \n",
    "    print(\"Higher Balanced Accuracy: %3.2f%% | %10s\" % (higher_score, model))\n",
    "\n",
    "    if show_plot:\n",
    "        fig, ax = plt.subplots(figsize=(6,7))\n",
    "        ax.grid(axis='both',\n",
    "                 alpha=0.3\n",
    "                )\n",
    "\n",
    "        ax.barh(y_pos, score, align='center', alpha=0.8)\n",
    "        for ii,model in enumerate(list_models):\n",
    "            annotation = \"{:3.2f}\".format( 100.0*models_dict[model]['BALANCED_ACCURACY'] ) + \"%\"\n",
    "            ax.annotate(s=annotation,\n",
    "                        xy=(models_dict[model]['BALANCED_ACCURACY'] ,y_pos[ii])\n",
    "                       )\n",
    "        plt.yticks(y_pos, list_models)        \n",
    "        plt.xlabel('Balanced Accuracy (%)')\n",
    "        plt.xlim((0, 1))\n",
    "        plt.title('Days prediction: %3d | Days historic data: %3d' % (metadata['days_of_prediction'], metadata['days_of_training_data']))\n",
    "\n",
    "        plt.show()\n",
    "        \n",
    "    return higher_score, model"
   ]
  },
  {
   "cell_type": "code",
   "execution_count": 30,
   "metadata": {},
   "outputs": [
    {
     "name": "stdout",
     "output_type": "stream",
     "text": [
      "Higher Balanced Accuracy: 83.18% | FEATURE_SELECTION\n"
     ]
    },
    {
     "data": {
      "image/png": "[encoded data removed]",
      "text/plain": [
       "<Figure size 432x504 with 1 Axes>"
      ]
     },
     "metadata": {
      "needs_background": "light"
     },
     "output_type": "display_data"
    }
   ],
   "source": [
    "_, _ = compare_BA_scores(metadata, models)"
   ]
  },
  {
   "cell_type": "markdown",
   "metadata": {},
   "source": [
    "For this exercise, where we use **14 days of historical data for predicting failure in a 5-day period time**, the **best model is a balanced random forest classifier with feature selection using a $\\chi^2$-test**, achieving **83% of accuracy for predicting both device failure and non-failure**.\n",
    "\n",
    "The following diagram shows the whole process we went through for finding the best model with higher accuracy. The red lines show the paths taken during decision making for choosing the best model.\n",
    "\n",
    "![title](images/model_selection.png)"
   ]
  },
  {
   "cell_type": "markdown",
   "metadata": {},
   "source": [
    "<a id='best_model'></a>"
   ]
  },
  {
   "cell_type": "markdown",
   "metadata": {},
   "source": [
    "---\n",
    "## Cross Validation Analysis for Finding Best Model: Varying Prediction Period\n",
    "\n",
    "When the period of prediction can be varied and the number of days in historical data can be varied as well, we can repeat the whole processes described in previous sections, which is summarized in the figure above.\n",
    "\n",
    "The function `search_best_model` in the cell below automates the whole process, giving as the **final result the model with higer balanced accuracy when we vary the period of prediction and the number of days in historical data for training the models**. \n",
    "\n",
    "**All the parameter used in the base BRFC as well as in the feature selection and hyperparameter optimization analysis remain unchanged, with respect to the values set in previous sections**."
   ]
  },
  {
   "cell_type": "code",
   "execution_count": 31,
   "metadata": {},
   "outputs": [],
   "source": [
    "def search_best_model(list_days_of_training_data, list_days_of_prediction):\n",
    "    \"\"\"\n",
    "    Function that scans different values of days of prediction and days of historical data \n",
    "    to be used during training.\n",
    "    \"\"\"\n",
    "    \n",
    "    best_models = dict()\n",
    "    \n",
    "    for days_prediction in list_days_of_prediction:\n",
    "    \n",
    "        best_models[days_prediction] = dict()\n",
    "        for days_training in list_days_of_training_data:\n",
    "            print(\"\\n\")\n",
    "            print(\"DAYS OF PREDICTION: %3d | DAYS OF TRAINING DATA: %3d\"  % (days_prediction, days_training))\n",
    "            \n",
    "            metadata['days_of_training_data'] = days_training\n",
    "            metadata['days_of_prediction'] = days_prediction\n",
    "            metadata['total_days_of_data'] = metadata['days_of_training_data'] + metadata['days_of_prediction']\n",
    "\n",
    "            df_model = generate_model_dataset(df=df_raw_data,\n",
    "                                              df_analysis=data_analysis,\n",
    "                                              metadata=metadata\n",
    "                                             )\n",
    "\n",
    "            # Data split in training and test subsets\n",
    "            X_train, X_test, Y_train, Y_test = split_data(metadata, df_model)\n",
    "            \n",
    "            # Dictionary keeping different models\n",
    "            mods = dict()\n",
    "    \n",
    "            # Base model (Balanced Random Forest Classifier)\n",
    "            mods['B_BASE'] = dict()\n",
    "            mods['B_BASE']['LABEL'] = 'Balanced base';\n",
    "\n",
    "            mods['B_BASE']['RF'] = BalancedRandomForestClassifier(random_state=0,\n",
    "                                                                  n_jobs=-1\n",
    "                                                                 )\n",
    "\n",
    "            mods['B_BASE']['RF'].fit(X_train, Y_train)\n",
    "\n",
    "            # Assess_quality\n",
    "            mods['B_BASE'] = assess_quality(model=mods['B_BASE'],\n",
    "                                            X=X_test,\n",
    "                                            Y=Y_test,\n",
    "                                            show_curves=False,\n",
    "                                            verbose=False\n",
    "                                           )\n",
    "\n",
    "            # Feature reduction\n",
    "            mods['FEATURE_SELECTION'] = dict()\n",
    "\n",
    "            mods['FEATURE_SELECTION'] = model_with_feature_selection(metadata=metadata, \n",
    "                                                                     X_train=X_train, \n",
    "                                                                     Y_train=Y_train, \n",
    "                                                                     X_test=X_test, \n",
    "                                                                     Y_test=Y_test,\n",
    "                                                                     verbose=False\n",
    "                                                                    )\n",
    "\n",
    "            # Random search of hyperparameters\n",
    "            if (mods['B_BASE']['BALANCED_ACCURACY'] > mods['FEATURE_SELECTION']['BALANCED_ACCURACY']):\n",
    "                mods['RSCV'] = get_best_random_search_CV_model(metadata=metadata,\n",
    "                                                               X_train=X_train, \n",
    "                                                               Y_train=Y_train, \n",
    "                                                               X_test=X_test, \n",
    "                                                               Y_test=Y_test\n",
    "                                                              )\n",
    "            else:\n",
    "                mods['RSCV'] = get_best_random_search_CV_model(metadata=metadata,\n",
    "                                                               X_train=mods['FEATURE_SELECTION']['X_TRAIN'], \n",
    "                                                               Y_train=Y_train, \n",
    "                                                               X_test=mods['FEATURE_SELECTION']['X_TEST'], \n",
    "                                                               Y_test=Y_test\n",
    "                                                              )\n",
    "            \n",
    "            \n",
    "            \n",
    "            # Model comparison\n",
    "            best_models[days_prediction][days_training] = dict()\n",
    "            best_models[days_prediction][days_training]['score'], best_models[days_prediction][days_training]['model'] = compare_BA_scores(metadata, \n",
    "                                                                                                                                           mods, \n",
    "                                                                                                                                           False\n",
    "                                                                                                                                          )\n",
    "            \n",
    "    best_model = dict()\n",
    "    best_model['DAYS_OF_PREDICTION'] = 0\n",
    "    best_model['DAYS_OF_TRAINING_DATA'] = 0\n",
    "    best_model['SCORE'] = 0\n",
    "    best_model['MODEL'] = \"\"\n",
    "    \n",
    "    for days_prediction in list_days_of_prediction:\n",
    "        for days_training in list_days_of_training_data:\n",
    "            if (len(best_model) == 0):\n",
    "                best_model['DAYS_OF_PREDICTION'] = days_prediction\n",
    "                best_model['DAYS_OF_TRAINING_DATA'] = days_training\n",
    "                best_model['SCORE'] = best_models[days_prediction][days_training]['score']\n",
    "                best_model['MODEL'] = best_models[days_prediction][days_training]['model']\n",
    "            else:\n",
    "                if(best_models[days_prediction][days_training]['score'] > best_model['SCORE']):\n",
    "                    best_model['DAYS_OF_PREDICTION'] = days_prediction\n",
    "                    best_model['DAYS_OF_TRAINING_DATA'] = days_training\n",
    "                    best_model['SCORE'] = best_models[days_prediction][days_training]['score']\n",
    "                    best_model['MODEL'] = best_models[days_prediction][days_training]['model']\n",
    "                \n",
    "    print(\"BEST MODEL: \")\n",
    "    print(\"MODEL STRATEGY: \", best_model['MODEL'])\n",
    "    print(\"BALANCED ACCURACY: %3.2f%%\" % best_model['SCORE'])\n",
    "    print(\"DAYS OF PREDICTION: \", best_model['DAYS_OF_PREDICTION'])\n",
    "    print(\"DAYS OF HISOTORICAL DATA: \", best_model['DAYS_OF_TRAINING_DATA'])\n",
    "\n",
    "    "
   ]
  },
  {
   "cell_type": "markdown",
   "metadata": {},
   "source": [
    "We set the number of days of historical data to be tested in the list `list_days_of_training_data`, and the days of prediction to be tested in the list `list_days_of_prediction`."
   ]
  },
  {
   "cell_type": "markdown",
   "metadata": {},
   "source": [
    "## Conclusion from Cross-Validation Analysis\n",
    "\n",
    "For an easier reading of the main results, we summarize our findings here, which are drawn from a careful analysis of the [cross-validation results](#end_of_notebook).\n",
    "\n",
    "From the cross-validation analysis we find that the best model for predicting device failure is a **balanced random forest classifier with feature selection, with 88% of balanced accuracy using 14 days of historical data for predicting device failure in a 2-day period time**. \n",
    "\n",
    "The second best model found through the cross-validation analysis is a **balanced random forest classifier with hyperparameter optimization, with 87% of balanced accuracy using 14 days of historical data for predicting device failure in a 1-day period time**. \n",
    "\n",
    "The third best model found through the cross-validation analysis is a **balanced random forest classifier with feature selection, with 85% of balanced accuracy using 10 days of historical data for predicting device failure in a 6-day period time**. \n",
    "\n",
    "Depending on the desired period of time for the prediction, **one might choose between higher accurate models for 1- or 2-days predictions, or slightly less accurate models with relatively longer (6-day) predictions**."
   ]
  },
  {
   "cell_type": "code",
   "execution_count": 32,
   "metadata": {},
   "outputs": [
    {
     "name": "stdout",
     "output_type": "stream",
     "text": [
      "\n",
      "\n",
      "DAYS OF PREDICTION:   1 | DAYS OF TRAINING DATA:   5\n",
      "DATA PREPARATION: \n",
      "Number of devices to be used:  887\n",
      "Number of failing devices in dataset: 10.15%\n",
      "Number of working devices in dataset: 89.85%\n"
     ]
    },
    {
     "data": {
      "application/vnd.jupyter.widget-view+json": {
       "model_id": "7e15cf9fc52742cd9ffd1a4174eb253c",
       "version_major": 2,
       "version_minor": 0
      },
      "text/plain": [
       "HBox(children=(FloatProgress(value=0.0, max=887.0), HTML(value='')))"
      ]
     },
     "metadata": {},
     "output_type": "display_data"
    },
    {
     "name": "stdout",
     "output_type": "stream",
     "text": [
      "\n",
      "DATA SPLITTING: \n",
      "Rows (devices) in dataset:  887\n",
      "Rows (devices) in train subset:  620\n",
      "Rows (devices) in test subset:  267\n",
      "MODEL WITH FEATURE SELECTION:\n",
      "Best model with feature selection using CORRELATION\n",
      "Number of selected features:   27 (out of   45)\n",
      "HYPERPARAMETER OPTIMIZATION: \n",
      "Fitting 5 folds for each of 100 candidates, totalling 500 fits\n"
     ]
    },
    {
     "name": "stderr",
     "output_type": "stream",
     "text": [
      "[Parallel(n_jobs=-1)]: Using backend LokyBackend with 16 concurrent workers.\n",
      "[Parallel(n_jobs=-1)]: Done 151 tasks      | elapsed:    5.9s\n",
      "[Parallel(n_jobs=-1)]: Done 320 tasks      | elapsed:   14.0s\n",
      "[Parallel(n_jobs=-1)]: Done 500 out of 500 | elapsed:   22.7s finished\n"
     ]
    },
    {
     "name": "stdout",
     "output_type": "stream",
     "text": [
      "Higher Balanced Accuracy: 82.38% |     B_BASE\n",
      "\n",
      "\n",
      "DAYS OF PREDICTION:   1 | DAYS OF TRAINING DATA:   7\n",
      "DATA PREPARATION: \n",
      "Number of devices to be used:  636\n",
      "Number of failing devices in dataset: 13.99%\n",
      "Number of working devices in dataset: 86.01%\n"
     ]
    },
    {
     "data": {
      "application/vnd.jupyter.widget-view+json": {
       "model_id": "e61352203fac4e45aeb2a904c966ec12",
       "version_major": 2,
       "version_minor": 0
      },
      "text/plain": [
       "HBox(children=(FloatProgress(value=0.0, max=636.0), HTML(value='')))"
      ]
     },
     "metadata": {},
     "output_type": "display_data"
    },
    {
     "name": "stdout",
     "output_type": "stream",
     "text": [
      "\n",
      "DATA SPLITTING: \n",
      "Rows (devices) in dataset:  636\n",
      "Rows (devices) in train subset:  445\n",
      "Rows (devices) in test subset:  191\n",
      "MODEL WITH FEATURE SELECTION:\n",
      "Best model with feature selection using CORRELATION\n",
      "Number of selected features:   40 (out of   63)\n",
      "HYPERPARAMETER OPTIMIZATION: \n",
      "Fitting 5 folds for each of 100 candidates, totalling 500 fits\n"
     ]
    },
    {
     "name": "stderr",
     "output_type": "stream",
     "text": [
      "[Parallel(n_jobs=-1)]: Using backend LokyBackend with 16 concurrent workers.\n",
      "[Parallel(n_jobs=-1)]: Done 151 tasks      | elapsed:    5.7s\n",
      "[Parallel(n_jobs=-1)]: Done 320 tasks      | elapsed:   13.6s\n",
      "[Parallel(n_jobs=-1)]: Done 500 out of 500 | elapsed:   22.0s finished\n"
     ]
    },
    {
     "name": "stdout",
     "output_type": "stream",
     "text": [
      "Higher Balanced Accuracy: 81.58% |     B_BASE\n",
      "\n",
      "\n",
      "DAYS OF PREDICTION:   1 | DAYS OF TRAINING DATA:  10\n",
      "DATA PREPARATION: \n",
      "Number of devices to be used:  635\n",
      "Number of failing devices in dataset: 13.86%\n",
      "Number of working devices in dataset: 86.14%\n"
     ]
    },
    {
     "data": {
      "application/vnd.jupyter.widget-view+json": {
       "model_id": "d9f1065c61cb4fe78bfefbfc340e5394",
       "version_major": 2,
       "version_minor": 0
      },
      "text/plain": [
       "HBox(children=(FloatProgress(value=0.0, max=635.0), HTML(value='')))"
      ]
     },
     "metadata": {},
     "output_type": "display_data"
    },
    {
     "name": "stdout",
     "output_type": "stream",
     "text": [
      "\n",
      "DATA SPLITTING: \n",
      "Rows (devices) in dataset:  635\n",
      "Rows (devices) in train subset:  444\n",
      "Rows (devices) in test subset:  191\n",
      "MODEL WITH FEATURE SELECTION:\n",
      "Best model with feature selection using CORRELATION\n",
      "Number of selected features:   56 (out of   90)\n",
      "HYPERPARAMETER OPTIMIZATION: \n",
      "Fitting 5 folds for each of 100 candidates, totalling 500 fits\n"
     ]
    },
    {
     "name": "stderr",
     "output_type": "stream",
     "text": [
      "[Parallel(n_jobs=-1)]: Using backend LokyBackend with 16 concurrent workers.\n",
      "[Parallel(n_jobs=-1)]: Done 151 tasks      | elapsed:    5.7s\n",
      "[Parallel(n_jobs=-1)]: Done 320 tasks      | elapsed:   13.7s\n",
      "[Parallel(n_jobs=-1)]: Done 500 out of 500 | elapsed:   22.2s finished\n"
     ]
    },
    {
     "name": "stdout",
     "output_type": "stream",
     "text": [
      "Higher Balanced Accuracy: 81.89% | FEATURE_SELECTION\n",
      "\n",
      "\n",
      "DAYS OF PREDICTION:   1 | DAYS OF TRAINING DATA:  14\n",
      "DATA PREPARATION: \n",
      "Number of devices to be used:  611\n",
      "Number of failing devices in dataset: 14.08%\n",
      "Number of working devices in dataset: 85.92%\n"
     ]
    },
    {
     "data": {
      "application/vnd.jupyter.widget-view+json": {
       "model_id": "752c4a0202074a8f88285e1730259f16",
       "version_major": 2,
       "version_minor": 0
      },
      "text/plain": [
       "HBox(children=(FloatProgress(value=0.0, max=611.0), HTML(value='')))"
      ]
     },
     "metadata": {},
     "output_type": "display_data"
    },
    {
     "name": "stdout",
     "output_type": "stream",
     "text": [
      "\n",
      "DATA SPLITTING: \n",
      "Rows (devices) in dataset:  611\n",
      "Rows (devices) in train subset:  427\n",
      "Rows (devices) in test subset:  184\n",
      "MODEL WITH FEATURE SELECTION:\n",
      "Best model with feature selection using CHI2 TEST\n",
      "Number of selected features:   63 (out of  126)\n",
      "HYPERPARAMETER OPTIMIZATION: \n",
      "Fitting 5 folds for each of 100 candidates, totalling 500 fits\n"
     ]
    },
    {
     "name": "stderr",
     "output_type": "stream",
     "text": [
      "[Parallel(n_jobs=-1)]: Using backend LokyBackend with 16 concurrent workers.\n",
      "[Parallel(n_jobs=-1)]: Done 152 tasks      | elapsed:    5.8s\n",
      "[Parallel(n_jobs=-1)]: Done 320 tasks      | elapsed:   14.1s\n",
      "[Parallel(n_jobs=-1)]: Done 500 out of 500 | elapsed:   22.9s finished\n"
     ]
    },
    {
     "name": "stdout",
     "output_type": "stream",
     "text": [
      "Higher Balanced Accuracy: 87.22% |       RSCV\n",
      "\n",
      "\n",
      "DAYS OF PREDICTION:   1 | DAYS OF TRAINING DATA:  20\n",
      "DATA PREPARATION: \n",
      "Number of devices to be used:  600\n",
      "Number of failing devices in dataset: 12.50%\n",
      "Number of working devices in dataset: 87.50%\n"
     ]
    },
    {
     "data": {
      "application/vnd.jupyter.widget-view+json": {
       "model_id": "6d8ec0cae4184571bfc503a5b9512f19",
       "version_major": 2,
       "version_minor": 0
      },
      "text/plain": [
       "HBox(children=(FloatProgress(value=0.0, max=600.0), HTML(value='')))"
      ]
     },
     "metadata": {},
     "output_type": "display_data"
    },
    {
     "name": "stdout",
     "output_type": "stream",
     "text": [
      "\n",
      "DATA SPLITTING: \n",
      "Rows (devices) in dataset:  600\n",
      "Rows (devices) in train subset:  420\n",
      "Rows (devices) in test subset:  180\n",
      "MODEL WITH FEATURE SELECTION:\n",
      "Best model with feature selection using CORRELATION\n",
      "Number of selected features:  105 (out of  180)\n",
      "HYPERPARAMETER OPTIMIZATION: \n",
      "Fitting 5 folds for each of 100 candidates, totalling 500 fits\n"
     ]
    },
    {
     "name": "stderr",
     "output_type": "stream",
     "text": [
      "[Parallel(n_jobs=-1)]: Using backend LokyBackend with 16 concurrent workers.\n",
      "[Parallel(n_jobs=-1)]: Done 151 tasks      | elapsed:    5.8s\n",
      "[Parallel(n_jobs=-1)]: Done 320 tasks      | elapsed:   14.0s\n",
      "[Parallel(n_jobs=-1)]: Done 500 out of 500 | elapsed:   22.8s finished\n"
     ]
    },
    {
     "name": "stdout",
     "output_type": "stream",
     "text": [
      "Higher Balanced Accuracy: 81.89% | FEATURE_SELECTION\n",
      "\n",
      "\n",
      "DAYS OF PREDICTION:   2 | DAYS OF TRAINING DATA:   5\n",
      "DATA PREPARATION: \n",
      "Number of devices to be used:  678\n",
      "Number of failing devices in dataset: 13.27%\n",
      "Number of working devices in dataset: 86.73%\n"
     ]
    },
    {
     "data": {
      "application/vnd.jupyter.widget-view+json": {
       "model_id": "f8472fbe36b84d05bd99a75ef32bb4e1",
       "version_major": 2,
       "version_minor": 0
      },
      "text/plain": [
       "HBox(children=(FloatProgress(value=0.0, max=678.0), HTML(value='')))"
      ]
     },
     "metadata": {},
     "output_type": "display_data"
    },
    {
     "name": "stdout",
     "output_type": "stream",
     "text": [
      "\n",
      "DATA SPLITTING: \n",
      "Rows (devices) in dataset:  678\n",
      "Rows (devices) in train subset:  474\n",
      "Rows (devices) in test subset:  204\n",
      "MODEL WITH FEATURE SELECTION:\n",
      "Best model with feature selection using CHI2 TEST\n",
      "Number of selected features:   33 (out of   45)\n",
      "HYPERPARAMETER OPTIMIZATION: \n",
      "Fitting 5 folds for each of 100 candidates, totalling 500 fits\n"
     ]
    },
    {
     "name": "stderr",
     "output_type": "stream",
     "text": [
      "[Parallel(n_jobs=-1)]: Using backend LokyBackend with 16 concurrent workers.\n",
      "[Parallel(n_jobs=-1)]: Done 151 tasks      | elapsed:    5.6s\n",
      "[Parallel(n_jobs=-1)]: Done 320 tasks      | elapsed:   13.6s\n",
      "[Parallel(n_jobs=-1)]: Done 500 out of 500 | elapsed:   21.9s finished\n"
     ]
    },
    {
     "name": "stdout",
     "output_type": "stream",
     "text": [
      "Higher Balanced Accuracy: 75.32% |       RSCV\n",
      "\n",
      "\n",
      "DAYS OF PREDICTION:   2 | DAYS OF TRAINING DATA:   7\n",
      "DATA PREPARATION: \n",
      "Number of devices to be used:  636\n",
      "Number of failing devices in dataset: 13.99%\n",
      "Number of working devices in dataset: 86.01%\n"
     ]
    },
    {
     "data": {
      "application/vnd.jupyter.widget-view+json": {
       "model_id": "87253ae85d134d7c978976e6a7979c1a",
       "version_major": 2,
       "version_minor": 0
      },
      "text/plain": [
       "HBox(children=(FloatProgress(value=0.0, max=636.0), HTML(value='')))"
      ]
     },
     "metadata": {},
     "output_type": "display_data"
    },
    {
     "name": "stdout",
     "output_type": "stream",
     "text": [
      "\n",
      "DATA SPLITTING: \n",
      "Rows (devices) in dataset:  636\n",
      "Rows (devices) in train subset:  445\n",
      "Rows (devices) in test subset:  191\n",
      "MODEL WITH FEATURE SELECTION:\n",
      "Best model with feature selection using CHI2 TEST\n",
      "Number of selected features:   31 (out of   63)\n",
      "HYPERPARAMETER OPTIMIZATION: \n",
      "Fitting 5 folds for each of 100 candidates, totalling 500 fits\n"
     ]
    },
    {
     "name": "stderr",
     "output_type": "stream",
     "text": [
      "[Parallel(n_jobs=-1)]: Using backend LokyBackend with 16 concurrent workers.\n",
      "[Parallel(n_jobs=-1)]: Done 151 tasks      | elapsed:    5.6s\n",
      "[Parallel(n_jobs=-1)]: Done 320 tasks      | elapsed:   13.5s\n",
      "[Parallel(n_jobs=-1)]: Done 500 out of 500 | elapsed:   21.8s finished\n"
     ]
    },
    {
     "name": "stdout",
     "output_type": "stream",
     "text": [
      "Higher Balanced Accuracy: 78.56% |       RSCV\n",
      "\n",
      "\n",
      "DAYS OF PREDICTION:   2 | DAYS OF TRAINING DATA:  10\n",
      "DATA PREPARATION: \n",
      "Number of devices to be used:  635\n",
      "Number of failing devices in dataset: 13.86%\n",
      "Number of working devices in dataset: 86.14%\n"
     ]
    },
    {
     "data": {
      "application/vnd.jupyter.widget-view+json": {
       "model_id": "0385ab7d14aa43e58a783e7558591f9e",
       "version_major": 2,
       "version_minor": 0
      },
      "text/plain": [
       "HBox(children=(FloatProgress(value=0.0, max=635.0), HTML(value='')))"
      ]
     },
     "metadata": {},
     "output_type": "display_data"
    },
    {
     "name": "stdout",
     "output_type": "stream",
     "text": [
      "\n",
      "DATA SPLITTING: \n",
      "Rows (devices) in dataset:  635\n",
      "Rows (devices) in train subset:  444\n",
      "Rows (devices) in test subset:  191\n",
      "MODEL WITH FEATURE SELECTION:\n",
      "Best model with feature selection using CORRELATION\n",
      "Number of selected features:   56 (out of   90)\n",
      "HYPERPARAMETER OPTIMIZATION: \n",
      "Fitting 5 folds for each of 100 candidates, totalling 500 fits\n"
     ]
    },
    {
     "name": "stderr",
     "output_type": "stream",
     "text": [
      "[Parallel(n_jobs=-1)]: Using backend LokyBackend with 16 concurrent workers.\n",
      "[Parallel(n_jobs=-1)]: Done 151 tasks      | elapsed:    5.7s\n",
      "[Parallel(n_jobs=-1)]: Done 320 tasks      | elapsed:   13.7s\n",
      "[Parallel(n_jobs=-1)]: Done 500 out of 500 | elapsed:   22.2s finished\n"
     ]
    },
    {
     "name": "stdout",
     "output_type": "stream",
     "text": [
      "Higher Balanced Accuracy: 81.09% | FEATURE_SELECTION\n",
      "\n",
      "\n",
      "DAYS OF PREDICTION:   2 | DAYS OF TRAINING DATA:  14\n",
      "DATA PREPARATION: \n",
      "Number of devices to be used:  611\n",
      "Number of failing devices in dataset: 14.08%\n",
      "Number of working devices in dataset: 85.92%\n"
     ]
    },
    {
     "data": {
      "application/vnd.jupyter.widget-view+json": {
       "model_id": "05798ce57f15431a821dd615dd69b047",
       "version_major": 2,
       "version_minor": 0
      },
      "text/plain": [
       "HBox(children=(FloatProgress(value=0.0, max=611.0), HTML(value='')))"
      ]
     },
     "metadata": {},
     "output_type": "display_data"
    },
    {
     "name": "stdout",
     "output_type": "stream",
     "text": [
      "\n",
      "DATA SPLITTING: \n",
      "Rows (devices) in dataset:  611\n",
      "Rows (devices) in train subset:  427\n",
      "Rows (devices) in test subset:  184\n",
      "MODEL WITH FEATURE SELECTION:\n",
      "Best model with feature selection using CORRELATION\n",
      "Number of selected features:   91 (out of  126)\n",
      "HYPERPARAMETER OPTIMIZATION: \n",
      "Fitting 5 folds for each of 100 candidates, totalling 500 fits\n"
     ]
    },
    {
     "name": "stderr",
     "output_type": "stream",
     "text": [
      "[Parallel(n_jobs=-1)]: Using backend LokyBackend with 16 concurrent workers.\n",
      "[Parallel(n_jobs=-1)]: Done 152 tasks      | elapsed:    5.9s\n",
      "[Parallel(n_jobs=-1)]: Done 320 tasks      | elapsed:   14.4s\n",
      "[Parallel(n_jobs=-1)]: Done 500 out of 500 | elapsed:   23.4s finished\n"
     ]
    },
    {
     "name": "stdout",
     "output_type": "stream",
     "text": [
      "Higher Balanced Accuracy: 88.51% | FEATURE_SELECTION\n",
      "\n",
      "\n",
      "DAYS OF PREDICTION:   2 | DAYS OF TRAINING DATA:  20\n",
      "DATA PREPARATION: \n",
      "Number of devices to be used:  600\n",
      "Number of failing devices in dataset: 12.50%\n",
      "Number of working devices in dataset: 87.50%\n"
     ]
    },
    {
     "data": {
      "application/vnd.jupyter.widget-view+json": {
       "model_id": "7ac9d2848e454bfcae9fae1d065ee0b5",
       "version_major": 2,
       "version_minor": 0
      },
      "text/plain": [
       "HBox(children=(FloatProgress(value=0.0, max=600.0), HTML(value='')))"
      ]
     },
     "metadata": {},
     "output_type": "display_data"
    },
    {
     "name": "stdout",
     "output_type": "stream",
     "text": [
      "\n",
      "DATA SPLITTING: \n",
      "Rows (devices) in dataset:  600\n",
      "Rows (devices) in train subset:  420\n",
      "Rows (devices) in test subset:  180\n",
      "MODEL WITH FEATURE SELECTION:\n",
      "Best model with feature selection using CHI2 TEST\n",
      "Number of selected features:  135 (out of  180)\n",
      "HYPERPARAMETER OPTIMIZATION: \n",
      "Fitting 5 folds for each of 100 candidates, totalling 500 fits\n"
     ]
    },
    {
     "name": "stderr",
     "output_type": "stream",
     "text": [
      "[Parallel(n_jobs=-1)]: Using backend LokyBackend with 16 concurrent workers.\n",
      "[Parallel(n_jobs=-1)]: Done 152 tasks      | elapsed:    5.8s\n",
      "[Parallel(n_jobs=-1)]: Done 320 tasks      | elapsed:   14.4s\n"
     ]
    },
    {
     "name": "stdout",
     "output_type": "stream",
     "text": [
      "Higher Balanced Accuracy: 77.08% | FEATURE_SELECTION\n",
      "\n",
      "\n",
      "DAYS OF PREDICTION:   3 | DAYS OF TRAINING DATA:   5\n",
      "DATA PREPARATION: \n",
      "Number of devices to be used:  636\n",
      "Number of failing devices in dataset: 13.99%\n",
      "Number of working devices in dataset: 86.01%\n"
     ]
    },
    {
     "name": "stderr",
     "output_type": "stream",
     "text": [
      "[Parallel(n_jobs=-1)]: Done 500 out of 500 | elapsed:   23.6s finished\n"
     ]
    },
    {
     "data": {
      "application/vnd.jupyter.widget-view+json": {
       "model_id": "8c3211bf5af046029af74b1a67497e7f",
       "version_major": 2,
       "version_minor": 0
      },
      "text/plain": [
       "HBox(children=(FloatProgress(value=0.0, max=636.0), HTML(value='')))"
      ]
     },
     "metadata": {},
     "output_type": "display_data"
    },
    {
     "name": "stdout",
     "output_type": "stream",
     "text": [
      "\n",
      "DATA SPLITTING: \n",
      "Rows (devices) in dataset:  636\n",
      "Rows (devices) in train subset:  445\n",
      "Rows (devices) in test subset:  191\n",
      "MODEL WITH FEATURE SELECTION:\n",
      "Best model with feature selection using CHI2 TEST\n",
      "Number of selected features:   22 (out of   45)\n",
      "HYPERPARAMETER OPTIMIZATION: \n",
      "Fitting 5 folds for each of 100 candidates, totalling 500 fits\n"
     ]
    },
    {
     "name": "stderr",
     "output_type": "stream",
     "text": [
      "[Parallel(n_jobs=-1)]: Using backend LokyBackend with 16 concurrent workers.\n",
      "[Parallel(n_jobs=-1)]: Done 151 tasks      | elapsed:    5.5s\n",
      "[Parallel(n_jobs=-1)]: Done 320 tasks      | elapsed:   13.4s\n",
      "[Parallel(n_jobs=-1)]: Done 500 out of 500 | elapsed:   21.7s finished\n"
     ]
    },
    {
     "name": "stdout",
     "output_type": "stream",
     "text": [
      "Higher Balanced Accuracy: 76.27% | FEATURE_SELECTION\n",
      "\n",
      "\n",
      "DAYS OF PREDICTION:   3 | DAYS OF TRAINING DATA:   7\n",
      "DATA PREPARATION: \n",
      "Number of devices to be used:  635\n",
      "Number of failing devices in dataset: 13.86%\n",
      "Number of working devices in dataset: 86.14%\n"
     ]
    },
    {
     "data": {
      "application/vnd.jupyter.widget-view+json": {
       "model_id": "ceb755917df74f9f9cca17d0fd9f1a8e",
       "version_major": 2,
       "version_minor": 0
      },
      "text/plain": [
       "HBox(children=(FloatProgress(value=0.0, max=635.0), HTML(value='')))"
      ]
     },
     "metadata": {},
     "output_type": "display_data"
    },
    {
     "name": "stdout",
     "output_type": "stream",
     "text": [
      "\n",
      "DATA SPLITTING: \n",
      "Rows (devices) in dataset:  635\n",
      "Rows (devices) in train subset:  444\n",
      "Rows (devices) in test subset:  191\n",
      "MODEL WITH FEATURE SELECTION:\n",
      "Best model with feature selection using CHI2 TEST\n",
      "Number of selected features:   47 (out of   63)\n",
      "HYPERPARAMETER OPTIMIZATION: \n",
      "Fitting 5 folds for each of 100 candidates, totalling 500 fits\n"
     ]
    },
    {
     "name": "stderr",
     "output_type": "stream",
     "text": [
      "[Parallel(n_jobs=-1)]: Using backend LokyBackend with 16 concurrent workers.\n",
      "[Parallel(n_jobs=-1)]: Done 151 tasks      | elapsed:    5.7s\n",
      "[Parallel(n_jobs=-1)]: Done 320 tasks      | elapsed:   13.7s\n"
     ]
    },
    {
     "name": "stdout",
     "output_type": "stream",
     "text": [
      "Higher Balanced Accuracy: 75.79% |       RSCV\n",
      "\n",
      "\n",
      "DAYS OF PREDICTION:   3 | DAYS OF TRAINING DATA:  10\n",
      "DATA PREPARATION: \n",
      "Number of devices to be used:  635\n",
      "Number of failing devices in dataset: 13.86%\n",
      "Number of working devices in dataset: 86.14%\n"
     ]
    },
    {
     "name": "stderr",
     "output_type": "stream",
     "text": [
      "[Parallel(n_jobs=-1)]: Done 500 out of 500 | elapsed:   22.3s finished\n"
     ]
    },
    {
     "data": {
      "application/vnd.jupyter.widget-view+json": {
       "model_id": "9d00b8cabae646e49f11fc0612066690",
       "version_major": 2,
       "version_minor": 0
      },
      "text/plain": [
       "HBox(children=(FloatProgress(value=0.0, max=635.0), HTML(value='')))"
      ]
     },
     "metadata": {},
     "output_type": "display_data"
    },
    {
     "name": "stdout",
     "output_type": "stream",
     "text": [
      "\n",
      "DATA SPLITTING: \n",
      "Rows (devices) in dataset:  635\n",
      "Rows (devices) in train subset:  444\n",
      "Rows (devices) in test subset:  191\n",
      "MODEL WITH FEATURE SELECTION:\n",
      "Best model with feature selection using CORRELATION\n",
      "Number of selected features:   56 (out of   90)\n",
      "HYPERPARAMETER OPTIMIZATION: \n",
      "Fitting 5 folds for each of 100 candidates, totalling 500 fits\n"
     ]
    },
    {
     "name": "stderr",
     "output_type": "stream",
     "text": [
      "[Parallel(n_jobs=-1)]: Using backend LokyBackend with 16 concurrent workers.\n",
      "[Parallel(n_jobs=-1)]: Done 151 tasks      | elapsed:    5.7s\n",
      "[Parallel(n_jobs=-1)]: Done 320 tasks      | elapsed:   13.8s\n",
      "[Parallel(n_jobs=-1)]: Done 500 out of 500 | elapsed:   22.3s finished\n"
     ]
    },
    {
     "name": "stdout",
     "output_type": "stream",
     "text": [
      "Higher Balanced Accuracy: 74.99% | FEATURE_SELECTION\n",
      "\n",
      "\n",
      "DAYS OF PREDICTION:   3 | DAYS OF TRAINING DATA:  14\n",
      "DATA PREPARATION: \n",
      "Number of devices to be used:  611\n",
      "Number of failing devices in dataset: 14.08%\n",
      "Number of working devices in dataset: 85.92%\n"
     ]
    },
    {
     "data": {
      "application/vnd.jupyter.widget-view+json": {
       "model_id": "0ef2830d252b4a378e2ef978f6438a77",
       "version_major": 2,
       "version_minor": 0
      },
      "text/plain": [
       "HBox(children=(FloatProgress(value=0.0, max=611.0), HTML(value='')))"
      ]
     },
     "metadata": {},
     "output_type": "display_data"
    },
    {
     "name": "stdout",
     "output_type": "stream",
     "text": [
      "\n",
      "DATA SPLITTING: \n",
      "Rows (devices) in dataset:  611\n",
      "Rows (devices) in train subset:  427\n",
      "Rows (devices) in test subset:  184\n",
      "MODEL WITH FEATURE SELECTION:\n",
      "Best model with feature selection using CHI2 TEST\n",
      "Number of selected features:   63 (out of  126)\n",
      "HYPERPARAMETER OPTIMIZATION: \n",
      "Fitting 5 folds for each of 100 candidates, totalling 500 fits\n"
     ]
    },
    {
     "name": "stderr",
     "output_type": "stream",
     "text": [
      "[Parallel(n_jobs=-1)]: Using backend LokyBackend with 16 concurrent workers.\n",
      "[Parallel(n_jobs=-1)]: Done 152 tasks      | elapsed:    6.0s\n",
      "[Parallel(n_jobs=-1)]: Done 320 tasks      | elapsed:   14.8s\n",
      "[Parallel(n_jobs=-1)]: Done 500 out of 500 | elapsed:   24.2s finished\n"
     ]
    },
    {
     "name": "stdout",
     "output_type": "stream",
     "text": [
      "Higher Balanced Accuracy: 83.08% |     B_BASE\n",
      "\n",
      "\n",
      "DAYS OF PREDICTION:   3 | DAYS OF TRAINING DATA:  20\n",
      "DATA PREPARATION: \n",
      "Number of devices to be used:  599\n",
      "Number of failing devices in dataset: 12.35%\n",
      "Number of working devices in dataset: 87.65%\n"
     ]
    },
    {
     "data": {
      "application/vnd.jupyter.widget-view+json": {
       "model_id": "c2879b2d989d4ae18d0fbae49ffa2203",
       "version_major": 2,
       "version_minor": 0
      },
      "text/plain": [
       "HBox(children=(FloatProgress(value=0.0, max=599.0), HTML(value='')))"
      ]
     },
     "metadata": {},
     "output_type": "display_data"
    },
    {
     "name": "stdout",
     "output_type": "stream",
     "text": [
      "\n",
      "DATA SPLITTING: \n",
      "Rows (devices) in dataset:  599\n",
      "Rows (devices) in train subset:  419\n",
      "Rows (devices) in test subset:  180\n",
      "MODEL WITH FEATURE SELECTION:\n",
      "Best model with feature selection using CORRELATION\n",
      "Number of selected features:   89 (out of  180)\n",
      "HYPERPARAMETER OPTIMIZATION: \n",
      "Fitting 5 folds for each of 100 candidates, totalling 500 fits\n"
     ]
    },
    {
     "name": "stderr",
     "output_type": "stream",
     "text": [
      "[Parallel(n_jobs=-1)]: Using backend LokyBackend with 16 concurrent workers.\n",
      "[Parallel(n_jobs=-1)]: Done 151 tasks      | elapsed:    5.7s\n",
      "[Parallel(n_jobs=-1)]: Done 320 tasks      | elapsed:   13.7s\n",
      "[Parallel(n_jobs=-1)]: Done 500 out of 500 | elapsed:   22.4s finished\n"
     ]
    },
    {
     "name": "stdout",
     "output_type": "stream",
     "text": [
      "Higher Balanced Accuracy: 78.16% | FEATURE_SELECTION\n",
      "\n",
      "\n",
      "DAYS OF PREDICTION:   4 | DAYS OF TRAINING DATA:   5\n",
      "DATA PREPARATION: \n",
      "Number of devices to be used:  636\n",
      "Number of failing devices in dataset: 13.99%\n",
      "Number of working devices in dataset: 86.01%\n"
     ]
    },
    {
     "data": {
      "application/vnd.jupyter.widget-view+json": {
       "model_id": "58b142e78f5b40b29f2f29723c88838f",
       "version_major": 2,
       "version_minor": 0
      },
      "text/plain": [
       "HBox(children=(FloatProgress(value=0.0, max=636.0), HTML(value='')))"
      ]
     },
     "metadata": {},
     "output_type": "display_data"
    },
    {
     "name": "stdout",
     "output_type": "stream",
     "text": [
      "\n",
      "DATA SPLITTING: \n",
      "Rows (devices) in dataset:  636\n",
      "Rows (devices) in train subset:  445\n",
      "Rows (devices) in test subset:  191\n",
      "MODEL WITH FEATURE SELECTION:\n",
      "Best model with feature selection using CHI2 TEST\n",
      "Number of selected features:   22 (out of   45)\n",
      "HYPERPARAMETER OPTIMIZATION: \n",
      "Fitting 5 folds for each of 100 candidates, totalling 500 fits\n"
     ]
    },
    {
     "name": "stderr",
     "output_type": "stream",
     "text": [
      "[Parallel(n_jobs=-1)]: Using backend LokyBackend with 16 concurrent workers.\n",
      "[Parallel(n_jobs=-1)]: Done 151 tasks      | elapsed:    5.6s\n",
      "[Parallel(n_jobs=-1)]: Done 320 tasks      | elapsed:   13.4s\n",
      "[Parallel(n_jobs=-1)]: Done 500 out of 500 | elapsed:   21.6s finished\n"
     ]
    },
    {
     "name": "stdout",
     "output_type": "stream",
     "text": [
      "Higher Balanced Accuracy: 75.96% | FEATURE_SELECTION\n",
      "\n",
      "\n",
      "DAYS OF PREDICTION:   4 | DAYS OF TRAINING DATA:   7\n",
      "DATA PREPARATION: \n",
      "Number of devices to be used:  635\n",
      "Number of failing devices in dataset: 13.86%\n",
      "Number of working devices in dataset: 86.14%\n"
     ]
    },
    {
     "data": {
      "application/vnd.jupyter.widget-view+json": {
       "model_id": "0ba556a4a4804ebc8390b292d5b3e5e1",
       "version_major": 2,
       "version_minor": 0
      },
      "text/plain": [
       "HBox(children=(FloatProgress(value=0.0, max=635.0), HTML(value='')))"
      ]
     },
     "metadata": {},
     "output_type": "display_data"
    },
    {
     "name": "stdout",
     "output_type": "stream",
     "text": [
      "\n",
      "DATA SPLITTING: \n",
      "Rows (devices) in dataset:  635\n",
      "Rows (devices) in train subset:  444\n",
      "Rows (devices) in test subset:  191\n",
      "MODEL WITH FEATURE SELECTION:\n",
      "Best model with feature selection using CORRELATION\n",
      "Number of selected features:   39 (out of   63)\n",
      "HYPERPARAMETER OPTIMIZATION: \n",
      "Fitting 5 folds for each of 100 candidates, totalling 500 fits\n"
     ]
    },
    {
     "name": "stderr",
     "output_type": "stream",
     "text": [
      "[Parallel(n_jobs=-1)]: Using backend LokyBackend with 16 concurrent workers.\n",
      "[Parallel(n_jobs=-1)]: Done 151 tasks      | elapsed:    5.7s\n",
      "[Parallel(n_jobs=-1)]: Done 320 tasks      | elapsed:   13.6s\n",
      "[Parallel(n_jobs=-1)]: Done 500 out of 500 | elapsed:   21.9s finished\n"
     ]
    },
    {
     "name": "stdout",
     "output_type": "stream",
     "text": [
      "Higher Balanced Accuracy: 74.68% |       RSCV\n",
      "\n",
      "\n",
      "DAYS OF PREDICTION:   4 | DAYS OF TRAINING DATA:  10\n",
      "DATA PREPARATION: \n",
      "Number of devices to be used:  612\n",
      "Number of failing devices in dataset: 14.22%\n",
      "Number of working devices in dataset: 85.78%\n"
     ]
    },
    {
     "data": {
      "application/vnd.jupyter.widget-view+json": {
       "model_id": "46e6b6cb08b94d33a90b3f37e6b551e4",
       "version_major": 2,
       "version_minor": 0
      },
      "text/plain": [
       "HBox(children=(FloatProgress(value=0.0, max=612.0), HTML(value='')))"
      ]
     },
     "metadata": {},
     "output_type": "display_data"
    },
    {
     "name": "stdout",
     "output_type": "stream",
     "text": [
      "\n",
      "DATA SPLITTING: \n",
      "Rows (devices) in dataset:  612\n",
      "Rows (devices) in train subset:  428\n",
      "Rows (devices) in test subset:  184\n",
      "MODEL WITH FEATURE SELECTION:\n",
      "Best model with feature selection using CHI2 TEST\n",
      "Number of selected features:   67 (out of   90)\n",
      "HYPERPARAMETER OPTIMIZATION: \n",
      "Fitting 5 folds for each of 100 candidates, totalling 500 fits\n"
     ]
    },
    {
     "name": "stderr",
     "output_type": "stream",
     "text": [
      "[Parallel(n_jobs=-1)]: Using backend LokyBackend with 16 concurrent workers.\n",
      "[Parallel(n_jobs=-1)]: Done 151 tasks      | elapsed:    5.8s\n",
      "[Parallel(n_jobs=-1)]: Done 320 tasks      | elapsed:   13.9s\n",
      "[Parallel(n_jobs=-1)]: Done 500 out of 500 | elapsed:   22.6s finished\n"
     ]
    },
    {
     "name": "stdout",
     "output_type": "stream",
     "text": [
      "Higher Balanced Accuracy: 79.54% | FEATURE_SELECTION\n",
      "\n",
      "\n",
      "DAYS OF PREDICTION:   4 | DAYS OF TRAINING DATA:  14\n",
      "DATA PREPARATION: \n",
      "Number of devices to be used:  610\n",
      "Number of failing devices in dataset: 13.93%\n",
      "Number of working devices in dataset: 86.07%\n"
     ]
    },
    {
     "data": {
      "application/vnd.jupyter.widget-view+json": {
       "model_id": "58c4f4fc6dcc41f481bb9817951e8703",
       "version_major": 2,
       "version_minor": 0
      },
      "text/plain": [
       "HBox(children=(FloatProgress(value=0.0, max=610.0), HTML(value='')))"
      ]
     },
     "metadata": {},
     "output_type": "display_data"
    },
    {
     "name": "stdout",
     "output_type": "stream",
     "text": [
      "\n",
      "DATA SPLITTING: \n",
      "Rows (devices) in dataset:  610\n",
      "Rows (devices) in train subset:  427\n",
      "Rows (devices) in test subset:  183\n",
      "MODEL WITH FEATURE SELECTION:\n",
      "Best model with feature selection using CHI2 TEST\n",
      "Number of selected features:   63 (out of  126)\n",
      "HYPERPARAMETER OPTIMIZATION: \n",
      "Fitting 5 folds for each of 100 candidates, totalling 500 fits\n"
     ]
    },
    {
     "name": "stderr",
     "output_type": "stream",
     "text": [
      "[Parallel(n_jobs=-1)]: Using backend LokyBackend with 16 concurrent workers.\n",
      "[Parallel(n_jobs=-1)]: Done 152 tasks      | elapsed:    5.8s\n",
      "[Parallel(n_jobs=-1)]: Done 320 tasks      | elapsed:   14.2s\n"
     ]
    },
    {
     "name": "stdout",
     "output_type": "stream",
     "text": [
      "Higher Balanced Accuracy: 82.35% | FEATURE_SELECTION\n",
      "\n",
      "\n",
      "DAYS OF PREDICTION:   4 | DAYS OF TRAINING DATA:  20\n",
      "DATA PREPARATION: \n",
      "Number of devices to be used:  597\n",
      "Number of failing devices in dataset: 12.06%\n",
      "Number of working devices in dataset: 87.94%\n"
     ]
    },
    {
     "name": "stderr",
     "output_type": "stream",
     "text": [
      "[Parallel(n_jobs=-1)]: Done 500 out of 500 | elapsed:   23.1s finished\n"
     ]
    },
    {
     "data": {
      "application/vnd.jupyter.widget-view+json": {
       "model_id": "ec1675ca37fb47c5833e2e8d8e5da9f9",
       "version_major": 2,
       "version_minor": 0
      },
      "text/plain": [
       "HBox(children=(FloatProgress(value=0.0, max=597.0), HTML(value='')))"
      ]
     },
     "metadata": {},
     "output_type": "display_data"
    },
    {
     "name": "stdout",
     "output_type": "stream",
     "text": [
      "\n",
      "DATA SPLITTING: \n",
      "Rows (devices) in dataset:  597\n",
      "Rows (devices) in train subset:  417\n",
      "Rows (devices) in test subset:  180\n",
      "MODEL WITH FEATURE SELECTION:\n",
      "Best model with feature selection using CHI2 TEST\n",
      "Number of selected features:  135 (out of  180)\n",
      "HYPERPARAMETER OPTIMIZATION: \n",
      "Fitting 5 folds for each of 100 candidates, totalling 500 fits\n"
     ]
    },
    {
     "name": "stderr",
     "output_type": "stream",
     "text": [
      "[Parallel(n_jobs=-1)]: Using backend LokyBackend with 16 concurrent workers.\n",
      "[Parallel(n_jobs=-1)]: Done 152 tasks      | elapsed:    6.0s\n",
      "[Parallel(n_jobs=-1)]: Done 320 tasks      | elapsed:   15.0s\n",
      "[Parallel(n_jobs=-1)]: Done 500 out of 500 | elapsed:   24.7s finished\n"
     ]
    },
    {
     "name": "stdout",
     "output_type": "stream",
     "text": [
      "Higher Balanced Accuracy: 78.75% |     B_BASE\n",
      "\n",
      "\n",
      "DAYS OF PREDICTION:   5 | DAYS OF TRAINING DATA:   5\n",
      "DATA PREPARATION: \n",
      "Number of devices to be used:  635\n",
      "Number of failing devices in dataset: 13.86%\n",
      "Number of working devices in dataset: 86.14%\n"
     ]
    },
    {
     "data": {
      "application/vnd.jupyter.widget-view+json": {
       "model_id": "76f271da96a545fa8b089e5fe986d14c",
       "version_major": 2,
       "version_minor": 0
      },
      "text/plain": [
       "HBox(children=(FloatProgress(value=0.0, max=635.0), HTML(value='')))"
      ]
     },
     "metadata": {},
     "output_type": "display_data"
    },
    {
     "name": "stdout",
     "output_type": "stream",
     "text": [
      "\n",
      "DATA SPLITTING: \n",
      "Rows (devices) in dataset:  635\n",
      "Rows (devices) in train subset:  444\n",
      "Rows (devices) in test subset:  191\n",
      "MODEL WITH FEATURE SELECTION:\n",
      "Best model with feature selection using CORRELATION\n",
      "Number of selected features:   29 (out of   45)\n",
      "HYPERPARAMETER OPTIMIZATION: \n",
      "Fitting 5 folds for each of 100 candidates, totalling 500 fits\n"
     ]
    },
    {
     "name": "stderr",
     "output_type": "stream",
     "text": [
      "[Parallel(n_jobs=-1)]: Using backend LokyBackend with 16 concurrent workers.\n",
      "[Parallel(n_jobs=-1)]: Done 151 tasks      | elapsed:    5.6s\n",
      "[Parallel(n_jobs=-1)]: Done 320 tasks      | elapsed:   13.5s\n"
     ]
    },
    {
     "name": "stdout",
     "output_type": "stream",
     "text": [
      "Higher Balanced Accuracy: 72.34% | FEATURE_SELECTION\n",
      "\n",
      "\n",
      "DAYS OF PREDICTION:   5 | DAYS OF TRAINING DATA:   7\n",
      "DATA PREPARATION: \n",
      "Number of devices to be used:  635\n",
      "Number of failing devices in dataset: 13.86%\n",
      "Number of working devices in dataset: 86.14%\n"
     ]
    },
    {
     "name": "stderr",
     "output_type": "stream",
     "text": [
      "[Parallel(n_jobs=-1)]: Done 500 out of 500 | elapsed:   21.8s finished\n"
     ]
    },
    {
     "data": {
      "application/vnd.jupyter.widget-view+json": {
       "model_id": "17f67668d53c467fa377ebd776194645",
       "version_major": 2,
       "version_minor": 0
      },
      "text/plain": [
       "HBox(children=(FloatProgress(value=0.0, max=635.0), HTML(value='')))"
      ]
     },
     "metadata": {},
     "output_type": "display_data"
    },
    {
     "name": "stdout",
     "output_type": "stream",
     "text": [
      "\n",
      "DATA SPLITTING: \n",
      "Rows (devices) in dataset:  635\n",
      "Rows (devices) in train subset:  444\n",
      "Rows (devices) in test subset:  191\n",
      "MODEL WITH FEATURE SELECTION:\n",
      "Best model with feature selection using CORRELATION\n",
      "Number of selected features:   40 (out of   63)\n",
      "HYPERPARAMETER OPTIMIZATION: \n",
      "Fitting 5 folds for each of 100 candidates, totalling 500 fits\n"
     ]
    },
    {
     "name": "stderr",
     "output_type": "stream",
     "text": [
      "[Parallel(n_jobs=-1)]: Using backend LokyBackend with 16 concurrent workers.\n",
      "[Parallel(n_jobs=-1)]: Done 151 tasks      | elapsed:    5.7s\n",
      "[Parallel(n_jobs=-1)]: Done 320 tasks      | elapsed:   13.6s\n",
      "[Parallel(n_jobs=-1)]: Done 500 out of 500 | elapsed:   22.0s finished\n"
     ]
    },
    {
     "name": "stdout",
     "output_type": "stream",
     "text": [
      "Higher Balanced Accuracy: 71.72% | FEATURE_SELECTION\n",
      "\n",
      "\n",
      "DAYS OF PREDICTION:   5 | DAYS OF TRAINING DATA:  10\n",
      "DATA PREPARATION: \n",
      "Number of devices to be used:  611\n",
      "Number of failing devices in dataset: 14.08%\n",
      "Number of working devices in dataset: 85.92%\n"
     ]
    },
    {
     "data": {
      "application/vnd.jupyter.widget-view+json": {
       "model_id": "711c1ba4a25a4347bc6838ff82d8c911",
       "version_major": 2,
       "version_minor": 0
      },
      "text/plain": [
       "HBox(children=(FloatProgress(value=0.0, max=611.0), HTML(value='')))"
      ]
     },
     "metadata": {},
     "output_type": "display_data"
    },
    {
     "name": "stdout",
     "output_type": "stream",
     "text": [
      "\n",
      "DATA SPLITTING: \n",
      "Rows (devices) in dataset:  611\n",
      "Rows (devices) in train subset:  427\n",
      "Rows (devices) in test subset:  184\n",
      "MODEL WITH FEATURE SELECTION:\n",
      "Best model with feature selection using CORRELATION\n",
      "Number of selected features:   64 (out of   90)\n",
      "HYPERPARAMETER OPTIMIZATION: \n",
      "Fitting 5 folds for each of 100 candidates, totalling 500 fits\n"
     ]
    },
    {
     "name": "stderr",
     "output_type": "stream",
     "text": [
      "[Parallel(n_jobs=-1)]: Using backend LokyBackend with 16 concurrent workers.\n",
      "[Parallel(n_jobs=-1)]: Done 152 tasks      | elapsed:    5.9s\n",
      "[Parallel(n_jobs=-1)]: Done 320 tasks      | elapsed:   14.1s\n",
      "[Parallel(n_jobs=-1)]: Done 500 out of 500 | elapsed:   22.9s finished\n"
     ]
    },
    {
     "name": "stdout",
     "output_type": "stream",
     "text": [
      "Higher Balanced Accuracy: 80.84% | FEATURE_SELECTION\n",
      "\n",
      "\n",
      "DAYS OF PREDICTION:   5 | DAYS OF TRAINING DATA:  14\n",
      "DATA PREPARATION: \n",
      "Number of devices to be used:  609\n",
      "Number of failing devices in dataset: 13.79%\n",
      "Number of working devices in dataset: 86.21%\n"
     ]
    },
    {
     "data": {
      "application/vnd.jupyter.widget-view+json": {
       "model_id": "1ac279ae3085481fbca0a5e6465e67a2",
       "version_major": 2,
       "version_minor": 0
      },
      "text/plain": [
       "HBox(children=(FloatProgress(value=0.0, max=609.0), HTML(value='')))"
      ]
     },
     "metadata": {},
     "output_type": "display_data"
    },
    {
     "name": "stdout",
     "output_type": "stream",
     "text": [
      "\n",
      "DATA SPLITTING: \n",
      "Rows (devices) in dataset:  609\n",
      "Rows (devices) in train subset:  426\n",
      "Rows (devices) in test subset:  183\n",
      "MODEL WITH FEATURE SELECTION:\n",
      "Best model with feature selection using CHI2 TEST\n",
      "Number of selected features:   94 (out of  126)\n",
      "HYPERPARAMETER OPTIMIZATION: \n",
      "Fitting 5 folds for each of 100 candidates, totalling 500 fits\n"
     ]
    },
    {
     "name": "stderr",
     "output_type": "stream",
     "text": [
      "[Parallel(n_jobs=-1)]: Using backend LokyBackend with 16 concurrent workers.\n",
      "[Parallel(n_jobs=-1)]: Done 152 tasks      | elapsed:    5.9s\n",
      "[Parallel(n_jobs=-1)]: Done 320 tasks      | elapsed:   14.3s\n",
      "[Parallel(n_jobs=-1)]: Done 500 out of 500 | elapsed:   23.5s finished\n"
     ]
    },
    {
     "name": "stdout",
     "output_type": "stream",
     "text": [
      "Higher Balanced Accuracy: 83.18% | FEATURE_SELECTION\n",
      "\n",
      "\n",
      "DAYS OF PREDICTION:   5 | DAYS OF TRAINING DATA:  20\n",
      "DATA PREPARATION: \n",
      "Number of devices to be used:  597\n",
      "Number of failing devices in dataset: 12.06%\n",
      "Number of working devices in dataset: 87.94%\n"
     ]
    },
    {
     "data": {
      "application/vnd.jupyter.widget-view+json": {
       "model_id": "057c9690cece4c7da5020686e716380e",
       "version_major": 2,
       "version_minor": 0
      },
      "text/plain": [
       "HBox(children=(FloatProgress(value=0.0, max=597.0), HTML(value='')))"
      ]
     },
     "metadata": {},
     "output_type": "display_data"
    },
    {
     "name": "stdout",
     "output_type": "stream",
     "text": [
      "\n",
      "DATA SPLITTING: \n",
      "Rows (devices) in dataset:  597\n",
      "Rows (devices) in train subset:  417\n",
      "Rows (devices) in test subset:  180\n",
      "MODEL WITH FEATURE SELECTION:\n",
      "Best model with feature selection using CORRELATION\n",
      "Number of selected features:  105 (out of  180)\n",
      "HYPERPARAMETER OPTIMIZATION: \n",
      "Fitting 5 folds for each of 100 candidates, totalling 500 fits\n"
     ]
    },
    {
     "name": "stderr",
     "output_type": "stream",
     "text": [
      "[Parallel(n_jobs=-1)]: Using backend LokyBackend with 16 concurrent workers.\n",
      "[Parallel(n_jobs=-1)]: Done 151 tasks      | elapsed:    5.9s\n",
      "[Parallel(n_jobs=-1)]: Done 320 tasks      | elapsed:   14.1s\n",
      "[Parallel(n_jobs=-1)]: Done 500 out of 500 | elapsed:   23.0s finished\n"
     ]
    },
    {
     "name": "stdout",
     "output_type": "stream",
     "text": [
      "Higher Balanced Accuracy: 76.25% | FEATURE_SELECTION\n",
      "\n",
      "\n",
      "DAYS OF PREDICTION:   6 | DAYS OF TRAINING DATA:   5\n",
      "DATA PREPARATION: \n",
      "Number of devices to be used:  635\n",
      "Number of failing devices in dataset: 13.86%\n",
      "Number of working devices in dataset: 86.14%\n"
     ]
    },
    {
     "data": {
      "application/vnd.jupyter.widget-view+json": {
       "model_id": "d08eb09753ab47fdac6a14580995153f",
       "version_major": 2,
       "version_minor": 0
      },
      "text/plain": [
       "HBox(children=(FloatProgress(value=0.0, max=635.0), HTML(value='')))"
      ]
     },
     "metadata": {},
     "output_type": "display_data"
    },
    {
     "name": "stdout",
     "output_type": "stream",
     "text": [
      "\n",
      "DATA SPLITTING: \n",
      "Rows (devices) in dataset:  635\n",
      "Rows (devices) in train subset:  444\n",
      "Rows (devices) in test subset:  191\n",
      "MODEL WITH FEATURE SELECTION:\n",
      "Best model with feature selection using CHI2 TEST\n",
      "Number of selected features:   33 (out of   45)\n",
      "HYPERPARAMETER OPTIMIZATION: \n",
      "Fitting 5 folds for each of 100 candidates, totalling 500 fits\n"
     ]
    },
    {
     "name": "stderr",
     "output_type": "stream",
     "text": [
      "[Parallel(n_jobs=-1)]: Using backend LokyBackend with 16 concurrent workers.\n",
      "[Parallel(n_jobs=-1)]: Done 151 tasks      | elapsed:    5.7s\n",
      "[Parallel(n_jobs=-1)]: Done 320 tasks      | elapsed:   13.7s\n",
      "[Parallel(n_jobs=-1)]: Done 500 out of 500 | elapsed:   22.2s finished\n"
     ]
    },
    {
     "name": "stdout",
     "output_type": "stream",
     "text": [
      "Higher Balanced Accuracy: 70.80% |     B_BASE\n",
      "\n",
      "\n",
      "DAYS OF PREDICTION:   6 | DAYS OF TRAINING DATA:   7\n",
      "DATA PREPARATION: \n",
      "Number of devices to be used:  635\n",
      "Number of failing devices in dataset: 13.86%\n",
      "Number of working devices in dataset: 86.14%\n"
     ]
    },
    {
     "data": {
      "application/vnd.jupyter.widget-view+json": {
       "model_id": "e077dfe628a24673aaa4be5e5fa3e580",
       "version_major": 2,
       "version_minor": 0
      },
      "text/plain": [
       "HBox(children=(FloatProgress(value=0.0, max=635.0), HTML(value='')))"
      ]
     },
     "metadata": {},
     "output_type": "display_data"
    },
    {
     "name": "stdout",
     "output_type": "stream",
     "text": [
      "\n",
      "DATA SPLITTING: \n",
      "Rows (devices) in dataset:  635\n",
      "Rows (devices) in train subset:  444\n",
      "Rows (devices) in test subset:  191\n",
      "MODEL WITH FEATURE SELECTION:\n",
      "Best model with feature selection using CORRELATION\n",
      "Number of selected features:   40 (out of   63)\n",
      "HYPERPARAMETER OPTIMIZATION: \n",
      "Fitting 5 folds for each of 100 candidates, totalling 500 fits\n"
     ]
    },
    {
     "name": "stderr",
     "output_type": "stream",
     "text": [
      "[Parallel(n_jobs=-1)]: Using backend LokyBackend with 16 concurrent workers.\n",
      "[Parallel(n_jobs=-1)]: Done 151 tasks      | elapsed:    5.6s\n",
      "[Parallel(n_jobs=-1)]: Done 320 tasks      | elapsed:   13.6s\n",
      "[Parallel(n_jobs=-1)]: Done 500 out of 500 | elapsed:   22.0s finished\n"
     ]
    },
    {
     "name": "stdout",
     "output_type": "stream",
     "text": [
      "Higher Balanced Accuracy: 71.72% |       RSCV\n",
      "\n",
      "\n",
      "DAYS OF PREDICTION:   6 | DAYS OF TRAINING DATA:  10\n",
      "DATA PREPARATION: \n",
      "Number of devices to be used:  611\n",
      "Number of failing devices in dataset: 14.08%\n",
      "Number of working devices in dataset: 85.92%\n"
     ]
    },
    {
     "data": {
      "application/vnd.jupyter.widget-view+json": {
       "model_id": "5bac310de4a54ee1a97b6305863f0e12",
       "version_major": 2,
       "version_minor": 0
      },
      "text/plain": [
       "HBox(children=(FloatProgress(value=0.0, max=611.0), HTML(value='')))"
      ]
     },
     "metadata": {},
     "output_type": "display_data"
    },
    {
     "name": "stdout",
     "output_type": "stream",
     "text": [
      "\n",
      "DATA SPLITTING: \n",
      "Rows (devices) in dataset:  611\n",
      "Rows (devices) in train subset:  427\n",
      "Rows (devices) in test subset:  184\n",
      "MODEL WITH FEATURE SELECTION:\n",
      "Best model with feature selection using CHI2 TEST\n",
      "Number of selected features:   67 (out of   90)\n",
      "HYPERPARAMETER OPTIMIZATION: \n",
      "Fitting 5 folds for each of 100 candidates, totalling 500 fits\n"
     ]
    },
    {
     "name": "stderr",
     "output_type": "stream",
     "text": [
      "[Parallel(n_jobs=-1)]: Using backend LokyBackend with 16 concurrent workers.\n",
      "[Parallel(n_jobs=-1)]: Done 151 tasks      | elapsed:    5.8s\n",
      "[Parallel(n_jobs=-1)]: Done 320 tasks      | elapsed:   14.0s\n",
      "[Parallel(n_jobs=-1)]: Done 500 out of 500 | elapsed:   22.8s finished\n"
     ]
    },
    {
     "name": "stdout",
     "output_type": "stream",
     "text": [
      "Higher Balanced Accuracy: 85.00% | FEATURE_SELECTION\n",
      "\n",
      "\n",
      "DAYS OF PREDICTION:   6 | DAYS OF TRAINING DATA:  14\n",
      "DATA PREPARATION: \n",
      "Number of devices to be used:  601\n",
      "Number of failing devices in dataset: 12.65%\n",
      "Number of working devices in dataset: 87.35%\n"
     ]
    },
    {
     "data": {
      "application/vnd.jupyter.widget-view+json": {
       "model_id": "7ecc8e4ceba342bcb194d3aaab644d00",
       "version_major": 2,
       "version_minor": 0
      },
      "text/plain": [
       "HBox(children=(FloatProgress(value=0.0, max=601.0), HTML(value='')))"
      ]
     },
     "metadata": {},
     "output_type": "display_data"
    },
    {
     "name": "stdout",
     "output_type": "stream",
     "text": [
      "\n",
      "DATA SPLITTING: \n",
      "Rows (devices) in dataset:  601\n",
      "Rows (devices) in train subset:  420\n",
      "Rows (devices) in test subset:  181\n",
      "MODEL WITH FEATURE SELECTION:\n",
      "Best model with feature selection using CHI2 TEST\n",
      "Number of selected features:   94 (out of  126)\n",
      "HYPERPARAMETER OPTIMIZATION: \n",
      "Fitting 5 folds for each of 100 candidates, totalling 500 fits\n"
     ]
    },
    {
     "name": "stderr",
     "output_type": "stream",
     "text": [
      "[Parallel(n_jobs=-1)]: Using backend LokyBackend with 16 concurrent workers.\n",
      "[Parallel(n_jobs=-1)]: Done 151 tasks      | elapsed:    5.8s\n",
      "[Parallel(n_jobs=-1)]: Done 320 tasks      | elapsed:   14.0s\n",
      "[Parallel(n_jobs=-1)]: Done 500 out of 500 | elapsed:   22.8s finished\n"
     ]
    },
    {
     "name": "stdout",
     "output_type": "stream",
     "text": [
      "Higher Balanced Accuracy: 69.44% | FEATURE_SELECTION\n",
      "\n",
      "\n",
      "DAYS OF PREDICTION:   6 | DAYS OF TRAINING DATA:  20\n",
      "DATA PREPARATION: \n",
      "Number of devices to be used:  597\n",
      "Number of failing devices in dataset: 12.06%\n",
      "Number of working devices in dataset: 87.94%\n"
     ]
    },
    {
     "data": {
      "application/vnd.jupyter.widget-view+json": {
       "model_id": "9532e04dd43e4886b409dc314b3bcba4",
       "version_major": 2,
       "version_minor": 0
      },
      "text/plain": [
       "HBox(children=(FloatProgress(value=0.0, max=597.0), HTML(value='')))"
      ]
     },
     "metadata": {},
     "output_type": "display_data"
    },
    {
     "name": "stdout",
     "output_type": "stream",
     "text": [
      "\n",
      "DATA SPLITTING: \n",
      "Rows (devices) in dataset:  597\n",
      "Rows (devices) in train subset:  417\n",
      "Rows (devices) in test subset:  180\n",
      "MODEL WITH FEATURE SELECTION:\n",
      "Best model with feature selection using CHI2 TEST\n",
      "Number of selected features:  135 (out of  180)\n",
      "HYPERPARAMETER OPTIMIZATION: \n",
      "Fitting 5 folds for each of 100 candidates, totalling 500 fits\n"
     ]
    },
    {
     "name": "stderr",
     "output_type": "stream",
     "text": [
      "[Parallel(n_jobs=-1)]: Using backend LokyBackend with 16 concurrent workers.\n",
      "[Parallel(n_jobs=-1)]: Done 152 tasks      | elapsed:    6.1s\n",
      "[Parallel(n_jobs=-1)]: Done 320 tasks      | elapsed:   15.0s\n",
      "[Parallel(n_jobs=-1)]: Done 500 out of 500 | elapsed:   24.7s finished\n"
     ]
    },
    {
     "name": "stdout",
     "output_type": "stream",
     "text": [
      "Higher Balanced Accuracy: 77.19% |     B_BASE\n",
      "\n",
      "\n",
      "DAYS OF PREDICTION:   7 | DAYS OF TRAINING DATA:   5\n",
      "DATA PREPARATION: \n",
      "Number of devices to be used:  635\n",
      "Number of failing devices in dataset: 13.86%\n",
      "Number of working devices in dataset: 86.14%\n"
     ]
    },
    {
     "data": {
      "application/vnd.jupyter.widget-view+json": {
       "model_id": "9808b25a04bf4244aaddbb39953f107a",
       "version_major": 2,
       "version_minor": 0
      },
      "text/plain": [
       "HBox(children=(FloatProgress(value=0.0, max=635.0), HTML(value='')))"
      ]
     },
     "metadata": {},
     "output_type": "display_data"
    },
    {
     "name": "stdout",
     "output_type": "stream",
     "text": [
      "\n",
      "DATA SPLITTING: \n",
      "Rows (devices) in dataset:  635\n",
      "Rows (devices) in train subset:  444\n",
      "Rows (devices) in test subset:  191\n",
      "MODEL WITH FEATURE SELECTION:\n",
      "Best model with feature selection using CHI2 TEST\n",
      "Number of selected features:   33 (out of   45)\n",
      "HYPERPARAMETER OPTIMIZATION: \n",
      "Fitting 5 folds for each of 100 candidates, totalling 500 fits\n"
     ]
    },
    {
     "name": "stderr",
     "output_type": "stream",
     "text": [
      "[Parallel(n_jobs=-1)]: Using backend LokyBackend with 16 concurrent workers.\n",
      "[Parallel(n_jobs=-1)]: Done 151 tasks      | elapsed:    5.6s\n",
      "[Parallel(n_jobs=-1)]: Done 320 tasks      | elapsed:   13.5s\n",
      "[Parallel(n_jobs=-1)]: Done 500 out of 500 | elapsed:   21.9s finished\n"
     ]
    },
    {
     "name": "stdout",
     "output_type": "stream",
     "text": [
      "Higher Balanced Accuracy: 70.49% |     B_BASE\n",
      "\n",
      "\n",
      "DAYS OF PREDICTION:   7 | DAYS OF TRAINING DATA:   7\n",
      "DATA PREPARATION: \n",
      "Number of devices to be used:  612\n",
      "Number of failing devices in dataset: 14.22%\n",
      "Number of working devices in dataset: 85.78%\n"
     ]
    },
    {
     "data": {
      "application/vnd.jupyter.widget-view+json": {
       "model_id": "a2f61692afb946cfa71abc6778dee50e",
       "version_major": 2,
       "version_minor": 0
      },
      "text/plain": [
       "HBox(children=(FloatProgress(value=0.0, max=612.0), HTML(value='')))"
      ]
     },
     "metadata": {},
     "output_type": "display_data"
    },
    {
     "name": "stdout",
     "output_type": "stream",
     "text": [
      "\n",
      "DATA SPLITTING: \n",
      "Rows (devices) in dataset:  612\n",
      "Rows (devices) in train subset:  428\n",
      "Rows (devices) in test subset:  184\n",
      "MODEL WITH FEATURE SELECTION:\n",
      "Best model with feature selection using CORRELATION\n",
      "Number of selected features:   44 (out of   63)\n",
      "HYPERPARAMETER OPTIMIZATION: \n",
      "Fitting 5 folds for each of 100 candidates, totalling 500 fits\n"
     ]
    },
    {
     "name": "stderr",
     "output_type": "stream",
     "text": [
      "[Parallel(n_jobs=-1)]: Using backend LokyBackend with 16 concurrent workers.\n",
      "[Parallel(n_jobs=-1)]: Done 151 tasks      | elapsed:    5.7s\n",
      "[Parallel(n_jobs=-1)]: Done 320 tasks      | elapsed:   13.7s\n",
      "[Parallel(n_jobs=-1)]: Done 500 out of 500 | elapsed:   22.1s finished\n"
     ]
    },
    {
     "name": "stdout",
     "output_type": "stream",
     "text": [
      "Higher Balanced Accuracy: 75.13% | FEATURE_SELECTION\n",
      "\n",
      "\n",
      "DAYS OF PREDICTION:   7 | DAYS OF TRAINING DATA:  10\n",
      "DATA PREPARATION: \n",
      "Number of devices to be used:  611\n",
      "Number of failing devices in dataset: 14.08%\n",
      "Number of working devices in dataset: 85.92%\n"
     ]
    },
    {
     "data": {
      "application/vnd.jupyter.widget-view+json": {
       "model_id": "fdebb773bd8f447a9c57287741cf8ea0",
       "version_major": 2,
       "version_minor": 0
      },
      "text/plain": [
       "HBox(children=(FloatProgress(value=0.0, max=611.0), HTML(value='')))"
      ]
     },
     "metadata": {},
     "output_type": "display_data"
    },
    {
     "name": "stdout",
     "output_type": "stream",
     "text": [
      "\n",
      "DATA SPLITTING: \n",
      "Rows (devices) in dataset:  611\n",
      "Rows (devices) in train subset:  427\n",
      "Rows (devices) in test subset:  184\n",
      "MODEL WITH FEATURE SELECTION:\n",
      "Best model with feature selection using CHI2 TEST\n",
      "Number of selected features:   45 (out of   90)\n",
      "HYPERPARAMETER OPTIMIZATION: \n",
      "Fitting 5 folds for each of 100 candidates, totalling 500 fits\n"
     ]
    },
    {
     "name": "stderr",
     "output_type": "stream",
     "text": [
      "[Parallel(n_jobs=-1)]: Using backend LokyBackend with 16 concurrent workers.\n",
      "[Parallel(n_jobs=-1)]: Done 151 tasks      | elapsed:    5.8s\n",
      "[Parallel(n_jobs=-1)]: Done 320 tasks      | elapsed:   13.9s\n",
      "[Parallel(n_jobs=-1)]: Done 500 out of 500 | elapsed:   22.5s finished\n"
     ]
    },
    {
     "name": "stdout",
     "output_type": "stream",
     "text": [
      "Higher Balanced Accuracy: 76.70% | FEATURE_SELECTION\n",
      "\n",
      "\n",
      "DAYS OF PREDICTION:   7 | DAYS OF TRAINING DATA:  14\n",
      "DATA PREPARATION: \n",
      "Number of devices to be used:  600\n",
      "Number of failing devices in dataset: 12.50%\n",
      "Number of working devices in dataset: 87.50%\n"
     ]
    },
    {
     "data": {
      "application/vnd.jupyter.widget-view+json": {
       "model_id": "8118e5aed51d46678316f3555761ff3f",
       "version_major": 2,
       "version_minor": 0
      },
      "text/plain": [
       "HBox(children=(FloatProgress(value=0.0, max=600.0), HTML(value='')))"
      ]
     },
     "metadata": {},
     "output_type": "display_data"
    },
    {
     "name": "stdout",
     "output_type": "stream",
     "text": [
      "\n",
      "DATA SPLITTING: \n",
      "Rows (devices) in dataset:  600\n",
      "Rows (devices) in train subset:  420\n",
      "Rows (devices) in test subset:  180\n",
      "MODEL WITH FEATURE SELECTION:\n",
      "Best model with feature selection using CHI2 TEST\n",
      "Number of selected features:   63 (out of  126)\n",
      "HYPERPARAMETER OPTIMIZATION: \n",
      "Fitting 5 folds for each of 100 candidates, totalling 500 fits\n"
     ]
    },
    {
     "name": "stderr",
     "output_type": "stream",
     "text": [
      "[Parallel(n_jobs=-1)]: Using backend LokyBackend with 16 concurrent workers.\n",
      "[Parallel(n_jobs=-1)]: Done 151 tasks      | elapsed:    5.7s\n",
      "[Parallel(n_jobs=-1)]: Done 320 tasks      | elapsed:   13.9s\n",
      "[Parallel(n_jobs=-1)]: Done 500 out of 500 | elapsed:   22.6s finished\n"
     ]
    },
    {
     "name": "stdout",
     "output_type": "stream",
     "text": [
      "Higher Balanced Accuracy: 71.96% | FEATURE_SELECTION\n",
      "\n",
      "\n",
      "DAYS OF PREDICTION:   7 | DAYS OF TRAINING DATA:  20\n",
      "DATA PREPARATION: \n",
      "Number of devices to be used:  596\n",
      "Number of failing devices in dataset: 11.91%\n",
      "Number of working devices in dataset: 88.09%\n"
     ]
    },
    {
     "data": {
      "application/vnd.jupyter.widget-view+json": {
       "model_id": "596cbd1e0e594f4c9c0e91476195ce01",
       "version_major": 2,
       "version_minor": 0
      },
      "text/plain": [
       "HBox(children=(FloatProgress(value=0.0, max=596.0), HTML(value='')))"
      ]
     },
     "metadata": {},
     "output_type": "display_data"
    },
    {
     "name": "stdout",
     "output_type": "stream",
     "text": [
      "\n",
      "DATA SPLITTING: \n",
      "Rows (devices) in dataset:  596\n",
      "Rows (devices) in train subset:  417\n",
      "Rows (devices) in test subset:  179\n",
      "MODEL WITH FEATURE SELECTION:\n",
      "Best model with feature selection using CORRELATION\n",
      "Number of selected features:   96 (out of  180)\n",
      "HYPERPARAMETER OPTIMIZATION: \n",
      "Fitting 5 folds for each of 100 candidates, totalling 500 fits\n"
     ]
    },
    {
     "name": "stderr",
     "output_type": "stream",
     "text": [
      "[Parallel(n_jobs=-1)]: Using backend LokyBackend with 16 concurrent workers.\n",
      "[Parallel(n_jobs=-1)]: Done 152 tasks      | elapsed:    6.0s\n",
      "[Parallel(n_jobs=-1)]: Done 320 tasks      | elapsed:   15.0s\n",
      "[Parallel(n_jobs=-1)]: Done 500 out of 500 | elapsed:   24.6s finished\n"
     ]
    },
    {
     "name": "stdout",
     "output_type": "stream",
     "text": [
      "Higher Balanced Accuracy: 74.65% |       RSCV\n",
      "\n",
      "\n",
      "DAYS OF PREDICTION:   8 | DAYS OF TRAINING DATA:   5\n",
      "DATA PREPARATION: \n",
      "Number of devices to be used:  635\n",
      "Number of failing devices in dataset: 13.86%\n",
      "Number of working devices in dataset: 86.14%\n"
     ]
    },
    {
     "data": {
      "application/vnd.jupyter.widget-view+json": {
       "model_id": "90b8a3d2ab31416cb4c9a232bfbb55c9",
       "version_major": 2,
       "version_minor": 0
      },
      "text/plain": [
       "HBox(children=(FloatProgress(value=0.0, max=635.0), HTML(value='')))"
      ]
     },
     "metadata": {},
     "output_type": "display_data"
    },
    {
     "name": "stdout",
     "output_type": "stream",
     "text": [
      "\n",
      "DATA SPLITTING: \n",
      "Rows (devices) in dataset:  635\n",
      "Rows (devices) in train subset:  444\n",
      "Rows (devices) in test subset:  191\n",
      "MODEL WITH FEATURE SELECTION:\n",
      "Best model with feature selection using CORRELATION\n",
      "Number of selected features:   28 (out of   45)\n",
      "HYPERPARAMETER OPTIMIZATION: \n",
      "Fitting 5 folds for each of 100 candidates, totalling 500 fits\n"
     ]
    },
    {
     "name": "stderr",
     "output_type": "stream",
     "text": [
      "[Parallel(n_jobs=-1)]: Using backend LokyBackend with 16 concurrent workers.\n",
      "[Parallel(n_jobs=-1)]: Done 151 tasks      | elapsed:    5.7s\n",
      "[Parallel(n_jobs=-1)]: Done 320 tasks      | elapsed:   13.7s\n",
      "[Parallel(n_jobs=-1)]: Done 500 out of 500 | elapsed:   22.3s finished\n"
     ]
    },
    {
     "name": "stdout",
     "output_type": "stream",
     "text": [
      "Higher Balanced Accuracy: 71.10% |     B_BASE\n",
      "\n",
      "\n",
      "DAYS OF PREDICTION:   8 | DAYS OF TRAINING DATA:   7\n",
      "DATA PREPARATION: \n",
      "Number of devices to be used:  611\n",
      "Number of failing devices in dataset: 14.08%\n",
      "Number of working devices in dataset: 85.92%\n"
     ]
    },
    {
     "data": {
      "application/vnd.jupyter.widget-view+json": {
       "model_id": "0969206b36844e16925c8a3dce17fb12",
       "version_major": 2,
       "version_minor": 0
      },
      "text/plain": [
       "HBox(children=(FloatProgress(value=0.0, max=611.0), HTML(value='')))"
      ]
     },
     "metadata": {},
     "output_type": "display_data"
    },
    {
     "name": "stdout",
     "output_type": "stream",
     "text": [
      "\n",
      "DATA SPLITTING: \n",
      "Rows (devices) in dataset:  611\n",
      "Rows (devices) in train subset:  427\n",
      "Rows (devices) in test subset:  184\n",
      "MODEL WITH FEATURE SELECTION:\n",
      "Best model with feature selection using CHI2 TEST\n",
      "Number of selected features:   47 (out of   63)\n",
      "HYPERPARAMETER OPTIMIZATION: \n",
      "Fitting 5 folds for each of 100 candidates, totalling 500 fits\n"
     ]
    },
    {
     "name": "stderr",
     "output_type": "stream",
     "text": [
      "[Parallel(n_jobs=-1)]: Using backend LokyBackend with 16 concurrent workers.\n",
      "[Parallel(n_jobs=-1)]: Done 151 tasks      | elapsed:    5.7s\n",
      "[Parallel(n_jobs=-1)]: Done 320 tasks      | elapsed:   13.7s\n",
      "[Parallel(n_jobs=-1)]: Done 500 out of 500 | elapsed:   22.3s finished\n"
     ]
    },
    {
     "name": "stdout",
     "output_type": "stream",
     "text": [
      "Higher Balanced Accuracy: 77.65% | FEATURE_SELECTION\n",
      "\n",
      "\n",
      "DAYS OF PREDICTION:   8 | DAYS OF TRAINING DATA:  10\n",
      "DATA PREPARATION: \n",
      "Number of devices to be used:  610\n",
      "Number of failing devices in dataset: 13.93%\n",
      "Number of working devices in dataset: 86.07%\n"
     ]
    },
    {
     "data": {
      "application/vnd.jupyter.widget-view+json": {
       "model_id": "b235581caabf49c6af2ad22f49490d32",
       "version_major": 2,
       "version_minor": 0
      },
      "text/plain": [
       "HBox(children=(FloatProgress(value=0.0, max=610.0), HTML(value='')))"
      ]
     },
     "metadata": {},
     "output_type": "display_data"
    },
    {
     "name": "stdout",
     "output_type": "stream",
     "text": [
      "\n",
      "DATA SPLITTING: \n",
      "Rows (devices) in dataset:  610\n",
      "Rows (devices) in train subset:  427\n",
      "Rows (devices) in test subset:  183\n",
      "MODEL WITH FEATURE SELECTION:\n",
      "Best model with feature selection using CORRELATION\n",
      "Number of selected features:   63 (out of   90)\n",
      "HYPERPARAMETER OPTIMIZATION: \n",
      "Fitting 5 folds for each of 100 candidates, totalling 500 fits\n"
     ]
    },
    {
     "name": "stderr",
     "output_type": "stream",
     "text": [
      "[Parallel(n_jobs=-1)]: Using backend LokyBackend with 16 concurrent workers.\n",
      "[Parallel(n_jobs=-1)]: Done 152 tasks      | elapsed:    5.9s\n",
      "[Parallel(n_jobs=-1)]: Done 320 tasks      | elapsed:   14.4s\n",
      "[Parallel(n_jobs=-1)]: Done 500 out of 500 | elapsed:   23.4s finished\n"
     ]
    },
    {
     "name": "stdout",
     "output_type": "stream",
     "text": [
      "Higher Balanced Accuracy: 77.44% |     B_BASE\n",
      "\n",
      "\n",
      "DAYS OF PREDICTION:   8 | DAYS OF TRAINING DATA:  14\n",
      "DATA PREPARATION: \n",
      "Number of devices to be used:  600\n",
      "Number of failing devices in dataset: 12.50%\n",
      "Number of working devices in dataset: 87.50%\n"
     ]
    },
    {
     "data": {
      "application/vnd.jupyter.widget-view+json": {
       "model_id": "69d63241ce93462e8a512cdb8673d0fe",
       "version_major": 2,
       "version_minor": 0
      },
      "text/plain": [
       "HBox(children=(FloatProgress(value=0.0, max=600.0), HTML(value='')))"
      ]
     },
     "metadata": {},
     "output_type": "display_data"
    },
    {
     "name": "stdout",
     "output_type": "stream",
     "text": [
      "\n",
      "DATA SPLITTING: \n",
      "Rows (devices) in dataset:  600\n",
      "Rows (devices) in train subset:  420\n",
      "Rows (devices) in test subset:  180\n",
      "MODEL WITH FEATURE SELECTION:\n",
      "Best model with feature selection using CORRELATION\n",
      "Number of selected features:   70 (out of  126)\n",
      "HYPERPARAMETER OPTIMIZATION: \n",
      "Fitting 5 folds for each of 100 candidates, totalling 500 fits\n"
     ]
    },
    {
     "name": "stderr",
     "output_type": "stream",
     "text": [
      "[Parallel(n_jobs=-1)]: Using backend LokyBackend with 16 concurrent workers.\n",
      "[Parallel(n_jobs=-1)]: Done 152 tasks      | elapsed:    5.9s\n",
      "[Parallel(n_jobs=-1)]: Done 320 tasks      | elapsed:   14.4s\n",
      "[Parallel(n_jobs=-1)]: Done 500 out of 500 | elapsed:   23.6s finished\n"
     ]
    },
    {
     "name": "stdout",
     "output_type": "stream",
     "text": [
      "Higher Balanced Accuracy: 69.39% |     B_BASE\n",
      "\n",
      "\n",
      "DAYS OF PREDICTION:   8 | DAYS OF TRAINING DATA:  20\n",
      "DATA PREPARATION: \n",
      "Number of devices to be used:  596\n",
      "Number of failing devices in dataset: 11.91%\n",
      "Number of working devices in dataset: 88.09%\n"
     ]
    },
    {
     "data": {
      "application/vnd.jupyter.widget-view+json": {
       "model_id": "b29c058925db4d799a5925f43703ff78",
       "version_major": 2,
       "version_minor": 0
      },
      "text/plain": [
       "HBox(children=(FloatProgress(value=0.0, max=596.0), HTML(value='')))"
      ]
     },
     "metadata": {},
     "output_type": "display_data"
    },
    {
     "name": "stdout",
     "output_type": "stream",
     "text": [
      "\n",
      "DATA SPLITTING: \n",
      "Rows (devices) in dataset:  596\n",
      "Rows (devices) in train subset:  417\n",
      "Rows (devices) in test subset:  179\n",
      "MODEL WITH FEATURE SELECTION:\n",
      "Best model with feature selection using CORRELATION\n",
      "Number of selected features:   94 (out of  180)\n",
      "HYPERPARAMETER OPTIMIZATION: \n",
      "Fitting 5 folds for each of 100 candidates, totalling 500 fits\n"
     ]
    },
    {
     "name": "stderr",
     "output_type": "stream",
     "text": [
      "[Parallel(n_jobs=-1)]: Using backend LokyBackend with 16 concurrent workers.\n",
      "[Parallel(n_jobs=-1)]: Done 152 tasks      | elapsed:    6.0s\n",
      "[Parallel(n_jobs=-1)]: Done 320 tasks      | elapsed:   15.0s\n",
      "[Parallel(n_jobs=-1)]: Done 500 out of 500 | elapsed:   24.6s finished\n"
     ]
    },
    {
     "name": "stdout",
     "output_type": "stream",
     "text": [
      "Higher Balanced Accuracy: 74.03% |     B_BASE\n",
      "\n",
      "\n",
      "DAYS OF PREDICTION:   9 | DAYS OF TRAINING DATA:   5\n",
      "DATA PREPARATION: \n",
      "Number of devices to be used:  612\n",
      "Number of failing devices in dataset: 14.22%\n",
      "Number of working devices in dataset: 85.78%\n"
     ]
    },
    {
     "data": {
      "application/vnd.jupyter.widget-view+json": {
       "model_id": "07f45c1b5b4d4b928f2ebb49dfdf4759",
       "version_major": 2,
       "version_minor": 0
      },
      "text/plain": [
       "HBox(children=(FloatProgress(value=0.0, max=612.0), HTML(value='')))"
      ]
     },
     "metadata": {},
     "output_type": "display_data"
    },
    {
     "name": "stdout",
     "output_type": "stream",
     "text": [
      "\n",
      "DATA SPLITTING: \n",
      "Rows (devices) in dataset:  612\n",
      "Rows (devices) in train subset:  428\n",
      "Rows (devices) in test subset:  184\n",
      "MODEL WITH FEATURE SELECTION:\n",
      "Best model with feature selection using CHI2 TEST\n",
      "Number of selected features:   33 (out of   45)\n",
      "HYPERPARAMETER OPTIMIZATION: \n",
      "Fitting 5 folds for each of 100 candidates, totalling 500 fits\n"
     ]
    },
    {
     "name": "stderr",
     "output_type": "stream",
     "text": [
      "[Parallel(n_jobs=-1)]: Using backend LokyBackend with 16 concurrent workers.\n",
      "[Parallel(n_jobs=-1)]: Done 151 tasks      | elapsed:    5.6s\n",
      "[Parallel(n_jobs=-1)]: Done 320 tasks      | elapsed:   13.5s\n",
      "[Parallel(n_jobs=-1)]: Done 500 out of 500 | elapsed:   21.8s finished\n"
     ]
    },
    {
     "name": "stdout",
     "output_type": "stream",
     "text": [
      "Higher Balanced Accuracy: 75.13% | FEATURE_SELECTION\n",
      "\n",
      "\n",
      "DAYS OF PREDICTION:   9 | DAYS OF TRAINING DATA:   7\n",
      "DATA PREPARATION: \n",
      "Number of devices to be used:  611\n",
      "Number of failing devices in dataset: 14.08%\n",
      "Number of working devices in dataset: 85.92%\n"
     ]
    },
    {
     "data": {
      "application/vnd.jupyter.widget-view+json": {
       "model_id": "8d12653570124aeb828953b65162d4fb",
       "version_major": 2,
       "version_minor": 0
      },
      "text/plain": [
       "HBox(children=(FloatProgress(value=0.0, max=611.0), HTML(value='')))"
      ]
     },
     "metadata": {},
     "output_type": "display_data"
    },
    {
     "name": "stdout",
     "output_type": "stream",
     "text": [
      "\n",
      "DATA SPLITTING: \n",
      "Rows (devices) in dataset:  611\n",
      "Rows (devices) in train subset:  427\n",
      "Rows (devices) in test subset:  184\n",
      "MODEL WITH FEATURE SELECTION:\n",
      "Best model with feature selection using CHI2 TEST\n",
      "Number of selected features:   47 (out of   63)\n",
      "HYPERPARAMETER OPTIMIZATION: \n",
      "Fitting 5 folds for each of 100 candidates, totalling 500 fits\n"
     ]
    },
    {
     "name": "stderr",
     "output_type": "stream",
     "text": [
      "[Parallel(n_jobs=-1)]: Using backend LokyBackend with 16 concurrent workers.\n",
      "[Parallel(n_jobs=-1)]: Done 151 tasks      | elapsed:    5.7s\n",
      "[Parallel(n_jobs=-1)]: Done 320 tasks      | elapsed:   13.7s\n",
      "[Parallel(n_jobs=-1)]: Done 500 out of 500 | elapsed:   22.2s finished\n"
     ]
    },
    {
     "name": "stdout",
     "output_type": "stream",
     "text": [
      "Higher Balanced Accuracy: 79.89% | FEATURE_SELECTION\n",
      "\n",
      "\n",
      "DAYS OF PREDICTION:   9 | DAYS OF TRAINING DATA:  10\n",
      "DATA PREPARATION: \n",
      "Number of devices to be used:  609\n",
      "Number of failing devices in dataset: 13.79%\n",
      "Number of working devices in dataset: 86.21%\n"
     ]
    },
    {
     "data": {
      "application/vnd.jupyter.widget-view+json": {
       "model_id": "6a2a300ff9f54e94ab82fcca6e982028",
       "version_major": 2,
       "version_minor": 0
      },
      "text/plain": [
       "HBox(children=(FloatProgress(value=0.0, max=609.0), HTML(value='')))"
      ]
     },
     "metadata": {},
     "output_type": "display_data"
    },
    {
     "name": "stdout",
     "output_type": "stream",
     "text": [
      "\n",
      "DATA SPLITTING: \n",
      "Rows (devices) in dataset:  609\n",
      "Rows (devices) in train subset:  426\n",
      "Rows (devices) in test subset:  183\n",
      "MODEL WITH FEATURE SELECTION:\n",
      "Best model with feature selection using CHI2 TEST\n",
      "Number of selected features:   67 (out of   90)\n",
      "HYPERPARAMETER OPTIMIZATION: \n",
      "Fitting 5 folds for each of 100 candidates, totalling 500 fits\n"
     ]
    },
    {
     "name": "stderr",
     "output_type": "stream",
     "text": [
      "[Parallel(n_jobs=-1)]: Using backend LokyBackend with 16 concurrent workers.\n",
      "[Parallel(n_jobs=-1)]: Done 151 tasks      | elapsed:    5.8s\n",
      "[Parallel(n_jobs=-1)]: Done 320 tasks      | elapsed:   14.0s\n",
      "[Parallel(n_jobs=-1)]: Done 500 out of 500 | elapsed:   22.8s finished\n"
     ]
    },
    {
     "name": "stdout",
     "output_type": "stream",
     "text": [
      "Higher Balanced Accuracy: 78.26% | FEATURE_SELECTION\n",
      "\n",
      "\n",
      "DAYS OF PREDICTION:   9 | DAYS OF TRAINING DATA:  14\n",
      "DATA PREPARATION: \n",
      "Number of devices to be used:  599\n",
      "Number of failing devices in dataset: 12.35%\n",
      "Number of working devices in dataset: 87.65%\n"
     ]
    },
    {
     "data": {
      "application/vnd.jupyter.widget-view+json": {
       "model_id": "7d15204a88b04fde8eaca57c0519be0c",
       "version_major": 2,
       "version_minor": 0
      },
      "text/plain": [
       "HBox(children=(FloatProgress(value=0.0, max=599.0), HTML(value='')))"
      ]
     },
     "metadata": {},
     "output_type": "display_data"
    },
    {
     "name": "stdout",
     "output_type": "stream",
     "text": [
      "\n",
      "DATA SPLITTING: \n",
      "Rows (devices) in dataset:  599\n",
      "Rows (devices) in train subset:  419\n",
      "Rows (devices) in test subset:  180\n",
      "MODEL WITH FEATURE SELECTION:\n",
      "Best model with feature selection using CORRELATION\n",
      "Number of selected features:   62 (out of  126)\n",
      "HYPERPARAMETER OPTIMIZATION: \n",
      "Fitting 5 folds for each of 100 candidates, totalling 500 fits\n"
     ]
    },
    {
     "name": "stderr",
     "output_type": "stream",
     "text": [
      "[Parallel(n_jobs=-1)]: Using backend LokyBackend with 16 concurrent workers.\n",
      "[Parallel(n_jobs=-1)]: Done 152 tasks      | elapsed:    6.0s\n",
      "[Parallel(n_jobs=-1)]: Done 320 tasks      | elapsed:   14.6s\n"
     ]
    },
    {
     "name": "stdout",
     "output_type": "stream",
     "text": [
      "Higher Balanced Accuracy: 74.13% |     B_BASE\n",
      "\n",
      "\n",
      "DAYS OF PREDICTION:   9 | DAYS OF TRAINING DATA:  20\n",
      "DATA PREPARATION: \n",
      "Number of devices to be used:  595\n",
      "Number of failing devices in dataset: 11.76%\n",
      "Number of working devices in dataset: 88.24%\n"
     ]
    },
    {
     "name": "stderr",
     "output_type": "stream",
     "text": [
      "[Parallel(n_jobs=-1)]: Done 500 out of 500 | elapsed:   23.9s finished\n"
     ]
    },
    {
     "data": {
      "application/vnd.jupyter.widget-view+json": {
       "model_id": "29abda6352f14ec6b9a4d8b70e975ad2",
       "version_major": 2,
       "version_minor": 0
      },
      "text/plain": [
       "HBox(children=(FloatProgress(value=0.0, max=595.0), HTML(value='')))"
      ]
     },
     "metadata": {},
     "output_type": "display_data"
    },
    {
     "name": "stdout",
     "output_type": "stream",
     "text": [
      "\n",
      "DATA SPLITTING: \n",
      "Rows (devices) in dataset:  595\n",
      "Rows (devices) in train subset:  416\n",
      "Rows (devices) in test subset:  179\n",
      "MODEL WITH FEATURE SELECTION:\n",
      "Best model with feature selection using CORRELATION\n",
      "Number of selected features:   84 (out of  180)\n",
      "HYPERPARAMETER OPTIMIZATION: \n",
      "Fitting 5 folds for each of 100 candidates, totalling 500 fits\n"
     ]
    },
    {
     "name": "stderr",
     "output_type": "stream",
     "text": [
      "[Parallel(n_jobs=-1)]: Using backend LokyBackend with 16 concurrent workers.\n",
      "[Parallel(n_jobs=-1)]: Done 151 tasks      | elapsed:    5.7s\n",
      "[Parallel(n_jobs=-1)]: Done 320 tasks      | elapsed:   13.5s\n",
      "[Parallel(n_jobs=-1)]: Done 500 out of 500 | elapsed:   21.9s finished\n"
     ]
    },
    {
     "name": "stdout",
     "output_type": "stream",
     "text": [
      "Higher Balanced Accuracy: 71.82% |       RSCV\n",
      "\n",
      "\n",
      "DAYS OF PREDICTION:  10 | DAYS OF TRAINING DATA:   5\n",
      "DATA PREPARATION: \n",
      "Number of devices to be used:  611\n",
      "Number of failing devices in dataset: 14.08%\n",
      "Number of working devices in dataset: 85.92%\n"
     ]
    },
    {
     "data": {
      "application/vnd.jupyter.widget-view+json": {
       "model_id": "7a2874abbd174f16a31be32a637eaf67",
       "version_major": 2,
       "version_minor": 0
      },
      "text/plain": [
       "HBox(children=(FloatProgress(value=0.0, max=611.0), HTML(value='')))"
      ]
     },
     "metadata": {},
     "output_type": "display_data"
    },
    {
     "name": "stdout",
     "output_type": "stream",
     "text": [
      "\n",
      "DATA SPLITTING: \n",
      "Rows (devices) in dataset:  611\n",
      "Rows (devices) in train subset:  427\n",
      "Rows (devices) in test subset:  184\n",
      "MODEL WITH FEATURE SELECTION:\n",
      "Best model with feature selection using CHI2 TEST\n",
      "Number of selected features:   33 (out of   45)\n",
      "HYPERPARAMETER OPTIMIZATION: \n",
      "Fitting 5 folds for each of 100 candidates, totalling 500 fits\n"
     ]
    },
    {
     "name": "stderr",
     "output_type": "stream",
     "text": [
      "[Parallel(n_jobs=-1)]: Using backend LokyBackend with 16 concurrent workers.\n",
      "[Parallel(n_jobs=-1)]: Done 151 tasks      | elapsed:    5.6s\n",
      "[Parallel(n_jobs=-1)]: Done 320 tasks      | elapsed:   13.5s\n",
      "[Parallel(n_jobs=-1)]: Done 500 out of 500 | elapsed:   21.9s finished\n"
     ]
    },
    {
     "name": "stdout",
     "output_type": "stream",
     "text": [
      "Higher Balanced Accuracy: 79.58% | FEATURE_SELECTION\n",
      "\n",
      "\n",
      "DAYS OF PREDICTION:  10 | DAYS OF TRAINING DATA:   7\n",
      "DATA PREPARATION: \n",
      "Number of devices to be used:  611\n",
      "Number of failing devices in dataset: 14.08%\n",
      "Number of working devices in dataset: 85.92%\n"
     ]
    },
    {
     "data": {
      "application/vnd.jupyter.widget-view+json": {
       "model_id": "e9be8509bb654cd2bc042719fdc0c333",
       "version_major": 2,
       "version_minor": 0
      },
      "text/plain": [
       "HBox(children=(FloatProgress(value=0.0, max=611.0), HTML(value='')))"
      ]
     },
     "metadata": {},
     "output_type": "display_data"
    },
    {
     "name": "stdout",
     "output_type": "stream",
     "text": [
      "\n",
      "DATA SPLITTING: \n",
      "Rows (devices) in dataset:  611\n",
      "Rows (devices) in train subset:  427\n",
      "Rows (devices) in test subset:  184\n",
      "MODEL WITH FEATURE SELECTION:\n",
      "Best model with feature selection using CHI2 TEST\n",
      "Number of selected features:   47 (out of   63)\n",
      "HYPERPARAMETER OPTIMIZATION: \n",
      "Fitting 5 folds for each of 100 candidates, totalling 500 fits\n"
     ]
    },
    {
     "name": "stderr",
     "output_type": "stream",
     "text": [
      "[Parallel(n_jobs=-1)]: Using backend LokyBackend with 16 concurrent workers.\n",
      "[Parallel(n_jobs=-1)]: Done 151 tasks      | elapsed:    5.7s\n",
      "[Parallel(n_jobs=-1)]: Done 320 tasks      | elapsed:   13.7s\n",
      "[Parallel(n_jobs=-1)]: Done 500 out of 500 | elapsed:   22.2s finished\n"
     ]
    },
    {
     "name": "stdout",
     "output_type": "stream",
     "text": [
      "Higher Balanced Accuracy: 73.49% | FEATURE_SELECTION\n",
      "\n",
      "\n",
      "DAYS OF PREDICTION:  10 | DAYS OF TRAINING DATA:  10\n",
      "DATA PREPARATION: \n",
      "Number of devices to be used:  601\n",
      "Number of failing devices in dataset: 12.65%\n",
      "Number of working devices in dataset: 87.35%\n"
     ]
    },
    {
     "data": {
      "application/vnd.jupyter.widget-view+json": {
       "model_id": "31f46c84fb9d41fb92ece2fb2d164b78",
       "version_major": 2,
       "version_minor": 0
      },
      "text/plain": [
       "HBox(children=(FloatProgress(value=0.0, max=601.0), HTML(value='')))"
      ]
     },
     "metadata": {},
     "output_type": "display_data"
    },
    {
     "name": "stdout",
     "output_type": "stream",
     "text": [
      "\n",
      "DATA SPLITTING: \n",
      "Rows (devices) in dataset:  601\n",
      "Rows (devices) in train subset:  420\n",
      "Rows (devices) in test subset:  181\n",
      "MODEL WITH FEATURE SELECTION:\n",
      "Best model with feature selection using CHI2 TEST\n",
      "Number of selected features:   45 (out of   90)\n",
      "HYPERPARAMETER OPTIMIZATION: \n",
      "Fitting 5 folds for each of 100 candidates, totalling 500 fits\n"
     ]
    },
    {
     "name": "stderr",
     "output_type": "stream",
     "text": [
      "[Parallel(n_jobs=-1)]: Using backend LokyBackend with 16 concurrent workers.\n",
      "[Parallel(n_jobs=-1)]: Done 151 tasks      | elapsed:    5.6s\n",
      "[Parallel(n_jobs=-1)]: Done 320 tasks      | elapsed:   13.5s\n",
      "[Parallel(n_jobs=-1)]: Done 500 out of 500 | elapsed:   21.9s finished\n"
     ]
    },
    {
     "name": "stdout",
     "output_type": "stream",
     "text": [
      "Higher Balanced Accuracy: 69.40% | FEATURE_SELECTION\n",
      "\n",
      "\n",
      "DAYS OF PREDICTION:  10 | DAYS OF TRAINING DATA:  14\n",
      "DATA PREPARATION: \n",
      "Number of devices to be used:  597\n",
      "Number of failing devices in dataset: 12.06%\n",
      "Number of working devices in dataset: 87.94%\n"
     ]
    },
    {
     "data": {
      "application/vnd.jupyter.widget-view+json": {
       "model_id": "5dc94e471601456d8086dfde041bf539",
       "version_major": 2,
       "version_minor": 0
      },
      "text/plain": [
       "HBox(children=(FloatProgress(value=0.0, max=597.0), HTML(value='')))"
      ]
     },
     "metadata": {},
     "output_type": "display_data"
    },
    {
     "name": "stdout",
     "output_type": "stream",
     "text": [
      "\n",
      "DATA SPLITTING: \n",
      "Rows (devices) in dataset:  597\n",
      "Rows (devices) in train subset:  417\n",
      "Rows (devices) in test subset:  180\n",
      "MODEL WITH FEATURE SELECTION:\n",
      "Best model with feature selection using CORRELATION\n",
      "Number of selected features:   72 (out of  126)\n",
      "HYPERPARAMETER OPTIMIZATION: \n",
      "Fitting 5 folds for each of 100 candidates, totalling 500 fits\n"
     ]
    },
    {
     "name": "stderr",
     "output_type": "stream",
     "text": [
      "[Parallel(n_jobs=-1)]: Using backend LokyBackend with 16 concurrent workers.\n",
      "[Parallel(n_jobs=-1)]: Done 151 tasks      | elapsed:    5.7s\n",
      "[Parallel(n_jobs=-1)]: Done 320 tasks      | elapsed:   13.8s\n",
      "[Parallel(n_jobs=-1)]: Done 500 out of 500 | elapsed:   22.5s finished\n"
     ]
    },
    {
     "name": "stdout",
     "output_type": "stream",
     "text": [
      "Higher Balanced Accuracy: 76.88% | FEATURE_SELECTION\n",
      "\n",
      "\n",
      "DAYS OF PREDICTION:  10 | DAYS OF TRAINING DATA:  20\n",
      "DATA PREPARATION: \n",
      "Number of devices to be used:  595\n",
      "Number of failing devices in dataset: 11.76%\n",
      "Number of working devices in dataset: 88.24%\n"
     ]
    },
    {
     "data": {
      "application/vnd.jupyter.widget-view+json": {
       "model_id": "008bced8fd944091b7c0c67433ff2664",
       "version_major": 2,
       "version_minor": 0
      },
      "text/plain": [
       "HBox(children=(FloatProgress(value=0.0, max=595.0), HTML(value='')))"
      ]
     },
     "metadata": {},
     "output_type": "display_data"
    },
    {
     "name": "stdout",
     "output_type": "stream",
     "text": [
      "\n",
      "DATA SPLITTING: \n",
      "Rows (devices) in dataset:  595\n",
      "Rows (devices) in train subset:  416\n",
      "Rows (devices) in test subset:  179\n",
      "MODEL WITH FEATURE SELECTION:\n",
      "Best model with feature selection using CORRELATION\n",
      "Number of selected features:   84 (out of  180)\n",
      "HYPERPARAMETER OPTIMIZATION: \n",
      "Fitting 5 folds for each of 100 candidates, totalling 500 fits\n"
     ]
    },
    {
     "name": "stderr",
     "output_type": "stream",
     "text": [
      "[Parallel(n_jobs=-1)]: Using backend LokyBackend with 16 concurrent workers.\n",
      "[Parallel(n_jobs=-1)]: Done 151 tasks      | elapsed:    5.7s\n",
      "[Parallel(n_jobs=-1)]: Done 320 tasks      | elapsed:   13.5s\n",
      "[Parallel(n_jobs=-1)]: Done 500 out of 500 | elapsed:   21.9s finished\n"
     ]
    },
    {
     "name": "stdout",
     "output_type": "stream",
     "text": [
      "Higher Balanced Accuracy: 72.81% | FEATURE_SELECTION\n",
      "\n",
      "\n",
      "DAYS OF PREDICTION:  11 | DAYS OF TRAINING DATA:   5\n",
      "DATA PREPARATION: \n",
      "Number of devices to be used:  611\n",
      "Number of failing devices in dataset: 14.08%\n",
      "Number of working devices in dataset: 85.92%\n"
     ]
    },
    {
     "data": {
      "application/vnd.jupyter.widget-view+json": {
       "model_id": "be80e146b2f94639ba9997709982bff9",
       "version_major": 2,
       "version_minor": 0
      },
      "text/plain": [
       "HBox(children=(FloatProgress(value=0.0, max=611.0), HTML(value='')))"
      ]
     },
     "metadata": {},
     "output_type": "display_data"
    },
    {
     "name": "stdout",
     "output_type": "stream",
     "text": [
      "\n",
      "DATA SPLITTING: \n",
      "Rows (devices) in dataset:  611\n",
      "Rows (devices) in train subset:  427\n",
      "Rows (devices) in test subset:  184\n",
      "MODEL WITH FEATURE SELECTION:\n",
      "Best model with feature selection using CHI2 TEST\n",
      "Number of selected features:   33 (out of   45)\n",
      "HYPERPARAMETER OPTIMIZATION: \n",
      "Fitting 5 folds for each of 100 candidates, totalling 500 fits\n"
     ]
    },
    {
     "name": "stderr",
     "output_type": "stream",
     "text": [
      "[Parallel(n_jobs=-1)]: Using backend LokyBackend with 16 concurrent workers.\n",
      "[Parallel(n_jobs=-1)]: Done 151 tasks      | elapsed:    5.6s\n",
      "[Parallel(n_jobs=-1)]: Done 320 tasks      | elapsed:   13.5s\n"
     ]
    },
    {
     "name": "stdout",
     "output_type": "stream",
     "text": [
      "Higher Balanced Accuracy: 75.78% |       RSCV\n",
      "\n",
      "\n",
      "DAYS OF PREDICTION:  11 | DAYS OF TRAINING DATA:   7\n",
      "DATA PREPARATION: \n",
      "Number of devices to be used:  610\n",
      "Number of failing devices in dataset: 13.93%\n",
      "Number of working devices in dataset: 86.07%\n"
     ]
    },
    {
     "name": "stderr",
     "output_type": "stream",
     "text": [
      "[Parallel(n_jobs=-1)]: Done 500 out of 500 | elapsed:   21.9s finished\n"
     ]
    },
    {
     "data": {
      "application/vnd.jupyter.widget-view+json": {
       "model_id": "38eb837593754735a9d0e31d2beaccc5",
       "version_major": 2,
       "version_minor": 0
      },
      "text/plain": [
       "HBox(children=(FloatProgress(value=0.0, max=610.0), HTML(value='')))"
      ]
     },
     "metadata": {},
     "output_type": "display_data"
    },
    {
     "name": "stdout",
     "output_type": "stream",
     "text": [
      "\n",
      "DATA SPLITTING: \n",
      "Rows (devices) in dataset:  610\n",
      "Rows (devices) in train subset:  427\n",
      "Rows (devices) in test subset:  183\n",
      "MODEL WITH FEATURE SELECTION:\n",
      "Best model with feature selection using CORRELATION\n",
      "Number of selected features:   44 (out of   63)\n",
      "HYPERPARAMETER OPTIMIZATION: \n",
      "Fitting 5 folds for each of 100 candidates, totalling 500 fits\n"
     ]
    },
    {
     "name": "stderr",
     "output_type": "stream",
     "text": [
      "[Parallel(n_jobs=-1)]: Using backend LokyBackend with 16 concurrent workers.\n",
      "[Parallel(n_jobs=-1)]: Done 151 tasks      | elapsed:    5.7s\n",
      "[Parallel(n_jobs=-1)]: Done 320 tasks      | elapsed:   13.8s\n",
      "[Parallel(n_jobs=-1)]: Done 500 out of 500 | elapsed:   22.4s finished\n"
     ]
    },
    {
     "name": "stdout",
     "output_type": "stream",
     "text": [
      "Higher Balanced Accuracy: 75.04% | FEATURE_SELECTION\n",
      "\n",
      "\n",
      "DAYS OF PREDICTION:  11 | DAYS OF TRAINING DATA:  10\n",
      "DATA PREPARATION: \n",
      "Number of devices to be used:  600\n",
      "Number of failing devices in dataset: 12.50%\n",
      "Number of working devices in dataset: 87.50%\n"
     ]
    },
    {
     "data": {
      "application/vnd.jupyter.widget-view+json": {
       "model_id": "d88857458df8451bbf601973dad0dbb8",
       "version_major": 2,
       "version_minor": 0
      },
      "text/plain": [
       "HBox(children=(FloatProgress(value=0.0, max=600.0), HTML(value='')))"
      ]
     },
     "metadata": {},
     "output_type": "display_data"
    },
    {
     "name": "stdout",
     "output_type": "stream",
     "text": [
      "\n",
      "DATA SPLITTING: \n",
      "Rows (devices) in dataset:  600\n",
      "Rows (devices) in train subset:  420\n",
      "Rows (devices) in test subset:  180\n",
      "MODEL WITH FEATURE SELECTION:\n",
      "Best model with feature selection using CHI2 TEST\n",
      "Number of selected features:   45 (out of   90)\n",
      "HYPERPARAMETER OPTIMIZATION: \n",
      "Fitting 5 folds for each of 100 candidates, totalling 500 fits\n"
     ]
    },
    {
     "name": "stderr",
     "output_type": "stream",
     "text": [
      "[Parallel(n_jobs=-1)]: Using backend LokyBackend with 16 concurrent workers.\n",
      "[Parallel(n_jobs=-1)]: Done 151 tasks      | elapsed:    5.8s\n",
      "[Parallel(n_jobs=-1)]: Done 320 tasks      | elapsed:   14.0s\n",
      "[Parallel(n_jobs=-1)]: Done 500 out of 500 | elapsed:   22.9s finished\n"
     ]
    },
    {
     "name": "stdout",
     "output_type": "stream",
     "text": [
      "Higher Balanced Accuracy: 72.12% |       RSCV\n",
      "\n",
      "\n",
      "DAYS OF PREDICTION:  11 | DAYS OF TRAINING DATA:  14\n",
      "DATA PREPARATION: \n",
      "Number of devices to be used:  597\n",
      "Number of failing devices in dataset: 12.06%\n",
      "Number of working devices in dataset: 87.94%\n"
     ]
    },
    {
     "data": {
      "application/vnd.jupyter.widget-view+json": {
       "model_id": "22c51082025c4dc58ebf74ac013d976e",
       "version_major": 2,
       "version_minor": 0
      },
      "text/plain": [
       "HBox(children=(FloatProgress(value=0.0, max=597.0), HTML(value='')))"
      ]
     },
     "metadata": {},
     "output_type": "display_data"
    },
    {
     "name": "stdout",
     "output_type": "stream",
     "text": [
      "\n",
      "DATA SPLITTING: \n",
      "Rows (devices) in dataset:  597\n",
      "Rows (devices) in train subset:  417\n",
      "Rows (devices) in test subset:  180\n",
      "MODEL WITH FEATURE SELECTION:\n",
      "Best model with feature selection using CHI2 TEST\n",
      "Number of selected features:   31 (out of  126)\n",
      "HYPERPARAMETER OPTIMIZATION: \n",
      "Fitting 5 folds for each of 100 candidates, totalling 500 fits\n"
     ]
    },
    {
     "name": "stderr",
     "output_type": "stream",
     "text": [
      "[Parallel(n_jobs=-1)]: Using backend LokyBackend with 16 concurrent workers.\n",
      "[Parallel(n_jobs=-1)]: Done 152 tasks      | elapsed:    5.9s\n",
      "[Parallel(n_jobs=-1)]: Done 320 tasks      | elapsed:   14.5s\n",
      "[Parallel(n_jobs=-1)]: Done 500 out of 500 | elapsed:   23.7s finished\n"
     ]
    },
    {
     "name": "stdout",
     "output_type": "stream",
     "text": [
      "Higher Balanced Accuracy: 75.31% |     B_BASE\n",
      "\n",
      "\n",
      "DAYS OF PREDICTION:  11 | DAYS OF TRAINING DATA:  20\n",
      "DATA PREPARATION: \n",
      "Number of devices to be used:  595\n",
      "Number of failing devices in dataset: 11.76%\n",
      "Number of working devices in dataset: 88.24%\n"
     ]
    },
    {
     "data": {
      "application/vnd.jupyter.widget-view+json": {
       "model_id": "0b2f788bc6b3407eba0e43c879d10d31",
       "version_major": 2,
       "version_minor": 0
      },
      "text/plain": [
       "HBox(children=(FloatProgress(value=0.0, max=595.0), HTML(value='')))"
      ]
     },
     "metadata": {},
     "output_type": "display_data"
    },
    {
     "name": "stdout",
     "output_type": "stream",
     "text": [
      "\n",
      "DATA SPLITTING: \n",
      "Rows (devices) in dataset:  595\n",
      "Rows (devices) in train subset:  416\n",
      "Rows (devices) in test subset:  179\n",
      "MODEL WITH FEATURE SELECTION:\n",
      "Best model with feature selection using CORRELATION\n",
      "Number of selected features:   84 (out of  180)\n",
      "HYPERPARAMETER OPTIMIZATION: \n",
      "Fitting 5 folds for each of 100 candidates, totalling 500 fits\n"
     ]
    },
    {
     "name": "stderr",
     "output_type": "stream",
     "text": [
      "[Parallel(n_jobs=-1)]: Using backend LokyBackend with 16 concurrent workers.\n",
      "[Parallel(n_jobs=-1)]: Done 151 tasks      | elapsed:    5.7s\n",
      "[Parallel(n_jobs=-1)]: Done 320 tasks      | elapsed:   13.5s\n",
      "[Parallel(n_jobs=-1)]: Done 500 out of 500 | elapsed:   21.9s finished\n"
     ]
    },
    {
     "name": "stdout",
     "output_type": "stream",
     "text": [
      "Higher Balanced Accuracy: 69.90% | FEATURE_SELECTION\n",
      "\n",
      "\n",
      "DAYS OF PREDICTION:  12 | DAYS OF TRAINING DATA:   5\n",
      "DATA PREPARATION: \n",
      "Number of devices to be used:  611\n",
      "Number of failing devices in dataset: 14.08%\n",
      "Number of working devices in dataset: 85.92%\n"
     ]
    },
    {
     "data": {
      "application/vnd.jupyter.widget-view+json": {
       "model_id": "1941a1ccf0d54582817c83973640c8a5",
       "version_major": 2,
       "version_minor": 0
      },
      "text/plain": [
       "HBox(children=(FloatProgress(value=0.0, max=611.0), HTML(value='')))"
      ]
     },
     "metadata": {},
     "output_type": "display_data"
    },
    {
     "name": "stdout",
     "output_type": "stream",
     "text": [
      "\n",
      "DATA SPLITTING: \n",
      "Rows (devices) in dataset:  611\n",
      "Rows (devices) in train subset:  427\n",
      "Rows (devices) in test subset:  184\n",
      "MODEL WITH FEATURE SELECTION:\n",
      "Best model with feature selection using CHI2 TEST\n",
      "Number of selected features:   22 (out of   45)\n",
      "HYPERPARAMETER OPTIMIZATION: \n",
      "Fitting 5 folds for each of 100 candidates, totalling 500 fits\n"
     ]
    },
    {
     "name": "stderr",
     "output_type": "stream",
     "text": [
      "[Parallel(n_jobs=-1)]: Using backend LokyBackend with 16 concurrent workers.\n",
      "[Parallel(n_jobs=-1)]: Done 151 tasks      | elapsed:    5.6s\n",
      "[Parallel(n_jobs=-1)]: Done 320 tasks      | elapsed:   13.5s\n",
      "[Parallel(n_jobs=-1)]: Done 500 out of 500 | elapsed:   21.8s finished\n"
     ]
    },
    {
     "name": "stdout",
     "output_type": "stream",
     "text": [
      "Higher Balanced Accuracy: 73.49% |       RSCV\n",
      "\n",
      "\n",
      "DAYS OF PREDICTION:  12 | DAYS OF TRAINING DATA:   7\n",
      "DATA PREPARATION: \n",
      "Number of devices to be used:  609\n",
      "Number of failing devices in dataset: 13.79%\n",
      "Number of working devices in dataset: 86.21%\n"
     ]
    },
    {
     "data": {
      "application/vnd.jupyter.widget-view+json": {
       "model_id": "d426e0a903a74295b0cc071557b9d6a7",
       "version_major": 2,
       "version_minor": 0
      },
      "text/plain": [
       "HBox(children=(FloatProgress(value=0.0, max=609.0), HTML(value='')))"
      ]
     },
     "metadata": {},
     "output_type": "display_data"
    },
    {
     "name": "stdout",
     "output_type": "stream",
     "text": [
      "\n",
      "DATA SPLITTING: \n",
      "Rows (devices) in dataset:  609\n",
      "Rows (devices) in train subset:  426\n",
      "Rows (devices) in test subset:  183\n",
      "MODEL WITH FEATURE SELECTION:\n",
      "Best model with feature selection using CORRELATION\n",
      "Number of selected features:   44 (out of   63)\n",
      "HYPERPARAMETER OPTIMIZATION: \n",
      "Fitting 5 folds for each of 100 candidates, totalling 500 fits\n"
     ]
    },
    {
     "name": "stderr",
     "output_type": "stream",
     "text": [
      "[Parallel(n_jobs=-1)]: Using backend LokyBackend with 16 concurrent workers.\n",
      "[Parallel(n_jobs=-1)]: Done 151 tasks      | elapsed:    5.7s\n",
      "[Parallel(n_jobs=-1)]: Done 320 tasks      | elapsed:   13.8s\n",
      "[Parallel(n_jobs=-1)]: Done 500 out of 500 | elapsed:   22.4s finished\n"
     ]
    },
    {
     "name": "stdout",
     "output_type": "stream",
     "text": [
      "Higher Balanced Accuracy: 71.89% | FEATURE_SELECTION\n",
      "\n",
      "\n",
      "DAYS OF PREDICTION:  12 | DAYS OF TRAINING DATA:  10\n",
      "DATA PREPARATION: \n",
      "Number of devices to be used:  600\n",
      "Number of failing devices in dataset: 12.50%\n",
      "Number of working devices in dataset: 87.50%\n"
     ]
    },
    {
     "data": {
      "application/vnd.jupyter.widget-view+json": {
       "model_id": "a72f5da9fe4f47a0aea6276db3467507",
       "version_major": 2,
       "version_minor": 0
      },
      "text/plain": [
       "HBox(children=(FloatProgress(value=0.0, max=600.0), HTML(value='')))"
      ]
     },
     "metadata": {},
     "output_type": "display_data"
    },
    {
     "name": "stdout",
     "output_type": "stream",
     "text": [
      "\n",
      "DATA SPLITTING: \n",
      "Rows (devices) in dataset:  600\n",
      "Rows (devices) in train subset:  420\n",
      "Rows (devices) in test subset:  180\n",
      "MODEL WITH FEATURE SELECTION:\n",
      "Best model with feature selection using CHI2 TEST\n",
      "Number of selected features:   67 (out of   90)\n",
      "HYPERPARAMETER OPTIMIZATION: \n",
      "Fitting 5 folds for each of 100 candidates, totalling 500 fits\n"
     ]
    },
    {
     "name": "stderr",
     "output_type": "stream",
     "text": [
      "[Parallel(n_jobs=-1)]: Using backend LokyBackend with 16 concurrent workers.\n",
      "[Parallel(n_jobs=-1)]: Done 152 tasks      | elapsed:    5.9s\n",
      "[Parallel(n_jobs=-1)]: Done 320 tasks      | elapsed:   14.0s\n",
      "[Parallel(n_jobs=-1)]: Done 500 out of 500 | elapsed:   22.9s finished\n"
     ]
    },
    {
     "name": "stdout",
     "output_type": "stream",
     "text": [
      "Higher Balanced Accuracy: 74.52% |       RSCV\n",
      "\n",
      "\n",
      "DAYS OF PREDICTION:  12 | DAYS OF TRAINING DATA:  14\n",
      "DATA PREPARATION: \n",
      "Number of devices to be used:  597\n",
      "Number of failing devices in dataset: 12.06%\n",
      "Number of working devices in dataset: 87.94%\n"
     ]
    },
    {
     "data": {
      "application/vnd.jupyter.widget-view+json": {
       "model_id": "56df620c2b4e4579938e2cf72ec5410d",
       "version_major": 2,
       "version_minor": 0
      },
      "text/plain": [
       "HBox(children=(FloatProgress(value=0.0, max=597.0), HTML(value='')))"
      ]
     },
     "metadata": {},
     "output_type": "display_data"
    },
    {
     "name": "stdout",
     "output_type": "stream",
     "text": [
      "\n",
      "DATA SPLITTING: \n",
      "Rows (devices) in dataset:  597\n",
      "Rows (devices) in train subset:  417\n",
      "Rows (devices) in test subset:  180\n",
      "MODEL WITH FEATURE SELECTION:\n",
      "Best model with feature selection using CORRELATION\n",
      "Number of selected features:   69 (out of  126)\n",
      "HYPERPARAMETER OPTIMIZATION: \n",
      "Fitting 5 folds for each of 100 candidates, totalling 500 fits\n"
     ]
    },
    {
     "name": "stderr",
     "output_type": "stream",
     "text": [
      "[Parallel(n_jobs=-1)]: Using backend LokyBackend with 16 concurrent workers.\n",
      "[Parallel(n_jobs=-1)]: Done 152 tasks      | elapsed:    5.9s\n",
      "[Parallel(n_jobs=-1)]: Done 320 tasks      | elapsed:   14.4s\n"
     ]
    },
    {
     "name": "stdout",
     "output_type": "stream",
     "text": [
      "Higher Balanced Accuracy: 75.31% |     B_BASE\n",
      "\n",
      "\n",
      "DAYS OF PREDICTION:  12 | DAYS OF TRAINING DATA:  20\n",
      "DATA PREPARATION: \n",
      "Number of devices to be used:  595\n",
      "Number of failing devices in dataset: 11.76%\n",
      "Number of working devices in dataset: 88.24%\n"
     ]
    },
    {
     "name": "stderr",
     "output_type": "stream",
     "text": [
      "[Parallel(n_jobs=-1)]: Done 500 out of 500 | elapsed:   23.6s finished\n"
     ]
    },
    {
     "data": {
      "application/vnd.jupyter.widget-view+json": {
       "model_id": "04bb7b264fee4899a263ba263a195b08",
       "version_major": 2,
       "version_minor": 0
      },
      "text/plain": [
       "HBox(children=(FloatProgress(value=0.0, max=595.0), HTML(value='')))"
      ]
     },
     "metadata": {},
     "output_type": "display_data"
    },
    {
     "name": "stdout",
     "output_type": "stream",
     "text": [
      "\n",
      "DATA SPLITTING: \n",
      "Rows (devices) in dataset:  595\n",
      "Rows (devices) in train subset:  416\n",
      "Rows (devices) in test subset:  179\n",
      "MODEL WITH FEATURE SELECTION:\n",
      "Best model with feature selection using CHI2 TEST\n",
      "Number of selected features:  135 (out of  180)\n",
      "HYPERPARAMETER OPTIMIZATION: \n",
      "Fitting 5 folds for each of 100 candidates, totalling 500 fits\n"
     ]
    },
    {
     "name": "stderr",
     "output_type": "stream",
     "text": [
      "[Parallel(n_jobs=-1)]: Using backend LokyBackend with 16 concurrent workers.\n",
      "[Parallel(n_jobs=-1)]: Done 152 tasks      | elapsed:    6.0s\n",
      "[Parallel(n_jobs=-1)]: Done 320 tasks      | elapsed:   14.8s\n",
      "[Parallel(n_jobs=-1)]: Done 500 out of 500 | elapsed:   24.3s finished\n"
     ]
    },
    {
     "name": "stdout",
     "output_type": "stream",
     "text": [
      "Higher Balanced Accuracy: 70.35% |     B_BASE\n",
      "\n",
      "\n",
      "DAYS OF PREDICTION:  13 | DAYS OF TRAINING DATA:   5\n",
      "DATA PREPARATION: \n",
      "Number of devices to be used:  610\n",
      "Number of failing devices in dataset: 13.93%\n",
      "Number of working devices in dataset: 86.07%\n"
     ]
    },
    {
     "data": {
      "application/vnd.jupyter.widget-view+json": {
       "model_id": "39da7689438a4e429021f637c4d4e31c",
       "version_major": 2,
       "version_minor": 0
      },
      "text/plain": [
       "HBox(children=(FloatProgress(value=0.0, max=610.0), HTML(value='')))"
      ]
     },
     "metadata": {},
     "output_type": "display_data"
    },
    {
     "name": "stdout",
     "output_type": "stream",
     "text": [
      "\n",
      "DATA SPLITTING: \n",
      "Rows (devices) in dataset:  610\n",
      "Rows (devices) in train subset:  427\n",
      "Rows (devices) in test subset:  183\n",
      "MODEL WITH FEATURE SELECTION:\n",
      "Best model with feature selection using CORRELATION\n",
      "Number of selected features:   31 (out of   45)\n",
      "HYPERPARAMETER OPTIMIZATION: \n",
      "Fitting 5 folds for each of 100 candidates, totalling 500 fits\n"
     ]
    },
    {
     "name": "stderr",
     "output_type": "stream",
     "text": [
      "[Parallel(n_jobs=-1)]: Using backend LokyBackend with 16 concurrent workers.\n",
      "[Parallel(n_jobs=-1)]: Done 151 tasks      | elapsed:    5.7s\n",
      "[Parallel(n_jobs=-1)]: Done 320 tasks      | elapsed:   13.8s\n",
      "[Parallel(n_jobs=-1)]: Done 500 out of 500 | elapsed:   22.3s finished\n"
     ]
    },
    {
     "name": "stdout",
     "output_type": "stream",
     "text": [
      "Higher Balanced Accuracy: 71.38% |     B_BASE\n",
      "\n",
      "\n",
      "DAYS OF PREDICTION:  13 | DAYS OF TRAINING DATA:   7\n",
      "DATA PREPARATION: \n",
      "Number of devices to be used:  601\n",
      "Number of failing devices in dataset: 12.65%\n",
      "Number of working devices in dataset: 87.35%\n"
     ]
    },
    {
     "data": {
      "application/vnd.jupyter.widget-view+json": {
       "model_id": "162582078ef943ff83802f80d226eee5",
       "version_major": 2,
       "version_minor": 0
      },
      "text/plain": [
       "HBox(children=(FloatProgress(value=0.0, max=601.0), HTML(value='')))"
      ]
     },
     "metadata": {},
     "output_type": "display_data"
    },
    {
     "name": "stdout",
     "output_type": "stream",
     "text": [
      "\n",
      "DATA SPLITTING: \n",
      "Rows (devices) in dataset:  601\n",
      "Rows (devices) in train subset:  420\n",
      "Rows (devices) in test subset:  181\n",
      "MODEL WITH FEATURE SELECTION:\n",
      "Best model with feature selection using CHI2 TEST\n",
      "Number of selected features:   47 (out of   63)\n",
      "HYPERPARAMETER OPTIMIZATION: \n",
      "Fitting 5 folds for each of 100 candidates, totalling 500 fits\n"
     ]
    },
    {
     "name": "stderr",
     "output_type": "stream",
     "text": [
      "[Parallel(n_jobs=-1)]: Using backend LokyBackend with 16 concurrent workers.\n",
      "[Parallel(n_jobs=-1)]: Done 151 tasks      | elapsed:    5.8s\n",
      "[Parallel(n_jobs=-1)]: Done 320 tasks      | elapsed:   13.8s\n",
      "[Parallel(n_jobs=-1)]: Done 500 out of 500 | elapsed:   22.4s finished\n"
     ]
    },
    {
     "name": "stdout",
     "output_type": "stream",
     "text": [
      "Higher Balanced Accuracy: 67.86% |     B_BASE\n",
      "\n",
      "\n",
      "DAYS OF PREDICTION:  13 | DAYS OF TRAINING DATA:  10\n",
      "DATA PREPARATION: \n",
      "Number of devices to be used:  599\n",
      "Number of failing devices in dataset: 12.35%\n",
      "Number of working devices in dataset: 87.65%\n"
     ]
    },
    {
     "data": {
      "application/vnd.jupyter.widget-view+json": {
       "model_id": "b1698543055c48e2b1604d17f72ba04b",
       "version_major": 2,
       "version_minor": 0
      },
      "text/plain": [
       "HBox(children=(FloatProgress(value=0.0, max=599.0), HTML(value='')))"
      ]
     },
     "metadata": {},
     "output_type": "display_data"
    },
    {
     "name": "stdout",
     "output_type": "stream",
     "text": [
      "\n",
      "DATA SPLITTING: \n",
      "Rows (devices) in dataset:  599\n",
      "Rows (devices) in train subset:  419\n",
      "Rows (devices) in test subset:  180\n",
      "MODEL WITH FEATURE SELECTION:\n",
      "Best model with feature selection using CORRELATION\n",
      "Number of selected features:   44 (out of   90)\n",
      "HYPERPARAMETER OPTIMIZATION: \n",
      "Fitting 5 folds for each of 100 candidates, totalling 500 fits\n"
     ]
    },
    {
     "name": "stderr",
     "output_type": "stream",
     "text": [
      "[Parallel(n_jobs=-1)]: Using backend LokyBackend with 16 concurrent workers.\n",
      "[Parallel(n_jobs=-1)]: Done 151 tasks      | elapsed:    5.9s\n",
      "[Parallel(n_jobs=-1)]: Done 320 tasks      | elapsed:   14.2s\n",
      "[Parallel(n_jobs=-1)]: Done 500 out of 500 | elapsed:   23.1s finished\n"
     ]
    },
    {
     "name": "stdout",
     "output_type": "stream",
     "text": [
      "Higher Balanced Accuracy: 71.33% |       RSCV\n",
      "\n",
      "\n",
      "DAYS OF PREDICTION:  13 | DAYS OF TRAINING DATA:  14\n",
      "DATA PREPARATION: \n",
      "Number of devices to be used:  596\n",
      "Number of failing devices in dataset: 11.91%\n",
      "Number of working devices in dataset: 88.09%\n"
     ]
    },
    {
     "data": {
      "application/vnd.jupyter.widget-view+json": {
       "model_id": "12e6322a11c64b2a8a57a5d7f236b732",
       "version_major": 2,
       "version_minor": 0
      },
      "text/plain": [
       "HBox(children=(FloatProgress(value=0.0, max=596.0), HTML(value='')))"
      ]
     },
     "metadata": {},
     "output_type": "display_data"
    },
    {
     "name": "stdout",
     "output_type": "stream",
     "text": [
      "\n",
      "DATA SPLITTING: \n",
      "Rows (devices) in dataset:  596\n",
      "Rows (devices) in train subset:  417\n",
      "Rows (devices) in test subset:  179\n",
      "MODEL WITH FEATURE SELECTION:\n",
      "Best model with feature selection using CHI2 TEST\n",
      "Number of selected features:   63 (out of  126)\n",
      "HYPERPARAMETER OPTIMIZATION: \n",
      "Fitting 5 folds for each of 100 candidates, totalling 500 fits\n"
     ]
    },
    {
     "name": "stderr",
     "output_type": "stream",
     "text": [
      "[Parallel(n_jobs=-1)]: Using backend LokyBackend with 16 concurrent workers.\n",
      "[Parallel(n_jobs=-1)]: Done 151 tasks      | elapsed:    5.7s\n",
      "[Parallel(n_jobs=-1)]: Done 320 tasks      | elapsed:   13.8s\n",
      "[Parallel(n_jobs=-1)]: Done 500 out of 500 | elapsed:   22.5s finished\n"
     ]
    },
    {
     "name": "stdout",
     "output_type": "stream",
     "text": [
      "Higher Balanced Accuracy: 73.68% | FEATURE_SELECTION\n",
      "\n",
      "\n",
      "DAYS OF PREDICTION:  13 | DAYS OF TRAINING DATA:  20\n",
      "DATA PREPARATION: \n",
      "Number of devices to be used:  595\n",
      "Number of failing devices in dataset: 11.76%\n",
      "Number of working devices in dataset: 88.24%\n"
     ]
    },
    {
     "data": {
      "application/vnd.jupyter.widget-view+json": {
       "model_id": "9f8035d50457407c90c72cc59eb27600",
       "version_major": 2,
       "version_minor": 0
      },
      "text/plain": [
       "HBox(children=(FloatProgress(value=0.0, max=595.0), HTML(value='')))"
      ]
     },
     "metadata": {},
     "output_type": "display_data"
    },
    {
     "name": "stdout",
     "output_type": "stream",
     "text": [
      "\n",
      "DATA SPLITTING: \n",
      "Rows (devices) in dataset:  595\n",
      "Rows (devices) in train subset:  416\n",
      "Rows (devices) in test subset:  179\n",
      "MODEL WITH FEATURE SELECTION:\n",
      "Best model with feature selection using CHI2 TEST\n",
      "Number of selected features:  135 (out of  180)\n",
      "HYPERPARAMETER OPTIMIZATION: \n",
      "Fitting 5 folds for each of 100 candidates, totalling 500 fits\n"
     ]
    },
    {
     "name": "stderr",
     "output_type": "stream",
     "text": [
      "[Parallel(n_jobs=-1)]: Using backend LokyBackend with 16 concurrent workers.\n",
      "[Parallel(n_jobs=-1)]: Done 152 tasks      | elapsed:    5.8s\n",
      "[Parallel(n_jobs=-1)]: Done 320 tasks      | elapsed:   14.3s\n",
      "[Parallel(n_jobs=-1)]: Done 500 out of 500 | elapsed:   23.3s finished\n"
     ]
    },
    {
     "name": "stdout",
     "output_type": "stream",
     "text": [
      "Higher Balanced Accuracy: 66.76% | FEATURE_SELECTION\n",
      "\n",
      "\n",
      "DAYS OF PREDICTION:  14 | DAYS OF TRAINING DATA:   5\n",
      "DATA PREPARATION: \n",
      "Number of devices to be used:  609\n",
      "Number of failing devices in dataset: 13.79%\n",
      "Number of working devices in dataset: 86.21%\n"
     ]
    },
    {
     "data": {
      "application/vnd.jupyter.widget-view+json": {
       "model_id": "271f7ee3227f4bcc831d548769ca2c4b",
       "version_major": 2,
       "version_minor": 0
      },
      "text/plain": [
       "HBox(children=(FloatProgress(value=0.0, max=609.0), HTML(value='')))"
      ]
     },
     "metadata": {},
     "output_type": "display_data"
    },
    {
     "name": "stdout",
     "output_type": "stream",
     "text": [
      "\n",
      "DATA SPLITTING: \n",
      "Rows (devices) in dataset:  609\n",
      "Rows (devices) in train subset:  426\n",
      "Rows (devices) in test subset:  183\n",
      "MODEL WITH FEATURE SELECTION:\n",
      "Best model with feature selection using CHI2 TEST\n",
      "Number of selected features:   11 (out of   45)\n",
      "HYPERPARAMETER OPTIMIZATION: \n",
      "Fitting 5 folds for each of 100 candidates, totalling 500 fits\n"
     ]
    },
    {
     "name": "stderr",
     "output_type": "stream",
     "text": [
      "[Parallel(n_jobs=-1)]: Using backend LokyBackend with 16 concurrent workers.\n",
      "[Parallel(n_jobs=-1)]: Done 151 tasks      | elapsed:    5.6s\n",
      "[Parallel(n_jobs=-1)]: Done 320 tasks      | elapsed:   13.4s\n",
      "[Parallel(n_jobs=-1)]: Done 500 out of 500 | elapsed:   21.6s finished\n"
     ]
    },
    {
     "name": "stdout",
     "output_type": "stream",
     "text": [
      "Higher Balanced Accuracy: 73.43% | FEATURE_SELECTION\n",
      "\n",
      "\n",
      "DAYS OF PREDICTION:  14 | DAYS OF TRAINING DATA:   7\n",
      "DATA PREPARATION: \n",
      "Number of devices to be used:  600\n",
      "Number of failing devices in dataset: 12.50%\n",
      "Number of working devices in dataset: 87.50%\n"
     ]
    },
    {
     "data": {
      "application/vnd.jupyter.widget-view+json": {
       "model_id": "bc72f0884f1a4f319c32b760260795c0",
       "version_major": 2,
       "version_minor": 0
      },
      "text/plain": [
       "HBox(children=(FloatProgress(value=0.0, max=600.0), HTML(value='')))"
      ]
     },
     "metadata": {},
     "output_type": "display_data"
    },
    {
     "name": "stdout",
     "output_type": "stream",
     "text": [
      "\n",
      "DATA SPLITTING: \n",
      "Rows (devices) in dataset:  600\n",
      "Rows (devices) in train subset:  420\n",
      "Rows (devices) in test subset:  180\n",
      "MODEL WITH FEATURE SELECTION:\n",
      "Best model with feature selection using CHI2 TEST\n",
      "Number of selected features:   31 (out of   63)\n",
      "HYPERPARAMETER OPTIMIZATION: \n",
      "Fitting 5 folds for each of 100 candidates, totalling 500 fits\n"
     ]
    },
    {
     "name": "stderr",
     "output_type": "stream",
     "text": [
      "[Parallel(n_jobs=-1)]: Using backend LokyBackend with 16 concurrent workers.\n",
      "[Parallel(n_jobs=-1)]: Done 151 tasks      | elapsed:    5.7s\n",
      "[Parallel(n_jobs=-1)]: Done 320 tasks      | elapsed:   13.8s\n"
     ]
    },
    {
     "name": "stdout",
     "output_type": "stream",
     "text": [
      "Higher Balanced Accuracy: 74.04% |     B_BASE\n",
      "\n",
      "\n",
      "DAYS OF PREDICTION:  14 | DAYS OF TRAINING DATA:  10\n",
      "DATA PREPARATION: \n",
      "Number of devices to be used:  597\n",
      "Number of failing devices in dataset: 12.06%\n",
      "Number of working devices in dataset: 87.94%\n"
     ]
    },
    {
     "name": "stderr",
     "output_type": "stream",
     "text": [
      "[Parallel(n_jobs=-1)]: Done 500 out of 500 | elapsed:   22.4s finished\n"
     ]
    },
    {
     "data": {
      "application/vnd.jupyter.widget-view+json": {
       "model_id": "53da8da7963f4352b208c7ea78bf4d4e",
       "version_major": 2,
       "version_minor": 0
      },
      "text/plain": [
       "HBox(children=(FloatProgress(value=0.0, max=597.0), HTML(value='')))"
      ]
     },
     "metadata": {},
     "output_type": "display_data"
    },
    {
     "name": "stdout",
     "output_type": "stream",
     "text": [
      "\n",
      "DATA SPLITTING: \n",
      "Rows (devices) in dataset:  597\n",
      "Rows (devices) in train subset:  417\n",
      "Rows (devices) in test subset:  180\n",
      "MODEL WITH FEATURE SELECTION:\n",
      "Best model with feature selection using CORRELATION\n",
      "Number of selected features:   49 (out of   90)\n",
      "HYPERPARAMETER OPTIMIZATION: \n",
      "Fitting 5 folds for each of 100 candidates, totalling 500 fits\n"
     ]
    },
    {
     "name": "stderr",
     "output_type": "stream",
     "text": [
      "[Parallel(n_jobs=-1)]: Using backend LokyBackend with 16 concurrent workers.\n",
      "[Parallel(n_jobs=-1)]: Done 151 tasks      | elapsed:    5.8s\n",
      "[Parallel(n_jobs=-1)]: Done 320 tasks      | elapsed:   14.1s\n",
      "[Parallel(n_jobs=-1)]: Done 500 out of 500 | elapsed:   22.9s finished\n"
     ]
    },
    {
     "name": "stdout",
     "output_type": "stream",
     "text": [
      "Higher Balanced Accuracy: 72.19% |     B_BASE\n",
      "\n",
      "\n",
      "DAYS OF PREDICTION:  14 | DAYS OF TRAINING DATA:  14\n",
      "DATA PREPARATION: \n",
      "Number of devices to be used:  596\n",
      "Number of failing devices in dataset: 11.91%\n",
      "Number of working devices in dataset: 88.09%\n"
     ]
    },
    {
     "data": {
      "application/vnd.jupyter.widget-view+json": {
       "model_id": "50c94351728f4407bf58db10960e5f71",
       "version_major": 2,
       "version_minor": 0
      },
      "text/plain": [
       "HBox(children=(FloatProgress(value=0.0, max=596.0), HTML(value='')))"
      ]
     },
     "metadata": {},
     "output_type": "display_data"
    },
    {
     "name": "stdout",
     "output_type": "stream",
     "text": [
      "\n",
      "DATA SPLITTING: \n",
      "Rows (devices) in dataset:  596\n",
      "Rows (devices) in train subset:  417\n",
      "Rows (devices) in test subset:  179\n",
      "MODEL WITH FEATURE SELECTION:\n",
      "Best model with feature selection using CORRELATION\n",
      "Number of selected features:   60 (out of  126)\n",
      "HYPERPARAMETER OPTIMIZATION: \n",
      "Fitting 5 folds for each of 100 candidates, totalling 500 fits\n"
     ]
    },
    {
     "name": "stderr",
     "output_type": "stream",
     "text": [
      "[Parallel(n_jobs=-1)]: Using backend LokyBackend with 16 concurrent workers.\n",
      "[Parallel(n_jobs=-1)]: Done 151 tasks      | elapsed:    5.7s\n",
      "[Parallel(n_jobs=-1)]: Done 320 tasks      | elapsed:   13.6s\n",
      "[Parallel(n_jobs=-1)]: Done 500 out of 500 | elapsed:   22.1s finished\n"
     ]
    },
    {
     "name": "stdout",
     "output_type": "stream",
     "text": [
      "Higher Balanced Accuracy: 73.68% |       RSCV\n",
      "\n",
      "\n",
      "DAYS OF PREDICTION:  14 | DAYS OF TRAINING DATA:  20\n",
      "DATA PREPARATION: \n",
      "Number of devices to be used:  593\n",
      "Number of failing devices in dataset: 11.47%\n",
      "Number of working devices in dataset: 88.53%\n"
     ]
    },
    {
     "data": {
      "application/vnd.jupyter.widget-view+json": {
       "model_id": "2eccc3a6b3574ae1af0364a9df69dae5",
       "version_major": 2,
       "version_minor": 0
      },
      "text/plain": [
       "HBox(children=(FloatProgress(value=0.0, max=593.0), HTML(value='')))"
      ]
     },
     "metadata": {},
     "output_type": "display_data"
    },
    {
     "name": "stdout",
     "output_type": "stream",
     "text": [
      "\n",
      "DATA SPLITTING: \n",
      "Rows (devices) in dataset:  593\n",
      "Rows (devices) in train subset:  415\n",
      "Rows (devices) in test subset:  178\n",
      "MODEL WITH FEATURE SELECTION:\n",
      "Best model with feature selection using CHI2 TEST\n",
      "Number of selected features:   90 (out of  180)\n",
      "HYPERPARAMETER OPTIMIZATION: \n",
      "Fitting 5 folds for each of 100 candidates, totalling 500 fits\n"
     ]
    },
    {
     "name": "stderr",
     "output_type": "stream",
     "text": [
      "[Parallel(n_jobs=-1)]: Using backend LokyBackend with 16 concurrent workers.\n",
      "[Parallel(n_jobs=-1)]: Done 151 tasks      | elapsed:    5.8s\n",
      "[Parallel(n_jobs=-1)]: Done 320 tasks      | elapsed:   13.9s\n",
      "[Parallel(n_jobs=-1)]: Done 500 out of 500 | elapsed:   22.7s finished\n"
     ]
    },
    {
     "name": "stdout",
     "output_type": "stream",
     "text": [
      "Higher Balanced Accuracy: 61.42% | FEATURE_SELECTION\n",
      "BEST MODEL: \n",
      "MODEL STRATEGY:  FEATURE_SELECTION\n",
      "BALANCED ACCURACY: 88.51%\n",
      "DAYS OF PREDICTION:  2\n",
      "DAYS OF HISOTORICAL DATA:  14\n"
     ]
    }
   ],
   "source": [
    "list_days_of_training_data = [5, 7, 10, 14, 20]\n",
    "list_days_of_prediction = [d for d in range(1,15)]\n",
    "\n",
    "search_best_model(list_days_of_training_data=list_days_of_training_data,\n",
    "                  list_days_of_prediction=list_days_of_prediction\n",
    "                 )"
   ]
  },
  {
   "cell_type": "markdown",
   "metadata": {},
   "source": [
    "<a id='end_of_notebook'></a>"
   ]
  },
  {
   "cell_type": "code",
   "execution_count": null,
   "metadata": {},
   "outputs": [],
   "source": []
  }
 ],
 "metadata": {
  "kernelspec": {
   "display_name": "Python 3",
   "language": "python",
   "name": "python3"
  },
  "language_info": {
   "codemirror_mode": {
    "name": "ipython",
    "version": 3
   },
   "file_extension": ".py",
   "mimetype": "text/x-python",
   "name": "python",
   "nbconvert_exporter": "python",
   "pygments_lexer": "ipython3",
   "version": "3.7.7"
  }
 },
 "nbformat": 4,
 "nbformat_minor": 4
}
